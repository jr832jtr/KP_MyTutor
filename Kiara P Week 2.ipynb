{
 "cells": [
  {
   "cell_type": "markdown",
   "metadata": {},
   "source": [
    "# Handling and Plotting Real Data"
   ]
  },
  {
   "cell_type": "markdown",
   "metadata": {},
   "source": [
    "# 1. Structuring a dataset"
   ]
  },
  {
   "cell_type": "markdown",
   "metadata": {},
   "source": [
    "### 1.1 Importing an Excel/csv File"
   ]
  },
  {
   "cell_type": "markdown",
   "metadata": {},
   "source": [
    "To import a csv or an Excel file, use the ```DataFrame.read_excel()``` or ```DataFrame.read_csv()``` method, inserting the file path (relative or direct) as a string as the argument. From here we will work with datasets from a bunch of exercise activities:"
   ]
  },
  {
   "cell_type": "code",
   "execution_count": 533,
   "metadata": {},
   "outputs": [],
   "source": [
    "import pandas as pd\n",
    "import numpy as np\n",
    "\n",
    "Running_df = pd.read_csv(\"Running.csv\")\n",
    "Cycling_df = pd.read_csv(\"Cycling.csv\")\n",
    "Walking_df = pd.read_csv(\"Walking.csv\")\n",
    "Weights_df = pd.read_csv(\"Weights.csv\")\n",
    "\n",
    "Activity_DataFrames = [Running_df, Cycling_df, Walking_df, Weights_df]"
   ]
  },
  {
   "cell_type": "markdown",
   "metadata": {},
   "source": [
    "For csv files it maybe necessary to specify how the data is delimited, using the ```sep=``` argument."
   ]
  },
  {
   "cell_type": "code",
   "execution_count": 534,
   "metadata": {},
   "outputs": [
    {
     "data": {
      "text/html": [
       "<div>\n",
       "<style scoped>\n",
       "    .dataframe tbody tr th:only-of-type {\n",
       "        vertical-align: middle;\n",
       "    }\n",
       "\n",
       "    .dataframe tbody tr th {\n",
       "        vertical-align: top;\n",
       "    }\n",
       "\n",
       "    .dataframe thead th {\n",
       "        text-align: right;\n",
       "    }\n",
       "</style>\n",
       "<table border=\"1\" class=\"dataframe\">\n",
       "  <thead>\n",
       "    <tr style=\"text-align: right;\">\n",
       "      <th></th>\n",
       "      <th>Activity Type</th>\n",
       "      <th>Date</th>\n",
       "      <th>Favorite</th>\n",
       "      <th>Title</th>\n",
       "      <th>Distance</th>\n",
       "      <th>Calories</th>\n",
       "      <th>Time</th>\n",
       "      <th>Avg HR</th>\n",
       "      <th>Max HR</th>\n",
       "      <th>Aerobic TE</th>\n",
       "      <th>...</th>\n",
       "      <th>Min Temp</th>\n",
       "      <th>Surface Interval</th>\n",
       "      <th>Decompression</th>\n",
       "      <th>Best Lap Time</th>\n",
       "      <th>Number of Laps</th>\n",
       "      <th>Max Temp</th>\n",
       "      <th>Moving Time</th>\n",
       "      <th>Elapsed Time</th>\n",
       "      <th>Min Elevation</th>\n",
       "      <th>Max Elevation</th>\n",
       "    </tr>\n",
       "  </thead>\n",
       "  <tbody>\n",
       "    <tr>\n",
       "      <th>0</th>\n",
       "      <td>Running</td>\n",
       "      <td>2021-08-15 18:14:06</td>\n",
       "      <td>False</td>\n",
       "      <td>New Forest Running</td>\n",
       "      <td>8.93</td>\n",
       "      <td>673</td>\n",
       "      <td>00:45:01</td>\n",
       "      <td>159</td>\n",
       "      <td>181</td>\n",
       "      <td>4.0</td>\n",
       "      <td>...</td>\n",
       "      <td>0.0</td>\n",
       "      <td>0:00</td>\n",
       "      <td>No</td>\n",
       "      <td>00:00.95</td>\n",
       "      <td>13</td>\n",
       "      <td>0.0</td>\n",
       "      <td>00:00:00</td>\n",
       "      <td>00:45:43</td>\n",
       "      <td>43</td>\n",
       "      <td>55</td>\n",
       "    </tr>\n",
       "    <tr>\n",
       "      <th>1</th>\n",
       "      <td>Running</td>\n",
       "      <td>2021-08-13 17:55:40</td>\n",
       "      <td>False</td>\n",
       "      <td>New Forest Running</td>\n",
       "      <td>7.48</td>\n",
       "      <td>566</td>\n",
       "      <td>00:41:01</td>\n",
       "      <td>148</td>\n",
       "      <td>166</td>\n",
       "      <td>3.2</td>\n",
       "      <td>...</td>\n",
       "      <td>0.0</td>\n",
       "      <td>0:00</td>\n",
       "      <td>No</td>\n",
       "      <td>00:01.17</td>\n",
       "      <td>9</td>\n",
       "      <td>0.0</td>\n",
       "      <td>00:00:00</td>\n",
       "      <td>00:41:17</td>\n",
       "      <td>19</td>\n",
       "      <td>52</td>\n",
       "    </tr>\n",
       "    <tr>\n",
       "      <th>2</th>\n",
       "      <td>Running</td>\n",
       "      <td>2021-08-11 16:45:15</td>\n",
       "      <td>False</td>\n",
       "      <td>New Forest Running</td>\n",
       "      <td>6.71</td>\n",
       "      <td>499</td>\n",
       "      <td>00:37:01</td>\n",
       "      <td>145</td>\n",
       "      <td>162</td>\n",
       "      <td>3.0</td>\n",
       "      <td>...</td>\n",
       "      <td>0.0</td>\n",
       "      <td>0:00</td>\n",
       "      <td>No</td>\n",
       "      <td>00:01.23</td>\n",
       "      <td>8</td>\n",
       "      <td>0.0</td>\n",
       "      <td>00:00:00</td>\n",
       "      <td>00:37:07</td>\n",
       "      <td>23</td>\n",
       "      <td>57</td>\n",
       "    </tr>\n",
       "    <tr>\n",
       "      <th>3</th>\n",
       "      <td>Running</td>\n",
       "      <td>2021-08-09 18:29:54</td>\n",
       "      <td>False</td>\n",
       "      <td>New Forest Running</td>\n",
       "      <td>3.69</td>\n",
       "      <td>266</td>\n",
       "      <td>00:24:01</td>\n",
       "      <td>126</td>\n",
       "      <td>135</td>\n",
       "      <td>2.0</td>\n",
       "      <td>...</td>\n",
       "      <td>0.0</td>\n",
       "      <td>0:00</td>\n",
       "      <td>No</td>\n",
       "      <td>00:01.12</td>\n",
       "      <td>5</td>\n",
       "      <td>0.0</td>\n",
       "      <td>00:23:46</td>\n",
       "      <td>00:24:58</td>\n",
       "      <td>46</td>\n",
       "      <td>57</td>\n",
       "    </tr>\n",
       "    <tr>\n",
       "      <th>4</th>\n",
       "      <td>Running</td>\n",
       "      <td>2021-08-08 15:41:30</td>\n",
       "      <td>False</td>\n",
       "      <td>New Forest Running</td>\n",
       "      <td>9.57</td>\n",
       "      <td>738</td>\n",
       "      <td>00:47:00</td>\n",
       "      <td>167</td>\n",
       "      <td>183</td>\n",
       "      <td>4.4</td>\n",
       "      <td>...</td>\n",
       "      <td>0.0</td>\n",
       "      <td>0:00</td>\n",
       "      <td>No</td>\n",
       "      <td>00:00.38</td>\n",
       "      <td>11</td>\n",
       "      <td>0.0</td>\n",
       "      <td>00:46:55</td>\n",
       "      <td>00:47:16</td>\n",
       "      <td>46</td>\n",
       "      <td>66</td>\n",
       "    </tr>\n",
       "  </tbody>\n",
       "</table>\n",
       "<p>5 rows × 33 columns</p>\n",
       "</div>"
      ],
      "text/plain": [
       "  Activity Type                 Date  Favorite               Title  Distance  \\\n",
       "0       Running  2021-08-15 18:14:06     False  New Forest Running      8.93   \n",
       "1       Running  2021-08-13 17:55:40     False  New Forest Running      7.48   \n",
       "2       Running  2021-08-11 16:45:15     False  New Forest Running      6.71   \n",
       "3       Running  2021-08-09 18:29:54     False  New Forest Running      3.69   \n",
       "4       Running  2021-08-08 15:41:30     False  New Forest Running      9.57   \n",
       "\n",
       "  Calories      Time Avg HR Max HR Aerobic TE  ... Min Temp Surface Interval  \\\n",
       "0      673  00:45:01    159    181        4.0  ...      0.0             0:00   \n",
       "1      566  00:41:01    148    166        3.2  ...      0.0             0:00   \n",
       "2      499  00:37:01    145    162        3.0  ...      0.0             0:00   \n",
       "3      266  00:24:01    126    135        2.0  ...      0.0             0:00   \n",
       "4      738  00:47:00    167    183        4.4  ...      0.0             0:00   \n",
       "\n",
       "  Decompression Best Lap Time Number of Laps Max Temp  Moving Time  \\\n",
       "0            No      00:00.95             13      0.0     00:00:00   \n",
       "1            No      00:01.17              9      0.0     00:00:00   \n",
       "2            No      00:01.23              8      0.0     00:00:00   \n",
       "3            No      00:01.12              5      0.0     00:23:46   \n",
       "4            No      00:00.38             11      0.0     00:46:55   \n",
       "\n",
       "   Elapsed Time  Min Elevation  Max Elevation  \n",
       "0      00:45:43             43             55  \n",
       "1      00:41:17             19             52  \n",
       "2      00:37:07             23             57  \n",
       "3      00:24:58             46             57  \n",
       "4      00:47:16             46             66  \n",
       "\n",
       "[5 rows x 33 columns]"
      ]
     },
     "execution_count": 534,
     "metadata": {},
     "output_type": "execute_result"
    }
   ],
   "source": [
    "Running_df.head()"
   ]
  },
  {
   "cell_type": "markdown",
   "metadata": {},
   "source": [
    "The ```DataFrame.head()``` method just outputs the top 5 rows of the DataFrame, which is convenient for brevity."
   ]
  },
  {
   "cell_type": "markdown",
   "metadata": {},
   "source": [
    "There are many important arguments for this methods that can help with organising data and how it is displayed:"
   ]
  },
  {
   "cell_type": "markdown",
   "metadata": {},
   "source": [
    "#### 1.1.1 header ="
   ]
  },
  {
   "cell_type": "markdown",
   "metadata": {},
   "source": [
    "This sets the column names to values from the rows. For example if I wanted the values of row 0 I would set header = 1 (header = 0 corresponds to the first line of the **file** - the column names.). All data before this row number is excluded, and the DataFrame can be considered to start from the line indicated by the header argument."
   ]
  },
  {
   "cell_type": "markdown",
   "metadata": {},
   "source": [
    "#### 1.1.2 index_col ="
   ]
  },
  {
   "cell_type": "markdown",
   "metadata": {},
   "source": [
    "Does the same as ```header=``` but for rows instead of columns."
   ]
  },
  {
   "cell_type": "markdown",
   "metadata": {},
   "source": [
    "#### 1.1.3 names = "
   ]
  },
  {
   "cell_type": "markdown",
   "metadata": {},
   "source": [
    "This allows you to change the column names, specified as a list. If a header is already part of the data you can get rid of it, inplace of your own, by setting ```header=0``` and specifying other column names."
   ]
  },
  {
   "cell_type": "markdown",
   "metadata": {},
   "source": [
    "#### 1.1.4 usecols = "
   ]
  },
  {
   "cell_type": "markdown",
   "metadata": {},
   "source": [
    "This allows you to select a subset of columns to upload. It can be as a list or a callable function. Using a function is quicker and uses less memory. The list must be of integers (corresponding to column index) or of strings that correspond to column names. For example:"
   ]
  },
  {
   "cell_type": "code",
   "execution_count": 535,
   "metadata": {},
   "outputs": [
    {
     "data": {
      "text/html": [
       "<div>\n",
       "<style scoped>\n",
       "    .dataframe tbody tr th:only-of-type {\n",
       "        vertical-align: middle;\n",
       "    }\n",
       "\n",
       "    .dataframe tbody tr th {\n",
       "        vertical-align: top;\n",
       "    }\n",
       "\n",
       "    .dataframe thead th {\n",
       "        text-align: right;\n",
       "    }\n",
       "</style>\n",
       "<table border=\"1\" class=\"dataframe\">\n",
       "  <thead>\n",
       "    <tr style=\"text-align: right;\">\n",
       "      <th></th>\n",
       "      <th>Date</th>\n",
       "      <th>Distance</th>\n",
       "    </tr>\n",
       "  </thead>\n",
       "  <tbody>\n",
       "    <tr>\n",
       "      <th>0</th>\n",
       "      <td>2021-08-15 18:14:06</td>\n",
       "      <td>8.93</td>\n",
       "    </tr>\n",
       "    <tr>\n",
       "      <th>1</th>\n",
       "      <td>2021-08-13 17:55:40</td>\n",
       "      <td>7.48</td>\n",
       "    </tr>\n",
       "    <tr>\n",
       "      <th>2</th>\n",
       "      <td>2021-08-11 16:45:15</td>\n",
       "      <td>6.71</td>\n",
       "    </tr>\n",
       "    <tr>\n",
       "      <th>3</th>\n",
       "      <td>2021-08-09 18:29:54</td>\n",
       "      <td>3.69</td>\n",
       "    </tr>\n",
       "    <tr>\n",
       "      <th>4</th>\n",
       "      <td>2021-08-08 15:41:30</td>\n",
       "      <td>9.57</td>\n",
       "    </tr>\n",
       "  </tbody>\n",
       "</table>\n",
       "</div>"
      ],
      "text/plain": [
       "                  Date  Distance\n",
       "0  2021-08-15 18:14:06      8.93\n",
       "1  2021-08-13 17:55:40      7.48\n",
       "2  2021-08-11 16:45:15      6.71\n",
       "3  2021-08-09 18:29:54      3.69\n",
       "4  2021-08-08 15:41:30      9.57"
      ]
     },
     "execution_count": 535,
     "metadata": {},
     "output_type": "execute_result"
    }
   ],
   "source": [
    "Running_df = pd.read_csv(\"Running.csv\", usecols=lambda x:x in ['Date', 'Distance'])\n",
    "Running_df.head()"
   ]
  },
  {
   "cell_type": "code",
   "execution_count": 536,
   "metadata": {},
   "outputs": [],
   "source": [
    "Running_df = pd.read_csv(\"Running.csv\") # Reload original file."
   ]
  },
  {
   "cell_type": "markdown",
   "metadata": {},
   "source": [
    "#### 1.1.5 skiprows ="
   ]
  },
  {
   "cell_type": "markdown",
   "metadata": {},
   "source": [
    "Does the same as above but for rows to skip and not columns."
   ]
  },
  {
   "cell_type": "markdown",
   "metadata": {},
   "source": [
    "#### 1.1.6 dtype ="
   ]
  },
  {
   "cell_type": "markdown",
   "metadata": {},
   "source": [
    "This allows you to specify datatypes of different columns (e.g. int/int32/float) - useful so you don't have to do this after loading. This only works if the column values are of a consistent format i.e. all numbers. This works if extensive cleaing of the data is not needed. "
   ]
  },
  {
   "cell_type": "markdown",
   "metadata": {},
   "source": [
    "#### 1.1.7 nrows ="
   ]
  },
  {
   "cell_type": "markdown",
   "metadata": {},
   "source": [
    "Number of rows to read, i.e. rows 0 to 10. This is useful if you don't want or need to use the whole dataset."
   ]
  },
  {
   "cell_type": "markdown",
   "metadata": {},
   "source": [
    "### 1.2 Cleaning the data"
   ]
  },
  {
   "cell_type": "markdown",
   "metadata": {},
   "source": [
    "To effectively clean the data you need some sort of idea of what you want to do with it. So, let's look at Running_df again:"
   ]
  },
  {
   "cell_type": "code",
   "execution_count": 537,
   "metadata": {},
   "outputs": [
    {
     "data": {
      "text/html": [
       "<div>\n",
       "<style scoped>\n",
       "    .dataframe tbody tr th:only-of-type {\n",
       "        vertical-align: middle;\n",
       "    }\n",
       "\n",
       "    .dataframe tbody tr th {\n",
       "        vertical-align: top;\n",
       "    }\n",
       "\n",
       "    .dataframe thead th {\n",
       "        text-align: right;\n",
       "    }\n",
       "</style>\n",
       "<table border=\"1\" class=\"dataframe\">\n",
       "  <thead>\n",
       "    <tr style=\"text-align: right;\">\n",
       "      <th></th>\n",
       "      <th>Activity Type</th>\n",
       "      <th>Date</th>\n",
       "      <th>Favorite</th>\n",
       "      <th>Title</th>\n",
       "      <th>Distance</th>\n",
       "      <th>Calories</th>\n",
       "      <th>Time</th>\n",
       "      <th>Avg HR</th>\n",
       "      <th>Max HR</th>\n",
       "      <th>Aerobic TE</th>\n",
       "      <th>...</th>\n",
       "      <th>Min Temp</th>\n",
       "      <th>Surface Interval</th>\n",
       "      <th>Decompression</th>\n",
       "      <th>Best Lap Time</th>\n",
       "      <th>Number of Laps</th>\n",
       "      <th>Max Temp</th>\n",
       "      <th>Moving Time</th>\n",
       "      <th>Elapsed Time</th>\n",
       "      <th>Min Elevation</th>\n",
       "      <th>Max Elevation</th>\n",
       "    </tr>\n",
       "  </thead>\n",
       "  <tbody>\n",
       "    <tr>\n",
       "      <th>0</th>\n",
       "      <td>Running</td>\n",
       "      <td>2021-08-15 18:14:06</td>\n",
       "      <td>False</td>\n",
       "      <td>New Forest Running</td>\n",
       "      <td>8.93</td>\n",
       "      <td>673</td>\n",
       "      <td>00:45:01</td>\n",
       "      <td>159</td>\n",
       "      <td>181</td>\n",
       "      <td>4.0</td>\n",
       "      <td>...</td>\n",
       "      <td>0.0</td>\n",
       "      <td>0:00</td>\n",
       "      <td>No</td>\n",
       "      <td>00:00.95</td>\n",
       "      <td>13</td>\n",
       "      <td>0.0</td>\n",
       "      <td>00:00:00</td>\n",
       "      <td>00:45:43</td>\n",
       "      <td>43</td>\n",
       "      <td>55</td>\n",
       "    </tr>\n",
       "    <tr>\n",
       "      <th>1</th>\n",
       "      <td>Running</td>\n",
       "      <td>2021-08-13 17:55:40</td>\n",
       "      <td>False</td>\n",
       "      <td>New Forest Running</td>\n",
       "      <td>7.48</td>\n",
       "      <td>566</td>\n",
       "      <td>00:41:01</td>\n",
       "      <td>148</td>\n",
       "      <td>166</td>\n",
       "      <td>3.2</td>\n",
       "      <td>...</td>\n",
       "      <td>0.0</td>\n",
       "      <td>0:00</td>\n",
       "      <td>No</td>\n",
       "      <td>00:01.17</td>\n",
       "      <td>9</td>\n",
       "      <td>0.0</td>\n",
       "      <td>00:00:00</td>\n",
       "      <td>00:41:17</td>\n",
       "      <td>19</td>\n",
       "      <td>52</td>\n",
       "    </tr>\n",
       "    <tr>\n",
       "      <th>2</th>\n",
       "      <td>Running</td>\n",
       "      <td>2021-08-11 16:45:15</td>\n",
       "      <td>False</td>\n",
       "      <td>New Forest Running</td>\n",
       "      <td>6.71</td>\n",
       "      <td>499</td>\n",
       "      <td>00:37:01</td>\n",
       "      <td>145</td>\n",
       "      <td>162</td>\n",
       "      <td>3.0</td>\n",
       "      <td>...</td>\n",
       "      <td>0.0</td>\n",
       "      <td>0:00</td>\n",
       "      <td>No</td>\n",
       "      <td>00:01.23</td>\n",
       "      <td>8</td>\n",
       "      <td>0.0</td>\n",
       "      <td>00:00:00</td>\n",
       "      <td>00:37:07</td>\n",
       "      <td>23</td>\n",
       "      <td>57</td>\n",
       "    </tr>\n",
       "    <tr>\n",
       "      <th>3</th>\n",
       "      <td>Running</td>\n",
       "      <td>2021-08-09 18:29:54</td>\n",
       "      <td>False</td>\n",
       "      <td>New Forest Running</td>\n",
       "      <td>3.69</td>\n",
       "      <td>266</td>\n",
       "      <td>00:24:01</td>\n",
       "      <td>126</td>\n",
       "      <td>135</td>\n",
       "      <td>2.0</td>\n",
       "      <td>...</td>\n",
       "      <td>0.0</td>\n",
       "      <td>0:00</td>\n",
       "      <td>No</td>\n",
       "      <td>00:01.12</td>\n",
       "      <td>5</td>\n",
       "      <td>0.0</td>\n",
       "      <td>00:23:46</td>\n",
       "      <td>00:24:58</td>\n",
       "      <td>46</td>\n",
       "      <td>57</td>\n",
       "    </tr>\n",
       "    <tr>\n",
       "      <th>4</th>\n",
       "      <td>Running</td>\n",
       "      <td>2021-08-08 15:41:30</td>\n",
       "      <td>False</td>\n",
       "      <td>New Forest Running</td>\n",
       "      <td>9.57</td>\n",
       "      <td>738</td>\n",
       "      <td>00:47:00</td>\n",
       "      <td>167</td>\n",
       "      <td>183</td>\n",
       "      <td>4.4</td>\n",
       "      <td>...</td>\n",
       "      <td>0.0</td>\n",
       "      <td>0:00</td>\n",
       "      <td>No</td>\n",
       "      <td>00:00.38</td>\n",
       "      <td>11</td>\n",
       "      <td>0.0</td>\n",
       "      <td>00:46:55</td>\n",
       "      <td>00:47:16</td>\n",
       "      <td>46</td>\n",
       "      <td>66</td>\n",
       "    </tr>\n",
       "  </tbody>\n",
       "</table>\n",
       "<p>5 rows × 33 columns</p>\n",
       "</div>"
      ],
      "text/plain": [
       "  Activity Type                 Date  Favorite               Title  Distance  \\\n",
       "0       Running  2021-08-15 18:14:06     False  New Forest Running      8.93   \n",
       "1       Running  2021-08-13 17:55:40     False  New Forest Running      7.48   \n",
       "2       Running  2021-08-11 16:45:15     False  New Forest Running      6.71   \n",
       "3       Running  2021-08-09 18:29:54     False  New Forest Running      3.69   \n",
       "4       Running  2021-08-08 15:41:30     False  New Forest Running      9.57   \n",
       "\n",
       "  Calories      Time Avg HR Max HR Aerobic TE  ... Min Temp Surface Interval  \\\n",
       "0      673  00:45:01    159    181        4.0  ...      0.0             0:00   \n",
       "1      566  00:41:01    148    166        3.2  ...      0.0             0:00   \n",
       "2      499  00:37:01    145    162        3.0  ...      0.0             0:00   \n",
       "3      266  00:24:01    126    135        2.0  ...      0.0             0:00   \n",
       "4      738  00:47:00    167    183        4.4  ...      0.0             0:00   \n",
       "\n",
       "  Decompression Best Lap Time Number of Laps Max Temp  Moving Time  \\\n",
       "0            No      00:00.95             13      0.0     00:00:00   \n",
       "1            No      00:01.17              9      0.0     00:00:00   \n",
       "2            No      00:01.23              8      0.0     00:00:00   \n",
       "3            No      00:01.12              5      0.0     00:23:46   \n",
       "4            No      00:00.38             11      0.0     00:46:55   \n",
       "\n",
       "   Elapsed Time  Min Elevation  Max Elevation  \n",
       "0      00:45:43             43             55  \n",
       "1      00:41:17             19             52  \n",
       "2      00:37:07             23             57  \n",
       "3      00:24:58             46             57  \n",
       "4      00:47:16             46             66  \n",
       "\n",
       "[5 rows x 33 columns]"
      ]
     },
     "execution_count": 537,
     "metadata": {},
     "output_type": "execute_result"
    }
   ],
   "source": [
    "Running_df.head()"
   ]
  },
  {
   "cell_type": "markdown",
   "metadata": {},
   "source": [
    "There are loads of columns here, not all of which I want to use so I will drop some. For example, the 'Activity Type' column is redundant as I already know it's for running."
   ]
  },
  {
   "cell_type": "code",
   "execution_count": 538,
   "metadata": {},
   "outputs": [
    {
     "data": {
      "text/plain": [
       "array(['Activity Type', 'Date', 'Favorite', 'Title', 'Distance',\n",
       "       'Calories', 'Time', 'Avg HR', 'Max HR', 'Aerobic TE',\n",
       "       'Avg Run Cadence', 'Max Run Cadence', 'Avg Pace', 'Best Pace',\n",
       "       'Elev Gain', 'Elev Loss', 'Avg Stride Length',\n",
       "       'Avg Vertical Ratio', 'Avg Vertical Oscillation',\n",
       "       'Training Stress Score®', 'Grit', 'Flow', 'Dive Time', 'Min Temp',\n",
       "       'Surface Interval', 'Decompression', 'Best Lap Time',\n",
       "       'Number of Laps', 'Max Temp', 'Moving Time', 'Elapsed Time',\n",
       "       'Min Elevation', 'Max Elevation'], dtype=object)"
      ]
     },
     "execution_count": 538,
     "metadata": {},
     "output_type": "execute_result"
    }
   ],
   "source": [
    "Running_df.columns.values"
   ]
  },
  {
   "cell_type": "code",
   "execution_count": 539,
   "metadata": {},
   "outputs": [
    {
     "data": {
      "text/html": [
       "<div>\n",
       "<style scoped>\n",
       "    .dataframe tbody tr th:only-of-type {\n",
       "        vertical-align: middle;\n",
       "    }\n",
       "\n",
       "    .dataframe tbody tr th {\n",
       "        vertical-align: top;\n",
       "    }\n",
       "\n",
       "    .dataframe thead th {\n",
       "        text-align: right;\n",
       "    }\n",
       "</style>\n",
       "<table border=\"1\" class=\"dataframe\">\n",
       "  <thead>\n",
       "    <tr style=\"text-align: right;\">\n",
       "      <th></th>\n",
       "      <th>Date</th>\n",
       "      <th>Title</th>\n",
       "      <th>Distance</th>\n",
       "      <th>Calories</th>\n",
       "      <th>Time</th>\n",
       "      <th>Avg HR</th>\n",
       "      <th>Max HR</th>\n",
       "      <th>Aerobic TE</th>\n",
       "      <th>Avg Run Cadence</th>\n",
       "      <th>Max Run Cadence</th>\n",
       "      <th>Avg Pace</th>\n",
       "      <th>Best Pace</th>\n",
       "      <th>Elev Gain</th>\n",
       "      <th>Elev Loss</th>\n",
       "      <th>Avg Stride Length</th>\n",
       "      <th>Best Lap Time</th>\n",
       "      <th>Moving Time</th>\n",
       "      <th>Elapsed Time</th>\n",
       "    </tr>\n",
       "  </thead>\n",
       "  <tbody>\n",
       "    <tr>\n",
       "      <th>0</th>\n",
       "      <td>2021-08-15 18:14:06</td>\n",
       "      <td>New Forest Running</td>\n",
       "      <td>8.93</td>\n",
       "      <td>673</td>\n",
       "      <td>00:45:01</td>\n",
       "      <td>159</td>\n",
       "      <td>181</td>\n",
       "      <td>4.0</td>\n",
       "      <td>149</td>\n",
       "      <td>165</td>\n",
       "      <td>5:02</td>\n",
       "      <td>4:10</td>\n",
       "      <td>11</td>\n",
       "      <td>13</td>\n",
       "      <td>1.33</td>\n",
       "      <td>00:00.95</td>\n",
       "      <td>00:00:00</td>\n",
       "      <td>00:45:43</td>\n",
       "    </tr>\n",
       "    <tr>\n",
       "      <th>1</th>\n",
       "      <td>2021-08-13 17:55:40</td>\n",
       "      <td>New Forest Running</td>\n",
       "      <td>7.48</td>\n",
       "      <td>566</td>\n",
       "      <td>00:41:01</td>\n",
       "      <td>148</td>\n",
       "      <td>166</td>\n",
       "      <td>3.2</td>\n",
       "      <td>147</td>\n",
       "      <td>156</td>\n",
       "      <td>5:29</td>\n",
       "      <td>4:44</td>\n",
       "      <td>28</td>\n",
       "      <td>30</td>\n",
       "      <td>1.24</td>\n",
       "      <td>00:01.17</td>\n",
       "      <td>00:00:00</td>\n",
       "      <td>00:41:17</td>\n",
       "    </tr>\n",
       "    <tr>\n",
       "      <th>2</th>\n",
       "      <td>2021-08-11 16:45:15</td>\n",
       "      <td>New Forest Running</td>\n",
       "      <td>6.71</td>\n",
       "      <td>499</td>\n",
       "      <td>00:37:01</td>\n",
       "      <td>145</td>\n",
       "      <td>162</td>\n",
       "      <td>3.0</td>\n",
       "      <td>148</td>\n",
       "      <td>156</td>\n",
       "      <td>5:31</td>\n",
       "      <td>4:38</td>\n",
       "      <td>33</td>\n",
       "      <td>35</td>\n",
       "      <td>1.22</td>\n",
       "      <td>00:01.23</td>\n",
       "      <td>00:00:00</td>\n",
       "      <td>00:37:07</td>\n",
       "    </tr>\n",
       "    <tr>\n",
       "      <th>3</th>\n",
       "      <td>2021-08-09 18:29:54</td>\n",
       "      <td>New Forest Running</td>\n",
       "      <td>3.69</td>\n",
       "      <td>266</td>\n",
       "      <td>00:24:01</td>\n",
       "      <td>126</td>\n",
       "      <td>135</td>\n",
       "      <td>2.0</td>\n",
       "      <td>148</td>\n",
       "      <td>158</td>\n",
       "      <td>6:30</td>\n",
       "      <td>5:51</td>\n",
       "      <td>10</td>\n",
       "      <td>9</td>\n",
       "      <td>1.04</td>\n",
       "      <td>00:01.12</td>\n",
       "      <td>00:23:46</td>\n",
       "      <td>00:24:58</td>\n",
       "    </tr>\n",
       "    <tr>\n",
       "      <th>4</th>\n",
       "      <td>2021-08-08 15:41:30</td>\n",
       "      <td>New Forest Running</td>\n",
       "      <td>9.57</td>\n",
       "      <td>738</td>\n",
       "      <td>00:47:00</td>\n",
       "      <td>167</td>\n",
       "      <td>183</td>\n",
       "      <td>4.4</td>\n",
       "      <td>150</td>\n",
       "      <td>156</td>\n",
       "      <td>4:55</td>\n",
       "      <td>4:10</td>\n",
       "      <td>28</td>\n",
       "      <td>31</td>\n",
       "      <td>1.36</td>\n",
       "      <td>00:00.38</td>\n",
       "      <td>00:46:55</td>\n",
       "      <td>00:47:16</td>\n",
       "    </tr>\n",
       "    <tr>\n",
       "      <th>...</th>\n",
       "      <td>...</td>\n",
       "      <td>...</td>\n",
       "      <td>...</td>\n",
       "      <td>...</td>\n",
       "      <td>...</td>\n",
       "      <td>...</td>\n",
       "      <td>...</td>\n",
       "      <td>...</td>\n",
       "      <td>...</td>\n",
       "      <td>...</td>\n",
       "      <td>...</td>\n",
       "      <td>...</td>\n",
       "      <td>...</td>\n",
       "      <td>...</td>\n",
       "      <td>...</td>\n",
       "      <td>...</td>\n",
       "      <td>...</td>\n",
       "      <td>...</td>\n",
       "    </tr>\n",
       "    <tr>\n",
       "      <th>133</th>\n",
       "      <td>2020-09-08 18:41:28</td>\n",
       "      <td>New Forest Running</td>\n",
       "      <td>5.45</td>\n",
       "      <td>417</td>\n",
       "      <td>00:27:07</td>\n",
       "      <td>157</td>\n",
       "      <td>169</td>\n",
       "      <td>3.3</td>\n",
       "      <td>146</td>\n",
       "      <td>154</td>\n",
       "      <td>4:59</td>\n",
       "      <td>4:19</td>\n",
       "      <td>28</td>\n",
       "      <td>28</td>\n",
       "      <td>1.38</td>\n",
       "      <td>02:11.36</td>\n",
       "      <td>00:27:05</td>\n",
       "      <td>00:27:07</td>\n",
       "    </tr>\n",
       "    <tr>\n",
       "      <th>134</th>\n",
       "      <td>2020-09-07 17:50:42</td>\n",
       "      <td>New Forest Running</td>\n",
       "      <td>5.47</td>\n",
       "      <td>424</td>\n",
       "      <td>00:27:45</td>\n",
       "      <td>158</td>\n",
       "      <td>169</td>\n",
       "      <td>3.3</td>\n",
       "      <td>145</td>\n",
       "      <td>156</td>\n",
       "      <td>5:04</td>\n",
       "      <td>4:13</td>\n",
       "      <td>28</td>\n",
       "      <td>28</td>\n",
       "      <td>1.36</td>\n",
       "      <td>02:27.53</td>\n",
       "      <td>00:27:26</td>\n",
       "      <td>00:27:49</td>\n",
       "    </tr>\n",
       "    <tr>\n",
       "      <th>135</th>\n",
       "      <td>2020-09-05 18:48:32</td>\n",
       "      <td>New Forest Running</td>\n",
       "      <td>6.79</td>\n",
       "      <td>450</td>\n",
       "      <td>00:30:45</td>\n",
       "      <td>156</td>\n",
       "      <td>183</td>\n",
       "      <td>3.7</td>\n",
       "      <td>151</td>\n",
       "      <td>159</td>\n",
       "      <td>4:32</td>\n",
       "      <td>3:53</td>\n",
       "      <td>30</td>\n",
       "      <td>31</td>\n",
       "      <td>1.47</td>\n",
       "      <td>03:23.16</td>\n",
       "      <td>00:30:34</td>\n",
       "      <td>00:30:45</td>\n",
       "    </tr>\n",
       "    <tr>\n",
       "      <th>136</th>\n",
       "      <td>2020-09-03 08:20:17</td>\n",
       "      <td>New Forest Running</td>\n",
       "      <td>7.01</td>\n",
       "      <td>559</td>\n",
       "      <td>00:33:46</td>\n",
       "      <td>170</td>\n",
       "      <td>183</td>\n",
       "      <td>4.1</td>\n",
       "      <td>150</td>\n",
       "      <td>159</td>\n",
       "      <td>4:49</td>\n",
       "      <td>4:01</td>\n",
       "      <td>31</td>\n",
       "      <td>30</td>\n",
       "      <td>1.38</td>\n",
       "      <td>00:01.64</td>\n",
       "      <td>00:33:33</td>\n",
       "      <td>00:33:46</td>\n",
       "    </tr>\n",
       "    <tr>\n",
       "      <th>137</th>\n",
       "      <td>2020-08-31 17:13:22</td>\n",
       "      <td>New Forest Running</td>\n",
       "      <td>10.01</td>\n",
       "      <td>748</td>\n",
       "      <td>00:47:38</td>\n",
       "      <td>163</td>\n",
       "      <td>181</td>\n",
       "      <td>4.4</td>\n",
       "      <td>153</td>\n",
       "      <td>161</td>\n",
       "      <td>4:46</td>\n",
       "      <td>3:58</td>\n",
       "      <td>53</td>\n",
       "      <td>54</td>\n",
       "      <td>1.37</td>\n",
       "      <td>00:01.17</td>\n",
       "      <td>00:47:32</td>\n",
       "      <td>00:47:46</td>\n",
       "    </tr>\n",
       "  </tbody>\n",
       "</table>\n",
       "<p>138 rows × 18 columns</p>\n",
       "</div>"
      ],
      "text/plain": [
       "                    Date               Title  Distance Calories      Time  \\\n",
       "0    2021-08-15 18:14:06  New Forest Running      8.93      673  00:45:01   \n",
       "1    2021-08-13 17:55:40  New Forest Running      7.48      566  00:41:01   \n",
       "2    2021-08-11 16:45:15  New Forest Running      6.71      499  00:37:01   \n",
       "3    2021-08-09 18:29:54  New Forest Running      3.69      266  00:24:01   \n",
       "4    2021-08-08 15:41:30  New Forest Running      9.57      738  00:47:00   \n",
       "..                   ...                 ...       ...      ...       ...   \n",
       "133  2020-09-08 18:41:28  New Forest Running      5.45      417  00:27:07   \n",
       "134  2020-09-07 17:50:42  New Forest Running      5.47      424  00:27:45   \n",
       "135  2020-09-05 18:48:32  New Forest Running      6.79      450  00:30:45   \n",
       "136  2020-09-03 08:20:17  New Forest Running      7.01      559  00:33:46   \n",
       "137  2020-08-31 17:13:22  New Forest Running     10.01      748  00:47:38   \n",
       "\n",
       "    Avg HR Max HR Aerobic TE Avg Run Cadence Max Run Cadence Avg Pace  \\\n",
       "0      159    181        4.0             149             165     5:02   \n",
       "1      148    166        3.2             147             156     5:29   \n",
       "2      145    162        3.0             148             156     5:31   \n",
       "3      126    135        2.0             148             158     6:30   \n",
       "4      167    183        4.4             150             156     4:55   \n",
       "..     ...    ...        ...             ...             ...      ...   \n",
       "133    157    169        3.3             146             154     4:59   \n",
       "134    158    169        3.3             145             156     5:04   \n",
       "135    156    183        3.7             151             159     4:32   \n",
       "136    170    183        4.1             150             159     4:49   \n",
       "137    163    181        4.4             153             161     4:46   \n",
       "\n",
       "    Best Pace Elev Gain Elev Loss  Avg Stride Length Best Lap Time  \\\n",
       "0        4:10        11        13               1.33      00:00.95   \n",
       "1        4:44        28        30               1.24      00:01.17   \n",
       "2        4:38        33        35               1.22      00:01.23   \n",
       "3        5:51        10         9               1.04      00:01.12   \n",
       "4        4:10        28        31               1.36      00:00.38   \n",
       "..        ...       ...       ...                ...           ...   \n",
       "133      4:19        28        28               1.38      02:11.36   \n",
       "134      4:13        28        28               1.36      02:27.53   \n",
       "135      3:53        30        31               1.47      03:23.16   \n",
       "136      4:01        31        30               1.38      00:01.64   \n",
       "137      3:58        53        54               1.37      00:01.17   \n",
       "\n",
       "    Moving Time Elapsed Time  \n",
       "0      00:00:00     00:45:43  \n",
       "1      00:00:00     00:41:17  \n",
       "2      00:00:00     00:37:07  \n",
       "3      00:23:46     00:24:58  \n",
       "4      00:46:55     00:47:16  \n",
       "..          ...          ...  \n",
       "133    00:27:05     00:27:07  \n",
       "134    00:27:26     00:27:49  \n",
       "135    00:30:34     00:30:45  \n",
       "136    00:33:33     00:33:46  \n",
       "137    00:47:32     00:47:46  \n",
       "\n",
       "[138 rows x 18 columns]"
      ]
     },
     "execution_count": 539,
     "metadata": {},
     "output_type": "execute_result"
    }
   ],
   "source": [
    "Running_df.drop(columns=['Activity Type', 'Favorite', 'Min Temp', 'Max Temp', 'Surface Interval', \n",
    "                         'Decompression', 'Grit', 'Flow', 'Dive Time', 'Training Stress Score®',\n",
    "                        'Avg Vertical Ratio', 'Avg Vertical Oscillation', 'Min Elevation', 'Max Elevation', 'Number of Laps'], \n",
    "                inplace = True)\n",
    "Running_df"
   ]
  },
  {
   "cell_type": "markdown",
   "metadata": {},
   "source": [
    "This is exercise data taken over several months. Clearly, being able to plot it as a function of date or time would be useful. Therefore, we need to make sure it is in a usable format. A lot of data analysis asks questions about how things change over time. For this reason there is a dedicated python package for handling date and time data."
   ]
  },
  {
   "cell_type": "code",
   "execution_count": 540,
   "metadata": {},
   "outputs": [],
   "source": [
    "import datetime"
   ]
  },
  {
   "cell_type": "markdown",
   "metadata": {},
   "source": [
    "There are 4 core objects that more or less encapture the use of datetime. They can be considered objects which correspond to our concepts of dates - ```datetime.date```, times - ```datetime.time```, both - ```datetime.datetime```, and time periods - ```datetime.timedelta```. The data above is split between datetime objects and time objects. The methods we will use here for each object are the same for each object."
   ]
  },
  {
   "cell_type": "code",
   "execution_count": 541,
   "metadata": {},
   "outputs": [],
   "source": [
    "from datetime import datetime as dt"
   ]
  },
  {
   "cell_type": "markdown",
   "metadata": {},
   "source": [
    "I will take the first value from the 'Date' column as an example."
   ]
  },
  {
   "cell_type": "code",
   "execution_count": 542,
   "metadata": {},
   "outputs": [
    {
     "data": {
      "text/plain": [
       "'2021-08-15 18:14:06'"
      ]
     },
     "execution_count": 542,
     "metadata": {},
     "output_type": "execute_result"
    }
   ],
   "source": [
    "Example_Date = Running_df['Date'][0]\n",
    "Example_Date"
   ]
  },
  {
   "cell_type": "markdown",
   "metadata": {},
   "source": [
    "Currently the 'Date' column's dtype is:"
   ]
  },
  {
   "cell_type": "code",
   "execution_count": 543,
   "metadata": {},
   "outputs": [
    {
     "data": {
      "text/plain": [
       "dtype('O')"
      ]
     },
     "execution_count": 543,
     "metadata": {},
     "output_type": "execute_result"
    }
   ],
   "source": [
    "Running_df.dtypes['Date']"
   ]
  },
  {
   "cell_type": "markdown",
   "metadata": {},
   "source": [
    "Which stands for 'object', that object being a string. I want to turn this string into a datetime object. To do this I use the ```dt.strptime()``` method:"
   ]
  },
  {
   "cell_type": "code",
   "execution_count": 544,
   "metadata": {},
   "outputs": [
    {
     "data": {
      "text/plain": [
       "datetime.datetime(2021, 8, 15, 18, 14, 6)"
      ]
     },
     "execution_count": 544,
     "metadata": {},
     "output_type": "execute_result"
    }
   ],
   "source": [
    "dt.strptime(Example_Date, \"%Y-%m-%d %H:%M:%S\")"
   ]
  },
  {
   "cell_type": "markdown",
   "metadata": {},
   "source": [
    "As arguments, I have specifed the object I want to transform into a datetime object and I have entered a string which represents how the date and time are structured. This tells the method how your date and time is structured so it knows what to do with it. The letters after the \"%\"s in the string represent different displays of dates or times. For example, %Y corresponds to the four-digit year, i.e. 2021 not '21. A full list of the different formats can be found [here](https://www.w3schools.com/python/python_datetime.asp)."
   ]
  },
  {
   "cell_type": "markdown",
   "metadata": {},
   "source": [
    "Now I can apply this to each date in Running_df:"
   ]
  },
  {
   "cell_type": "code",
   "execution_count": 545,
   "metadata": {},
   "outputs": [],
   "source": [
    "Running_df['Date']=Running_df['Date'].apply(dt.strptime, args=(\"%Y-%m-%d %H:%M:%S\",))"
   ]
  },
  {
   "cell_type": "markdown",
   "metadata": {},
   "source": [
    "To check that this has done what I wanted, I can see what the 'Date' column's dtype is now:"
   ]
  },
  {
   "cell_type": "code",
   "execution_count": 546,
   "metadata": {},
   "outputs": [
    {
     "data": {
      "text/plain": [
       "dtype('<M8[ns]')"
      ]
     },
     "execution_count": 546,
     "metadata": {},
     "output_type": "execute_result"
    }
   ],
   "source": [
    "Running_df.dtypes['Date']"
   ]
  },
  {
   "cell_type": "markdown",
   "metadata": {},
   "source": [
    "As a first analysis, I can see how average heart rate for similar paces has varied over time. First I need the average heart rate column to be a number type, so that it is plottable."
   ]
  },
  {
   "cell_type": "code",
   "execution_count": 547,
   "metadata": {},
   "outputs": [
    {
     "data": {
      "text/plain": [
       "dtype('O')"
      ]
     },
     "execution_count": 547,
     "metadata": {},
     "output_type": "execute_result"
    }
   ],
   "source": [
    "Running_df.dtypes['Avg HR']"
   ]
  },
  {
   "cell_type": "markdown",
   "metadata": {},
   "source": [
    "This isn't what I want so i'll change it to integer type, using the ```DataFrame.astype``` method."
   ]
  },
  {
   "cell_type": "code",
   "execution_count": 548,
   "metadata": {},
   "outputs": [
    {
     "ename": "ValueError",
     "evalue": "invalid literal for int() with base 10: '--'",
     "output_type": "error",
     "traceback": [
      "\u001b[1;31m---------------------------------------------------------------------------\u001b[0m",
      "\u001b[1;31mValueError\u001b[0m                                Traceback (most recent call last)",
      "\u001b[1;32m<ipython-input-548-5c6bb47e707e>\u001b[0m in \u001b[0;36m<module>\u001b[1;34m\u001b[0m\n\u001b[1;32m----> 1\u001b[1;33m \u001b[0mRunning_df\u001b[0m\u001b[1;33m.\u001b[0m\u001b[0mastype\u001b[0m\u001b[1;33m(\u001b[0m\u001b[1;33m{\u001b[0m\u001b[1;34m'Avg HR'\u001b[0m\u001b[1;33m:\u001b[0m\u001b[1;34m'int'\u001b[0m\u001b[1;33m}\u001b[0m\u001b[1;33m)\u001b[0m\u001b[1;33m\u001b[0m\u001b[1;33m\u001b[0m\u001b[0m\n\u001b[0m",
      "\u001b[1;32m~\\anaconda3\\lib\\site-packages\\pandas\\core\\generic.py\u001b[0m in \u001b[0;36mastype\u001b[1;34m(self, dtype, copy, errors)\u001b[0m\n\u001b[0;32m   5529\u001b[0m                 \u001b[1;32mif\u001b[0m \u001b[0mcol_name\u001b[0m \u001b[1;32min\u001b[0m \u001b[0mdtype\u001b[0m\u001b[1;33m:\u001b[0m\u001b[1;33m\u001b[0m\u001b[1;33m\u001b[0m\u001b[0m\n\u001b[0;32m   5530\u001b[0m                     results.append(\n\u001b[1;32m-> 5531\u001b[1;33m                         \u001b[0mcol\u001b[0m\u001b[1;33m.\u001b[0m\u001b[0mastype\u001b[0m\u001b[1;33m(\u001b[0m\u001b[0mdtype\u001b[0m\u001b[1;33m=\u001b[0m\u001b[0mdtype\u001b[0m\u001b[1;33m[\u001b[0m\u001b[0mcol_name\u001b[0m\u001b[1;33m]\u001b[0m\u001b[1;33m,\u001b[0m \u001b[0mcopy\u001b[0m\u001b[1;33m=\u001b[0m\u001b[0mcopy\u001b[0m\u001b[1;33m,\u001b[0m \u001b[0merrors\u001b[0m\u001b[1;33m=\u001b[0m\u001b[0merrors\u001b[0m\u001b[1;33m)\u001b[0m\u001b[1;33m\u001b[0m\u001b[1;33m\u001b[0m\u001b[0m\n\u001b[0m\u001b[0;32m   5532\u001b[0m                     )\n\u001b[0;32m   5533\u001b[0m                 \u001b[1;32melse\u001b[0m\u001b[1;33m:\u001b[0m\u001b[1;33m\u001b[0m\u001b[1;33m\u001b[0m\u001b[0m\n",
      "\u001b[1;32m~\\anaconda3\\lib\\site-packages\\pandas\\core\\generic.py\u001b[0m in \u001b[0;36mastype\u001b[1;34m(self, dtype, copy, errors)\u001b[0m\n\u001b[0;32m   5544\u001b[0m         \u001b[1;32melse\u001b[0m\u001b[1;33m:\u001b[0m\u001b[1;33m\u001b[0m\u001b[1;33m\u001b[0m\u001b[0m\n\u001b[0;32m   5545\u001b[0m             \u001b[1;31m# else, only a single dtype is given\u001b[0m\u001b[1;33m\u001b[0m\u001b[1;33m\u001b[0m\u001b[1;33m\u001b[0m\u001b[0m\n\u001b[1;32m-> 5546\u001b[1;33m             \u001b[0mnew_data\u001b[0m \u001b[1;33m=\u001b[0m \u001b[0mself\u001b[0m\u001b[1;33m.\u001b[0m\u001b[0m_mgr\u001b[0m\u001b[1;33m.\u001b[0m\u001b[0mastype\u001b[0m\u001b[1;33m(\u001b[0m\u001b[0mdtype\u001b[0m\u001b[1;33m=\u001b[0m\u001b[0mdtype\u001b[0m\u001b[1;33m,\u001b[0m \u001b[0mcopy\u001b[0m\u001b[1;33m=\u001b[0m\u001b[0mcopy\u001b[0m\u001b[1;33m,\u001b[0m \u001b[0merrors\u001b[0m\u001b[1;33m=\u001b[0m\u001b[0merrors\u001b[0m\u001b[1;33m,\u001b[0m\u001b[1;33m)\u001b[0m\u001b[1;33m\u001b[0m\u001b[1;33m\u001b[0m\u001b[0m\n\u001b[0m\u001b[0;32m   5547\u001b[0m             \u001b[1;32mreturn\u001b[0m \u001b[0mself\u001b[0m\u001b[1;33m.\u001b[0m\u001b[0m_constructor\u001b[0m\u001b[1;33m(\u001b[0m\u001b[0mnew_data\u001b[0m\u001b[1;33m)\u001b[0m\u001b[1;33m.\u001b[0m\u001b[0m__finalize__\u001b[0m\u001b[1;33m(\u001b[0m\u001b[0mself\u001b[0m\u001b[1;33m,\u001b[0m \u001b[0mmethod\u001b[0m\u001b[1;33m=\u001b[0m\u001b[1;34m\"astype\"\u001b[0m\u001b[1;33m)\u001b[0m\u001b[1;33m\u001b[0m\u001b[1;33m\u001b[0m\u001b[0m\n\u001b[0;32m   5548\u001b[0m \u001b[1;33m\u001b[0m\u001b[0m\n",
      "\u001b[1;32m~\\anaconda3\\lib\\site-packages\\pandas\\core\\internals\\managers.py\u001b[0m in \u001b[0;36mastype\u001b[1;34m(self, dtype, copy, errors)\u001b[0m\n\u001b[0;32m    593\u001b[0m         \u001b[0mself\u001b[0m\u001b[1;33m,\u001b[0m \u001b[0mdtype\u001b[0m\u001b[1;33m,\u001b[0m \u001b[0mcopy\u001b[0m\u001b[1;33m:\u001b[0m \u001b[0mbool\u001b[0m \u001b[1;33m=\u001b[0m \u001b[1;32mFalse\u001b[0m\u001b[1;33m,\u001b[0m \u001b[0merrors\u001b[0m\u001b[1;33m:\u001b[0m \u001b[0mstr\u001b[0m \u001b[1;33m=\u001b[0m \u001b[1;34m\"raise\"\u001b[0m\u001b[1;33m\u001b[0m\u001b[1;33m\u001b[0m\u001b[0m\n\u001b[0;32m    594\u001b[0m     ) -> \"BlockManager\":\n\u001b[1;32m--> 595\u001b[1;33m         \u001b[1;32mreturn\u001b[0m \u001b[0mself\u001b[0m\u001b[1;33m.\u001b[0m\u001b[0mapply\u001b[0m\u001b[1;33m(\u001b[0m\u001b[1;34m\"astype\"\u001b[0m\u001b[1;33m,\u001b[0m \u001b[0mdtype\u001b[0m\u001b[1;33m=\u001b[0m\u001b[0mdtype\u001b[0m\u001b[1;33m,\u001b[0m \u001b[0mcopy\u001b[0m\u001b[1;33m=\u001b[0m\u001b[0mcopy\u001b[0m\u001b[1;33m,\u001b[0m \u001b[0merrors\u001b[0m\u001b[1;33m=\u001b[0m\u001b[0merrors\u001b[0m\u001b[1;33m)\u001b[0m\u001b[1;33m\u001b[0m\u001b[1;33m\u001b[0m\u001b[0m\n\u001b[0m\u001b[0;32m    596\u001b[0m \u001b[1;33m\u001b[0m\u001b[0m\n\u001b[0;32m    597\u001b[0m     def convert(\n",
      "\u001b[1;32m~\\anaconda3\\lib\\site-packages\\pandas\\core\\internals\\managers.py\u001b[0m in \u001b[0;36mapply\u001b[1;34m(self, f, align_keys, **kwargs)\u001b[0m\n\u001b[0;32m    404\u001b[0m                 \u001b[0mapplied\u001b[0m \u001b[1;33m=\u001b[0m \u001b[0mb\u001b[0m\u001b[1;33m.\u001b[0m\u001b[0mapply\u001b[0m\u001b[1;33m(\u001b[0m\u001b[0mf\u001b[0m\u001b[1;33m,\u001b[0m \u001b[1;33m**\u001b[0m\u001b[0mkwargs\u001b[0m\u001b[1;33m)\u001b[0m\u001b[1;33m\u001b[0m\u001b[1;33m\u001b[0m\u001b[0m\n\u001b[0;32m    405\u001b[0m             \u001b[1;32melse\u001b[0m\u001b[1;33m:\u001b[0m\u001b[1;33m\u001b[0m\u001b[1;33m\u001b[0m\u001b[0m\n\u001b[1;32m--> 406\u001b[1;33m                 \u001b[0mapplied\u001b[0m \u001b[1;33m=\u001b[0m \u001b[0mgetattr\u001b[0m\u001b[1;33m(\u001b[0m\u001b[0mb\u001b[0m\u001b[1;33m,\u001b[0m \u001b[0mf\u001b[0m\u001b[1;33m)\u001b[0m\u001b[1;33m(\u001b[0m\u001b[1;33m**\u001b[0m\u001b[0mkwargs\u001b[0m\u001b[1;33m)\u001b[0m\u001b[1;33m\u001b[0m\u001b[1;33m\u001b[0m\u001b[0m\n\u001b[0m\u001b[0;32m    407\u001b[0m             \u001b[0mresult_blocks\u001b[0m \u001b[1;33m=\u001b[0m \u001b[0m_extend_blocks\u001b[0m\u001b[1;33m(\u001b[0m\u001b[0mapplied\u001b[0m\u001b[1;33m,\u001b[0m \u001b[0mresult_blocks\u001b[0m\u001b[1;33m)\u001b[0m\u001b[1;33m\u001b[0m\u001b[1;33m\u001b[0m\u001b[0m\n\u001b[0;32m    408\u001b[0m \u001b[1;33m\u001b[0m\u001b[0m\n",
      "\u001b[1;32m~\\anaconda3\\lib\\site-packages\\pandas\\core\\internals\\blocks.py\u001b[0m in \u001b[0;36mastype\u001b[1;34m(self, dtype, copy, errors)\u001b[0m\n\u001b[0;32m    593\u001b[0m             \u001b[0mvals1d\u001b[0m \u001b[1;33m=\u001b[0m \u001b[0mvalues\u001b[0m\u001b[1;33m.\u001b[0m\u001b[0mravel\u001b[0m\u001b[1;33m(\u001b[0m\u001b[1;33m)\u001b[0m\u001b[1;33m\u001b[0m\u001b[1;33m\u001b[0m\u001b[0m\n\u001b[0;32m    594\u001b[0m             \u001b[1;32mtry\u001b[0m\u001b[1;33m:\u001b[0m\u001b[1;33m\u001b[0m\u001b[1;33m\u001b[0m\u001b[0m\n\u001b[1;32m--> 595\u001b[1;33m                 \u001b[0mvalues\u001b[0m \u001b[1;33m=\u001b[0m \u001b[0mastype_nansafe\u001b[0m\u001b[1;33m(\u001b[0m\u001b[0mvals1d\u001b[0m\u001b[1;33m,\u001b[0m \u001b[0mdtype\u001b[0m\u001b[1;33m,\u001b[0m \u001b[0mcopy\u001b[0m\u001b[1;33m=\u001b[0m\u001b[1;32mTrue\u001b[0m\u001b[1;33m)\u001b[0m\u001b[1;33m\u001b[0m\u001b[1;33m\u001b[0m\u001b[0m\n\u001b[0m\u001b[0;32m    596\u001b[0m             \u001b[1;32mexcept\u001b[0m \u001b[1;33m(\u001b[0m\u001b[0mValueError\u001b[0m\u001b[1;33m,\u001b[0m \u001b[0mTypeError\u001b[0m\u001b[1;33m)\u001b[0m\u001b[1;33m:\u001b[0m\u001b[1;33m\u001b[0m\u001b[1;33m\u001b[0m\u001b[0m\n\u001b[0;32m    597\u001b[0m                 \u001b[1;31m# e.g. astype_nansafe can fail on object-dtype of strings\u001b[0m\u001b[1;33m\u001b[0m\u001b[1;33m\u001b[0m\u001b[1;33m\u001b[0m\u001b[0m\n",
      "\u001b[1;32m~\\anaconda3\\lib\\site-packages\\pandas\\core\\dtypes\\cast.py\u001b[0m in \u001b[0;36mastype_nansafe\u001b[1;34m(arr, dtype, copy, skipna)\u001b[0m\n\u001b[0;32m    970\u001b[0m         \u001b[1;31m# work around NumPy brokenness, #1987\u001b[0m\u001b[1;33m\u001b[0m\u001b[1;33m\u001b[0m\u001b[1;33m\u001b[0m\u001b[0m\n\u001b[0;32m    971\u001b[0m         \u001b[1;32mif\u001b[0m \u001b[0mnp\u001b[0m\u001b[1;33m.\u001b[0m\u001b[0missubdtype\u001b[0m\u001b[1;33m(\u001b[0m\u001b[0mdtype\u001b[0m\u001b[1;33m.\u001b[0m\u001b[0mtype\u001b[0m\u001b[1;33m,\u001b[0m \u001b[0mnp\u001b[0m\u001b[1;33m.\u001b[0m\u001b[0minteger\u001b[0m\u001b[1;33m)\u001b[0m\u001b[1;33m:\u001b[0m\u001b[1;33m\u001b[0m\u001b[1;33m\u001b[0m\u001b[0m\n\u001b[1;32m--> 972\u001b[1;33m             \u001b[1;32mreturn\u001b[0m \u001b[0mlib\u001b[0m\u001b[1;33m.\u001b[0m\u001b[0mastype_intsafe\u001b[0m\u001b[1;33m(\u001b[0m\u001b[0marr\u001b[0m\u001b[1;33m.\u001b[0m\u001b[0mravel\u001b[0m\u001b[1;33m(\u001b[0m\u001b[1;33m)\u001b[0m\u001b[1;33m,\u001b[0m \u001b[0mdtype\u001b[0m\u001b[1;33m)\u001b[0m\u001b[1;33m.\u001b[0m\u001b[0mreshape\u001b[0m\u001b[1;33m(\u001b[0m\u001b[0marr\u001b[0m\u001b[1;33m.\u001b[0m\u001b[0mshape\u001b[0m\u001b[1;33m)\u001b[0m\u001b[1;33m\u001b[0m\u001b[1;33m\u001b[0m\u001b[0m\n\u001b[0m\u001b[0;32m    973\u001b[0m \u001b[1;33m\u001b[0m\u001b[0m\n\u001b[0;32m    974\u001b[0m         \u001b[1;31m# if we have a datetime/timedelta array of objects\u001b[0m\u001b[1;33m\u001b[0m\u001b[1;33m\u001b[0m\u001b[1;33m\u001b[0m\u001b[0m\n",
      "\u001b[1;32mpandas\\_libs\\lib.pyx\u001b[0m in \u001b[0;36mpandas._libs.lib.astype_intsafe\u001b[1;34m()\u001b[0m\n",
      "\u001b[1;31mValueError\u001b[0m: invalid literal for int() with base 10: '--'"
     ]
    }
   ],
   "source": [
    "Running_df.astype({'Avg HR':'int'})"
   ]
  },
  {
   "cell_type": "markdown",
   "metadata": {},
   "source": [
    "This hasn't worked as not every item in the column has the form of a base 10 number, there is a string value of '--'. I need to remove these for it to work. This is the issue that was mentioned in 1.1.6. I can change this using a mask."
   ]
  },
  {
   "cell_type": "code",
   "execution_count": 549,
   "metadata": {},
   "outputs": [],
   "source": [
    "Running_df = Running_df[Running_df['Avg HR']!='--']"
   ]
  },
  {
   "cell_type": "markdown",
   "metadata": {},
   "source": [
    "This should work if that was the only type of value not in the format of a number:"
   ]
  },
  {
   "cell_type": "code",
   "execution_count": 550,
   "metadata": {},
   "outputs": [],
   "source": [
    "Running_df = Running_df.astype({'Avg HR':'int'})"
   ]
  },
  {
   "cell_type": "markdown",
   "metadata": {},
   "source": [
    "No error, good."
   ]
  },
  {
   "cell_type": "markdown",
   "metadata": {},
   "source": [
    "I know I want to filter the runs that are of a similar pace, let's say at around 5:30/km and from the last few months."
   ]
  },
  {
   "cell_type": "code",
   "execution_count": 551,
   "metadata": {},
   "outputs": [
    {
     "data": {
      "text/html": [
       "<div>\n",
       "<style scoped>\n",
       "    .dataframe tbody tr th:only-of-type {\n",
       "        vertical-align: middle;\n",
       "    }\n",
       "\n",
       "    .dataframe tbody tr th {\n",
       "        vertical-align: top;\n",
       "    }\n",
       "\n",
       "    .dataframe thead th {\n",
       "        text-align: right;\n",
       "    }\n",
       "</style>\n",
       "<table border=\"1\" class=\"dataframe\">\n",
       "  <thead>\n",
       "    <tr style=\"text-align: right;\">\n",
       "      <th></th>\n",
       "      <th>Date</th>\n",
       "      <th>Title</th>\n",
       "      <th>Distance</th>\n",
       "      <th>Calories</th>\n",
       "      <th>Time</th>\n",
       "      <th>Avg HR</th>\n",
       "      <th>Max HR</th>\n",
       "      <th>Aerobic TE</th>\n",
       "      <th>Avg Run Cadence</th>\n",
       "      <th>Max Run Cadence</th>\n",
       "      <th>Avg Pace</th>\n",
       "      <th>Best Pace</th>\n",
       "      <th>Elev Gain</th>\n",
       "      <th>Elev Loss</th>\n",
       "      <th>Avg Stride Length</th>\n",
       "      <th>Best Lap Time</th>\n",
       "      <th>Moving Time</th>\n",
       "      <th>Elapsed Time</th>\n",
       "    </tr>\n",
       "  </thead>\n",
       "  <tbody>\n",
       "    <tr>\n",
       "      <th>1</th>\n",
       "      <td>2021-08-13 17:55:40</td>\n",
       "      <td>New Forest Running</td>\n",
       "      <td>7.48</td>\n",
       "      <td>566</td>\n",
       "      <td>00:41:01</td>\n",
       "      <td>148</td>\n",
       "      <td>166</td>\n",
       "      <td>3.2</td>\n",
       "      <td>147</td>\n",
       "      <td>156</td>\n",
       "      <td>1900-01-01 00:05:29</td>\n",
       "      <td>4:44</td>\n",
       "      <td>28</td>\n",
       "      <td>30</td>\n",
       "      <td>1.24</td>\n",
       "      <td>00:01.17</td>\n",
       "      <td>00:00:00</td>\n",
       "      <td>00:41:17</td>\n",
       "    </tr>\n",
       "    <tr>\n",
       "      <th>2</th>\n",
       "      <td>2021-08-11 16:45:15</td>\n",
       "      <td>New Forest Running</td>\n",
       "      <td>6.71</td>\n",
       "      <td>499</td>\n",
       "      <td>00:37:01</td>\n",
       "      <td>145</td>\n",
       "      <td>162</td>\n",
       "      <td>3.0</td>\n",
       "      <td>148</td>\n",
       "      <td>156</td>\n",
       "      <td>1900-01-01 00:05:31</td>\n",
       "      <td>4:38</td>\n",
       "      <td>33</td>\n",
       "      <td>35</td>\n",
       "      <td>1.22</td>\n",
       "      <td>00:01.23</td>\n",
       "      <td>00:00:00</td>\n",
       "      <td>00:37:07</td>\n",
       "    </tr>\n",
       "    <tr>\n",
       "      <th>5</th>\n",
       "      <td>2021-08-07 15:12:24</td>\n",
       "      <td>New Forest Running</td>\n",
       "      <td>7.26</td>\n",
       "      <td>539</td>\n",
       "      <td>00:40:01</td>\n",
       "      <td>145</td>\n",
       "      <td>163</td>\n",
       "      <td>3.2</td>\n",
       "      <td>148</td>\n",
       "      <td>155</td>\n",
       "      <td>1900-01-01 00:05:31</td>\n",
       "      <td>4:43</td>\n",
       "      <td>32</td>\n",
       "      <td>35</td>\n",
       "      <td>1.23</td>\n",
       "      <td>00:00.51</td>\n",
       "      <td>00:40:00</td>\n",
       "      <td>00:40:08</td>\n",
       "    </tr>\n",
       "    <tr>\n",
       "      <th>7</th>\n",
       "      <td>2021-07-29 18:52:50</td>\n",
       "      <td>New Forest Running</td>\n",
       "      <td>6.82</td>\n",
       "      <td>523</td>\n",
       "      <td>00:37:01</td>\n",
       "      <td>152</td>\n",
       "      <td>168</td>\n",
       "      <td>3.3</td>\n",
       "      <td>147</td>\n",
       "      <td>153</td>\n",
       "      <td>1900-01-01 00:05:26</td>\n",
       "      <td>4:50</td>\n",
       "      <td>29</td>\n",
       "      <td>30</td>\n",
       "      <td>1.26</td>\n",
       "      <td>00:01.25</td>\n",
       "      <td>00:36:59</td>\n",
       "      <td>00:37:23</td>\n",
       "    </tr>\n",
       "    <tr>\n",
       "      <th>8</th>\n",
       "      <td>2021-07-26 17:02:04</td>\n",
       "      <td>New Forest Running</td>\n",
       "      <td>6.74</td>\n",
       "      <td>520</td>\n",
       "      <td>00:37:02</td>\n",
       "      <td>150</td>\n",
       "      <td>165</td>\n",
       "      <td>3.3</td>\n",
       "      <td>146</td>\n",
       "      <td>153</td>\n",
       "      <td>1900-01-01 00:05:30</td>\n",
       "      <td>4:47</td>\n",
       "      <td>30</td>\n",
       "      <td>35</td>\n",
       "      <td>1.25</td>\n",
       "      <td>00:01.65</td>\n",
       "      <td>00:36:44</td>\n",
       "      <td>00:37:20</td>\n",
       "    </tr>\n",
       "    <tr>\n",
       "      <th>9</th>\n",
       "      <td>2021-07-24 11:40:53</td>\n",
       "      <td>New Forest Running</td>\n",
       "      <td>6.93</td>\n",
       "      <td>513</td>\n",
       "      <td>00:38:01</td>\n",
       "      <td>147</td>\n",
       "      <td>164</td>\n",
       "      <td>3.3</td>\n",
       "      <td>147</td>\n",
       "      <td>161</td>\n",
       "      <td>1900-01-01 00:05:29</td>\n",
       "      <td>4:47</td>\n",
       "      <td>36</td>\n",
       "      <td>35</td>\n",
       "      <td>1.24</td>\n",
       "      <td>00:01.15</td>\n",
       "      <td>00:38:00</td>\n",
       "      <td>00:38:01</td>\n",
       "    </tr>\n",
       "    <tr>\n",
       "      <th>10</th>\n",
       "      <td>2021-07-22 17:46:08</td>\n",
       "      <td>New Forest Running</td>\n",
       "      <td>6.92</td>\n",
       "      <td>529</td>\n",
       "      <td>00:38:01</td>\n",
       "      <td>151</td>\n",
       "      <td>166</td>\n",
       "      <td>3.3</td>\n",
       "      <td>147</td>\n",
       "      <td>155</td>\n",
       "      <td>1900-01-01 00:05:30</td>\n",
       "      <td>4:51</td>\n",
       "      <td>32</td>\n",
       "      <td>36</td>\n",
       "      <td>1.23</td>\n",
       "      <td>00:01.29</td>\n",
       "      <td>00:37:50</td>\n",
       "      <td>00:38:22</td>\n",
       "    </tr>\n",
       "    <tr>\n",
       "      <th>11</th>\n",
       "      <td>2021-07-20 17:15:05</td>\n",
       "      <td>New Forest Running</td>\n",
       "      <td>6.54</td>\n",
       "      <td>492</td>\n",
       "      <td>00:35:46</td>\n",
       "      <td>147</td>\n",
       "      <td>165</td>\n",
       "      <td>3.3</td>\n",
       "      <td>147</td>\n",
       "      <td>156</td>\n",
       "      <td>1900-01-01 00:05:28</td>\n",
       "      <td>4:32</td>\n",
       "      <td>29</td>\n",
       "      <td>33</td>\n",
       "      <td>1.24</td>\n",
       "      <td>01:09.22</td>\n",
       "      <td>00:35:24</td>\n",
       "      <td>00:36:08</td>\n",
       "    </tr>\n",
       "    <tr>\n",
       "      <th>13</th>\n",
       "      <td>2021-07-17 14:29:39</td>\n",
       "      <td>New Forest Running</td>\n",
       "      <td>6.80</td>\n",
       "      <td>527</td>\n",
       "      <td>00:37:27</td>\n",
       "      <td>154</td>\n",
       "      <td>167</td>\n",
       "      <td>3.4</td>\n",
       "      <td>147</td>\n",
       "      <td>151</td>\n",
       "      <td>1900-01-01 00:05:31</td>\n",
       "      <td>4:40</td>\n",
       "      <td>33</td>\n",
       "      <td>35</td>\n",
       "      <td>1.24</td>\n",
       "      <td>01:05.65</td>\n",
       "      <td>00:37:21</td>\n",
       "      <td>00:37:33</td>\n",
       "    </tr>\n",
       "    <tr>\n",
       "      <th>14</th>\n",
       "      <td>2021-07-15 18:01:25</td>\n",
       "      <td>New Forest Running</td>\n",
       "      <td>6.12</td>\n",
       "      <td>462</td>\n",
       "      <td>00:34:02</td>\n",
       "      <td>148</td>\n",
       "      <td>164</td>\n",
       "      <td>3.2</td>\n",
       "      <td>145</td>\n",
       "      <td>152</td>\n",
       "      <td>1900-01-01 00:05:34</td>\n",
       "      <td>4:37</td>\n",
       "      <td>31</td>\n",
       "      <td>33</td>\n",
       "      <td>1.24</td>\n",
       "      <td>00:02.47</td>\n",
       "      <td>00:33:58</td>\n",
       "      <td>00:34:20</td>\n",
       "    </tr>\n",
       "    <tr>\n",
       "      <th>16</th>\n",
       "      <td>2021-07-09 16:26:22</td>\n",
       "      <td>New Forest Running</td>\n",
       "      <td>7.15</td>\n",
       "      <td>548</td>\n",
       "      <td>00:39:03</td>\n",
       "      <td>152</td>\n",
       "      <td>169</td>\n",
       "      <td>3.4</td>\n",
       "      <td>148</td>\n",
       "      <td>156</td>\n",
       "      <td>1900-01-01 00:05:28</td>\n",
       "      <td>4:44</td>\n",
       "      <td>33</td>\n",
       "      <td>34</td>\n",
       "      <td>1.24</td>\n",
       "      <td>00:02.68</td>\n",
       "      <td>00:38:58</td>\n",
       "      <td>00:39:16</td>\n",
       "    </tr>\n",
       "    <tr>\n",
       "      <th>19</th>\n",
       "      <td>2021-06-29 18:22:30</td>\n",
       "      <td>New Forest Running</td>\n",
       "      <td>6.75</td>\n",
       "      <td>522</td>\n",
       "      <td>00:37:02</td>\n",
       "      <td>154</td>\n",
       "      <td>173</td>\n",
       "      <td>3.4</td>\n",
       "      <td>147</td>\n",
       "      <td>153</td>\n",
       "      <td>1900-01-01 00:05:29</td>\n",
       "      <td>4:44</td>\n",
       "      <td>27</td>\n",
       "      <td>29</td>\n",
       "      <td>1.24</td>\n",
       "      <td>00:01.62</td>\n",
       "      <td>00:36:58</td>\n",
       "      <td>00:37:25</td>\n",
       "    </tr>\n",
       "    <tr>\n",
       "      <th>22</th>\n",
       "      <td>2021-06-17 18:46:10</td>\n",
       "      <td>New Forest Running</td>\n",
       "      <td>8.60</td>\n",
       "      <td>675</td>\n",
       "      <td>00:47:02</td>\n",
       "      <td>156</td>\n",
       "      <td>171</td>\n",
       "      <td>3.6</td>\n",
       "      <td>147</td>\n",
       "      <td>156</td>\n",
       "      <td>1900-01-01 00:05:28</td>\n",
       "      <td>4:44</td>\n",
       "      <td>34</td>\n",
       "      <td>35</td>\n",
       "      <td>1.25</td>\n",
       "      <td>00:01.97</td>\n",
       "      <td>00:46:24</td>\n",
       "      <td>00:47:56</td>\n",
       "    </tr>\n",
       "    <tr>\n",
       "      <th>24</th>\n",
       "      <td>2021-06-09 18:39:50</td>\n",
       "      <td>New Forest Running</td>\n",
       "      <td>6.74</td>\n",
       "      <td>523</td>\n",
       "      <td>00:37:02</td>\n",
       "      <td>153</td>\n",
       "      <td>174</td>\n",
       "      <td>3.2</td>\n",
       "      <td>145</td>\n",
       "      <td>153</td>\n",
       "      <td>1900-01-01 00:05:30</td>\n",
       "      <td>4:45</td>\n",
       "      <td>28</td>\n",
       "      <td>29</td>\n",
       "      <td>1.25</td>\n",
       "      <td>00:02.46</td>\n",
       "      <td>00:36:47</td>\n",
       "      <td>00:38:20</td>\n",
       "    </tr>\n",
       "  </tbody>\n",
       "</table>\n",
       "</div>"
      ],
      "text/plain": [
       "                  Date               Title  Distance Calories      Time  \\\n",
       "1  2021-08-13 17:55:40  New Forest Running      7.48      566  00:41:01   \n",
       "2  2021-08-11 16:45:15  New Forest Running      6.71      499  00:37:01   \n",
       "5  2021-08-07 15:12:24  New Forest Running      7.26      539  00:40:01   \n",
       "7  2021-07-29 18:52:50  New Forest Running      6.82      523  00:37:01   \n",
       "8  2021-07-26 17:02:04  New Forest Running      6.74      520  00:37:02   \n",
       "9  2021-07-24 11:40:53  New Forest Running      6.93      513  00:38:01   \n",
       "10 2021-07-22 17:46:08  New Forest Running      6.92      529  00:38:01   \n",
       "11 2021-07-20 17:15:05  New Forest Running      6.54      492  00:35:46   \n",
       "13 2021-07-17 14:29:39  New Forest Running      6.80      527  00:37:27   \n",
       "14 2021-07-15 18:01:25  New Forest Running      6.12      462  00:34:02   \n",
       "16 2021-07-09 16:26:22  New Forest Running      7.15      548  00:39:03   \n",
       "19 2021-06-29 18:22:30  New Forest Running      6.75      522  00:37:02   \n",
       "22 2021-06-17 18:46:10  New Forest Running      8.60      675  00:47:02   \n",
       "24 2021-06-09 18:39:50  New Forest Running      6.74      523  00:37:02   \n",
       "\n",
       "    Avg HR Max HR Aerobic TE Avg Run Cadence Max Run Cadence  \\\n",
       "1      148    166        3.2             147             156   \n",
       "2      145    162        3.0             148             156   \n",
       "5      145    163        3.2             148             155   \n",
       "7      152    168        3.3             147             153   \n",
       "8      150    165        3.3             146             153   \n",
       "9      147    164        3.3             147             161   \n",
       "10     151    166        3.3             147             155   \n",
       "11     147    165        3.3             147             156   \n",
       "13     154    167        3.4             147             151   \n",
       "14     148    164        3.2             145             152   \n",
       "16     152    169        3.4             148             156   \n",
       "19     154    173        3.4             147             153   \n",
       "22     156    171        3.6             147             156   \n",
       "24     153    174        3.2             145             153   \n",
       "\n",
       "              Avg Pace Best Pace Elev Gain Elev Loss  Avg Stride Length  \\\n",
       "1  1900-01-01 00:05:29      4:44        28        30               1.24   \n",
       "2  1900-01-01 00:05:31      4:38        33        35               1.22   \n",
       "5  1900-01-01 00:05:31      4:43        32        35               1.23   \n",
       "7  1900-01-01 00:05:26      4:50        29        30               1.26   \n",
       "8  1900-01-01 00:05:30      4:47        30        35               1.25   \n",
       "9  1900-01-01 00:05:29      4:47        36        35               1.24   \n",
       "10 1900-01-01 00:05:30      4:51        32        36               1.23   \n",
       "11 1900-01-01 00:05:28      4:32        29        33               1.24   \n",
       "13 1900-01-01 00:05:31      4:40        33        35               1.24   \n",
       "14 1900-01-01 00:05:34      4:37        31        33               1.24   \n",
       "16 1900-01-01 00:05:28      4:44        33        34               1.24   \n",
       "19 1900-01-01 00:05:29      4:44        27        29               1.24   \n",
       "22 1900-01-01 00:05:28      4:44        34        35               1.25   \n",
       "24 1900-01-01 00:05:30      4:45        28        29               1.25   \n",
       "\n",
       "   Best Lap Time Moving Time Elapsed Time  \n",
       "1       00:01.17    00:00:00     00:41:17  \n",
       "2       00:01.23    00:00:00     00:37:07  \n",
       "5       00:00.51    00:40:00     00:40:08  \n",
       "7       00:01.25    00:36:59     00:37:23  \n",
       "8       00:01.65    00:36:44     00:37:20  \n",
       "9       00:01.15    00:38:00     00:38:01  \n",
       "10      00:01.29    00:37:50     00:38:22  \n",
       "11      01:09.22    00:35:24     00:36:08  \n",
       "13      01:05.65    00:37:21     00:37:33  \n",
       "14      00:02.47    00:33:58     00:34:20  \n",
       "16      00:02.68    00:38:58     00:39:16  \n",
       "19      00:01.62    00:36:58     00:37:25  \n",
       "22      00:01.97    00:46:24     00:47:56  \n",
       "24      00:02.46    00:36:47     00:38:20  "
      ]
     },
     "execution_count": 551,
     "metadata": {},
     "output_type": "execute_result"
    }
   ],
   "source": [
    "Running_df['Avg Pace'] = Running_df['Avg Pace'].apply(dt.strptime, args=(\"%M:%S\",))\n",
    "\n",
    "Temp_df = Running_df[Running_df['Avg Pace'] < dt.strptime('5:35', '%M:%S')]\n",
    "Temp_df = Temp_df[Temp_df['Avg Pace'] > dt.strptime('5:25', '%M:%S')]\n",
    "Temp_df = Temp_df[Temp_df['Date'] > dt.strptime('2021-06', '%Y-%m')]\n",
    "Temp_df"
   ]
  },
  {
   "cell_type": "markdown",
   "metadata": {},
   "source": [
    "To reset the index, I can use the ```reset_index``` method. Note this shifts the current index into a column. I can choose to remove that, or you can keep it if you want to know which indices the rows from this DataFrame correspond to the original. I will remove it."
   ]
  },
  {
   "cell_type": "code",
   "execution_count": 552,
   "metadata": {},
   "outputs": [],
   "source": [
    "Temp_df = Temp_df.reset_index().drop(columns='index')"
   ]
  },
  {
   "cell_type": "markdown",
   "metadata": {},
   "source": [
    "### 1.3 Plotting the Data"
   ]
  },
  {
   "cell_type": "markdown",
   "metadata": {},
   "source": [
    "The data should now be ready to plot and analysis. To do this I will use the package ```matplotlib```. This is a mathematical plotting package that is much more sophisticated that just the ```DataFrame.plot```. Although ```DataFrame.plot``` uses matplotlib to plot, it's more versitle to use the package itself."
   ]
  },
  {
   "cell_type": "code",
   "execution_count": 553,
   "metadata": {},
   "outputs": [],
   "source": [
    "import matplotlib.pyplot as plt"
   ]
  },
  {
   "cell_type": "markdown",
   "metadata": {},
   "source": [
    "In general, you plot using plt with the command ```plt.plot```, where ```.plot``` can be replaced with different kinds of plots, such as scatter, which I will use here."
   ]
  },
  {
   "cell_type": "code",
   "execution_count": 566,
   "metadata": {},
   "outputs": [
    {
     "data": {
      "text/plain": [
       "(array([18793., 18809., 18823., 18840., 18854.]),\n",
       " [Text(0, 0, ''),\n",
       "  Text(0, 0, ''),\n",
       "  Text(0, 0, ''),\n",
       "  Text(0, 0, ''),\n",
       "  Text(0, 0, '')])"
      ]
     },
     "execution_count": 566,
     "metadata": {},
     "output_type": "execute_result"
    },
    {
     "data": {
      "image/png": "[encoded data removed]",
      "text/plain": [
       "<Figure size 432x288 with 1 Axes>"
      ]
     },
     "metadata": {
      "needs_background": "light"
     },
     "output_type": "display_data"
    }
   ],
   "source": [
    "plt.scatter(x=Temp_df['Date'], y=Temp_df['Avg HR'])\n",
    "plt.xticks(rotation=45)"
   ]
  },
  {
   "cell_type": "markdown",
   "metadata": {},
   "source": [
    "I can conclude that the average heart rate on similar effort runs has decreased over the past few months. "
   ]
  },
  {
   "cell_type": "markdown",
   "metadata": {},
   "source": [
    "#### 1.3.1 Groupby and strftime methods"
   ]
  },
  {
   "cell_type": "markdown",
   "metadata": {},
   "source": [
    "What about the average heart rate over the past year, regardless of pace? I could plot all the data but it might be more insightful to measure the average per month. This can be done by using the ```DataFrame.groupby()``` method."
   ]
  },
  {
   "cell_type": "markdown",
   "metadata": {},
   "source": [
    "First I need to change the date's format so that those that fall in the same month have a common value. I can reorganise a datetime object into a string of specific format using the method ```datetime.strftime()```:"
   ]
  },
  {
   "cell_type": "code",
   "execution_count": 570,
   "metadata": {},
   "outputs": [
    {
     "ename": "TypeError",
     "evalue": "descriptor 'strftime' for 'datetime.date' objects doesn't apply to a 'str' object",
     "output_type": "error",
     "traceback": [
      "\u001b[1;31m---------------------------------------------------------------------------\u001b[0m",
      "\u001b[1;31mTypeError\u001b[0m                                 Traceback (most recent call last)",
      "\u001b[1;32m<ipython-input-570-77854a21b187>\u001b[0m in \u001b[0;36m<module>\u001b[1;34m\u001b[0m\n\u001b[1;32m----> 1\u001b[1;33m \u001b[0mRunning_df\u001b[0m\u001b[1;33m[\u001b[0m\u001b[1;34m'Date'\u001b[0m\u001b[1;33m]\u001b[0m \u001b[1;33m=\u001b[0m \u001b[0mRunning_df\u001b[0m\u001b[1;33m[\u001b[0m\u001b[1;34m'Date'\u001b[0m\u001b[1;33m]\u001b[0m\u001b[1;33m.\u001b[0m\u001b[0mapply\u001b[0m\u001b[1;33m(\u001b[0m\u001b[0mdt\u001b[0m\u001b[1;33m.\u001b[0m\u001b[0mstrftime\u001b[0m\u001b[1;33m,\u001b[0m \u001b[0margs\u001b[0m\u001b[1;33m=\u001b[0m\u001b[1;33m(\u001b[0m\u001b[1;34m'%Y-%m'\u001b[0m\u001b[1;33m,\u001b[0m\u001b[1;33m)\u001b[0m\u001b[1;33m)\u001b[0m\u001b[1;33m\u001b[0m\u001b[1;33m\u001b[0m\u001b[0m\n\u001b[0m",
      "\u001b[1;32m~\\anaconda3\\lib\\site-packages\\pandas\\core\\series.py\u001b[0m in \u001b[0;36mapply\u001b[1;34m(self, func, convert_dtype, args, **kwds)\u001b[0m\n\u001b[0;32m   4198\u001b[0m             \u001b[1;32melse\u001b[0m\u001b[1;33m:\u001b[0m\u001b[1;33m\u001b[0m\u001b[1;33m\u001b[0m\u001b[0m\n\u001b[0;32m   4199\u001b[0m                 \u001b[0mvalues\u001b[0m \u001b[1;33m=\u001b[0m \u001b[0mself\u001b[0m\u001b[1;33m.\u001b[0m\u001b[0mastype\u001b[0m\u001b[1;33m(\u001b[0m\u001b[0mobject\u001b[0m\u001b[1;33m)\u001b[0m\u001b[1;33m.\u001b[0m\u001b[0m_values\u001b[0m\u001b[1;33m\u001b[0m\u001b[1;33m\u001b[0m\u001b[0m\n\u001b[1;32m-> 4200\u001b[1;33m                 \u001b[0mmapped\u001b[0m \u001b[1;33m=\u001b[0m \u001b[0mlib\u001b[0m\u001b[1;33m.\u001b[0m\u001b[0mmap_infer\u001b[0m\u001b[1;33m(\u001b[0m\u001b[0mvalues\u001b[0m\u001b[1;33m,\u001b[0m \u001b[0mf\u001b[0m\u001b[1;33m,\u001b[0m \u001b[0mconvert\u001b[0m\u001b[1;33m=\u001b[0m\u001b[0mconvert_dtype\u001b[0m\u001b[1;33m)\u001b[0m\u001b[1;33m\u001b[0m\u001b[1;33m\u001b[0m\u001b[0m\n\u001b[0m\u001b[0;32m   4201\u001b[0m \u001b[1;33m\u001b[0m\u001b[0m\n\u001b[0;32m   4202\u001b[0m         \u001b[1;32mif\u001b[0m \u001b[0mlen\u001b[0m\u001b[1;33m(\u001b[0m\u001b[0mmapped\u001b[0m\u001b[1;33m)\u001b[0m \u001b[1;32mand\u001b[0m \u001b[0misinstance\u001b[0m\u001b[1;33m(\u001b[0m\u001b[0mmapped\u001b[0m\u001b[1;33m[\u001b[0m\u001b[1;36m0\u001b[0m\u001b[1;33m]\u001b[0m\u001b[1;33m,\u001b[0m \u001b[0mSeries\u001b[0m\u001b[1;33m)\u001b[0m\u001b[1;33m:\u001b[0m\u001b[1;33m\u001b[0m\u001b[1;33m\u001b[0m\u001b[0m\n",
      "\u001b[1;32mpandas\\_libs\\lib.pyx\u001b[0m in \u001b[0;36mpandas._libs.lib.map_infer\u001b[1;34m()\u001b[0m\n",
      "\u001b[1;32m~\\anaconda3\\lib\\site-packages\\pandas\\core\\series.py\u001b[0m in \u001b[0;36mf\u001b[1;34m(x)\u001b[0m\n\u001b[0;32m   4183\u001b[0m \u001b[1;33m\u001b[0m\u001b[0m\n\u001b[0;32m   4184\u001b[0m             \u001b[1;32mdef\u001b[0m \u001b[0mf\u001b[0m\u001b[1;33m(\u001b[0m\u001b[0mx\u001b[0m\u001b[1;33m)\u001b[0m\u001b[1;33m:\u001b[0m\u001b[1;33m\u001b[0m\u001b[1;33m\u001b[0m\u001b[0m\n\u001b[1;32m-> 4185\u001b[1;33m                 \u001b[1;32mreturn\u001b[0m \u001b[0mfunc\u001b[0m\u001b[1;33m(\u001b[0m\u001b[0mx\u001b[0m\u001b[1;33m,\u001b[0m \u001b[1;33m*\u001b[0m\u001b[0margs\u001b[0m\u001b[1;33m,\u001b[0m \u001b[1;33m**\u001b[0m\u001b[0mkwds\u001b[0m\u001b[1;33m)\u001b[0m\u001b[1;33m\u001b[0m\u001b[1;33m\u001b[0m\u001b[0m\n\u001b[0m\u001b[0;32m   4186\u001b[0m \u001b[1;33m\u001b[0m\u001b[0m\n\u001b[0;32m   4187\u001b[0m         \u001b[1;32melse\u001b[0m\u001b[1;33m:\u001b[0m\u001b[1;33m\u001b[0m\u001b[1;33m\u001b[0m\u001b[0m\n",
      "\u001b[1;31mTypeError\u001b[0m: descriptor 'strftime' for 'datetime.date' objects doesn't apply to a 'str' object"
     ]
    }
   ],
   "source": [
    "Running_df['Date'] = Running_df['Date'].apply(dt.strftime, args=('%Y-%m',))"
   ]
  },
  {
   "cell_type": "markdown",
   "metadata": {},
   "source": [
    "Here, the argument passed is the format you wish the date and time to be displayed. I have chosen just the year and month all exercise within a month has the same date."
   ]
  },
  {
   "cell_type": "markdown",
   "metadata": {},
   "source": [
    "I can now use the ```.groupby``` method to group all rows based on a common value in another column, namely the 'Date' column. I therefore group all runs together that occured in the same month. From there I can apply the ```.mean``` method to average the values for 'Avg HR':"
   ]
  },
  {
   "cell_type": "code",
   "execution_count": 571,
   "metadata": {},
   "outputs": [
    {
     "data": {
      "text/plain": [
       "<AxesSubplot:xlabel='Date'>"
      ]
     },
     "execution_count": 571,
     "metadata": {},
     "output_type": "execute_result"
    },
    {
     "data": {
      "image/png": "[encoded data removed]",
      "text/plain": [
       "<Figure size 432x288 with 1 Axes>"
      ]
     },
     "metadata": {
      "needs_background": "light"
     },
     "output_type": "display_data"
    }
   ],
   "source": [
    "Running_df[['Date', 'Avg HR']].groupby(by=['Date']).mean().plot()"
   ]
  },
  {
   "cell_type": "markdown",
   "metadata": {},
   "source": [
    "Plotting reveals that during the summer months average heart rate during runs tends to decrease, while during winter months it tends to increase."
   ]
  },
  {
   "cell_type": "markdown",
   "metadata": {},
   "source": [
    "Although this plot is useful in its current form, it's not the most attractive nor is it the most clear. This is how matplotlib can be used to improve and manipulate the plots."
   ]
  },
  {
   "cell_type": "code",
   "execution_count": 265,
   "metadata": {},
   "outputs": [],
   "source": [
    "def Avg_Pace(Times):\n",
    "    Total_Time = 0\n",
    "    for i in range(len(Times)):\n",
    "        Total_Time += (Times[i].minute*60) + Times[i].second\n",
    "        \n",
    "    Avg_Time = Total_Time/len(Times)\n",
    "    return round(Avg_Time)\n",
    "\n",
    "def Restore_Format(Avg_Time):\n",
    "    Seconds = Avg_Time%60\n",
    "    Minutes = Avg_Time - Seconds\n",
    "    Avg_Time_dt = dt.strptime(\"{}:{}\".format(int(Minutes/60), Seconds), \"%M:%S\")\n",
    "    return Avg_Time_dt"
   ]
  },
  {
   "cell_type": "code",
   "execution_count": 77,
   "metadata": {},
   "outputs": [],
   "source": [
    "def Structure_DateTime(Date, Starting_Format, Final_Format, Leave_as_String):\n",
    "    Date_Object = dt.strptime(Date, Starting_Format)\n",
    "    if Leave_as_String == True:\n",
    "        Date_Object = dt.strftime(Date_Object, Final_Format)\n",
    "    return Date_Object\n",
    "\n",
    "def String_to_Integer(String):\n",
    "    String = int(String)\n",
    "    return String\n",
    "\n",
    "#def Datetime_to_Int():"
   ]
  },
  {
   "cell_type": "code",
   "execution_count": 81,
   "metadata": {},
   "outputs": [
    {
     "ename": "TypeError",
     "evalue": "strptime() argument 1 must be str, not Timestamp",
     "output_type": "error",
     "traceback": [
      "\u001b[1;31m---------------------------------------------------------------------------\u001b[0m",
      "\u001b[1;31mTypeError\u001b[0m                                 Traceback (most recent call last)",
      "\u001b[1;32m<ipython-input-81-ffdf59afcbf9>\u001b[0m in \u001b[0;36m<module>\u001b[1;34m\u001b[0m\n\u001b[0;32m      1\u001b[0m \u001b[1;32mfor\u001b[0m \u001b[0mDataFrame\u001b[0m \u001b[1;32min\u001b[0m \u001b[0mActivity_DataFrames\u001b[0m\u001b[1;33m:\u001b[0m\u001b[1;33m\u001b[0m\u001b[1;33m\u001b[0m\u001b[0m\n\u001b[1;32m----> 2\u001b[1;33m     \u001b[0mDataFrame\u001b[0m\u001b[1;33m[\u001b[0m\u001b[1;34m'Date'\u001b[0m\u001b[1;33m]\u001b[0m\u001b[1;33m=\u001b[0m\u001b[0mDataFrame\u001b[0m\u001b[1;33m[\u001b[0m\u001b[1;34m'Date'\u001b[0m\u001b[1;33m]\u001b[0m\u001b[1;33m.\u001b[0m\u001b[0mapply\u001b[0m\u001b[1;33m(\u001b[0m\u001b[0mStructure_DateTime\u001b[0m\u001b[1;33m,\u001b[0m \u001b[0margs\u001b[0m\u001b[1;33m=\u001b[0m\u001b[1;33m(\u001b[0m\u001b[1;34m\"%Y-%m-%d %H:%M:%S\"\u001b[0m\u001b[1;33m,\u001b[0m \u001b[1;34m\"%d-%m-%Y\"\u001b[0m\u001b[1;33m,\u001b[0m \u001b[1;32mFalse\u001b[0m\u001b[1;33m)\u001b[0m\u001b[1;33m)\u001b[0m\u001b[1;33m\u001b[0m\u001b[1;33m\u001b[0m\u001b[0m\n\u001b[0m",
      "\u001b[1;32m~\\anaconda3\\lib\\site-packages\\pandas\\core\\series.py\u001b[0m in \u001b[0;36mapply\u001b[1;34m(self, func, convert_dtype, args, **kwds)\u001b[0m\n\u001b[0;32m   4198\u001b[0m             \u001b[1;32melse\u001b[0m\u001b[1;33m:\u001b[0m\u001b[1;33m\u001b[0m\u001b[1;33m\u001b[0m\u001b[0m\n\u001b[0;32m   4199\u001b[0m                 \u001b[0mvalues\u001b[0m \u001b[1;33m=\u001b[0m \u001b[0mself\u001b[0m\u001b[1;33m.\u001b[0m\u001b[0mastype\u001b[0m\u001b[1;33m(\u001b[0m\u001b[0mobject\u001b[0m\u001b[1;33m)\u001b[0m\u001b[1;33m.\u001b[0m\u001b[0m_values\u001b[0m\u001b[1;33m\u001b[0m\u001b[1;33m\u001b[0m\u001b[0m\n\u001b[1;32m-> 4200\u001b[1;33m                 \u001b[0mmapped\u001b[0m \u001b[1;33m=\u001b[0m \u001b[0mlib\u001b[0m\u001b[1;33m.\u001b[0m\u001b[0mmap_infer\u001b[0m\u001b[1;33m(\u001b[0m\u001b[0mvalues\u001b[0m\u001b[1;33m,\u001b[0m \u001b[0mf\u001b[0m\u001b[1;33m,\u001b[0m \u001b[0mconvert\u001b[0m\u001b[1;33m=\u001b[0m\u001b[0mconvert_dtype\u001b[0m\u001b[1;33m)\u001b[0m\u001b[1;33m\u001b[0m\u001b[1;33m\u001b[0m\u001b[0m\n\u001b[0m\u001b[0;32m   4201\u001b[0m \u001b[1;33m\u001b[0m\u001b[0m\n\u001b[0;32m   4202\u001b[0m         \u001b[1;32mif\u001b[0m \u001b[0mlen\u001b[0m\u001b[1;33m(\u001b[0m\u001b[0mmapped\u001b[0m\u001b[1;33m)\u001b[0m \u001b[1;32mand\u001b[0m \u001b[0misinstance\u001b[0m\u001b[1;33m(\u001b[0m\u001b[0mmapped\u001b[0m\u001b[1;33m[\u001b[0m\u001b[1;36m0\u001b[0m\u001b[1;33m]\u001b[0m\u001b[1;33m,\u001b[0m \u001b[0mSeries\u001b[0m\u001b[1;33m)\u001b[0m\u001b[1;33m:\u001b[0m\u001b[1;33m\u001b[0m\u001b[1;33m\u001b[0m\u001b[0m\n",
      "\u001b[1;32mpandas\\_libs\\lib.pyx\u001b[0m in \u001b[0;36mpandas._libs.lib.map_infer\u001b[1;34m()\u001b[0m\n",
      "\u001b[1;32m~\\anaconda3\\lib\\site-packages\\pandas\\core\\series.py\u001b[0m in \u001b[0;36mf\u001b[1;34m(x)\u001b[0m\n\u001b[0;32m   4183\u001b[0m \u001b[1;33m\u001b[0m\u001b[0m\n\u001b[0;32m   4184\u001b[0m             \u001b[1;32mdef\u001b[0m \u001b[0mf\u001b[0m\u001b[1;33m(\u001b[0m\u001b[0mx\u001b[0m\u001b[1;33m)\u001b[0m\u001b[1;33m:\u001b[0m\u001b[1;33m\u001b[0m\u001b[1;33m\u001b[0m\u001b[0m\n\u001b[1;32m-> 4185\u001b[1;33m                 \u001b[1;32mreturn\u001b[0m \u001b[0mfunc\u001b[0m\u001b[1;33m(\u001b[0m\u001b[0mx\u001b[0m\u001b[1;33m,\u001b[0m \u001b[1;33m*\u001b[0m\u001b[0margs\u001b[0m\u001b[1;33m,\u001b[0m \u001b[1;33m**\u001b[0m\u001b[0mkwds\u001b[0m\u001b[1;33m)\u001b[0m\u001b[1;33m\u001b[0m\u001b[1;33m\u001b[0m\u001b[0m\n\u001b[0m\u001b[0;32m   4186\u001b[0m \u001b[1;33m\u001b[0m\u001b[0m\n\u001b[0;32m   4187\u001b[0m         \u001b[1;32melse\u001b[0m\u001b[1;33m:\u001b[0m\u001b[1;33m\u001b[0m\u001b[1;33m\u001b[0m\u001b[0m\n",
      "\u001b[1;32m<ipython-input-77-d3f5b26299df>\u001b[0m in \u001b[0;36mStructure_DateTime\u001b[1;34m(Date, Starting_Format, Final_Format, Leave_as_String)\u001b[0m\n\u001b[0;32m      1\u001b[0m \u001b[1;32mdef\u001b[0m \u001b[0mStructure_DateTime\u001b[0m\u001b[1;33m(\u001b[0m\u001b[0mDate\u001b[0m\u001b[1;33m,\u001b[0m \u001b[0mStarting_Format\u001b[0m\u001b[1;33m,\u001b[0m \u001b[0mFinal_Format\u001b[0m\u001b[1;33m,\u001b[0m \u001b[0mLeave_as_String\u001b[0m\u001b[1;33m)\u001b[0m\u001b[1;33m:\u001b[0m\u001b[1;33m\u001b[0m\u001b[1;33m\u001b[0m\u001b[0m\n\u001b[1;32m----> 2\u001b[1;33m     \u001b[0mDate_Object\u001b[0m \u001b[1;33m=\u001b[0m \u001b[0mdt\u001b[0m\u001b[1;33m.\u001b[0m\u001b[0mstrptime\u001b[0m\u001b[1;33m(\u001b[0m\u001b[0mDate\u001b[0m\u001b[1;33m,\u001b[0m \u001b[0mStarting_Format\u001b[0m\u001b[1;33m)\u001b[0m\u001b[1;33m\u001b[0m\u001b[1;33m\u001b[0m\u001b[0m\n\u001b[0m\u001b[0;32m      3\u001b[0m     \u001b[1;32mif\u001b[0m \u001b[0mLeave_as_String\u001b[0m \u001b[1;33m==\u001b[0m \u001b[1;32mTrue\u001b[0m\u001b[1;33m:\u001b[0m\u001b[1;33m\u001b[0m\u001b[1;33m\u001b[0m\u001b[0m\n\u001b[0;32m      4\u001b[0m         \u001b[0mDate_Object\u001b[0m \u001b[1;33m=\u001b[0m \u001b[0mdt\u001b[0m\u001b[1;33m.\u001b[0m\u001b[0mstrftime\u001b[0m\u001b[1;33m(\u001b[0m\u001b[0mDate_Object\u001b[0m\u001b[1;33m,\u001b[0m \u001b[0mFinal_Format\u001b[0m\u001b[1;33m)\u001b[0m\u001b[1;33m\u001b[0m\u001b[1;33m\u001b[0m\u001b[0m\n\u001b[0;32m      5\u001b[0m     \u001b[1;32mreturn\u001b[0m \u001b[0mDate_Object\u001b[0m\u001b[1;33m\u001b[0m\u001b[1;33m\u001b[0m\u001b[0m\n",
      "\u001b[1;31mTypeError\u001b[0m: strptime() argument 1 must be str, not Timestamp"
     ]
    }
   ],
   "source": [
    "for DataFrame in Activity_DataFrames:\n",
    "    DataFrame['Date']=DataFrame['Date'].apply(Structure_DateTime, args=(\"%Y-%m-%d %H:%M:%S\", \"%d-%m-%Y\", False))"
   ]
  },
  {
   "cell_type": "code",
   "execution_count": null,
   "metadata": {},
   "outputs": [],
   "source": []
  }
 ],
 "metadata": {
  "kernelspec": {
   "display_name": "Python 3",
   "language": "python",
   "name": "python3"
  },
  "language_info": {
   "codemirror_mode": {
    "name": "ipython",
    "version": 3
   },
   "file_extension": ".py",
   "mimetype": "text/x-python",
   "name": "python",
   "nbconvert_exporter": "python",
   "pygments_lexer": "ipython3",
   "version": "3.8.5"
  }
 },
 "nbformat": 4,
 "nbformat_minor": 4
}
