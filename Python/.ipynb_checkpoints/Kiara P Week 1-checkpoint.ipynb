{
 "cells": [
  {
   "cell_type": "markdown",
   "metadata": {},
   "source": [
    "# Week 1: Python Recap and Intro to Pandas"
   ]
  },
  {
   "cell_type": "markdown",
   "metadata": {},
   "source": [
    "## 1. Python Recap"
   ]
  },
  {
   "cell_type": "markdown",
   "metadata": {},
   "source": [
    "### 1.1 Key paradigm of python: Modules"
   ]
  },
  {
   "cell_type": "markdown",
   "metadata": {},
   "source": [
    "In my experience, Python programming primarily uses modules designed by external developers. The day-to-day programming involves working with specific packages designed to do certain tasks, like e.g. pandas or numpy."
   ]
  },
  {
   "cell_type": "markdown",
   "metadata": {},
   "source": [
    "To import a package, assuming it has been downloaded to the environment you are working in, you use the command: ```import```. And to import it under an alias: ```import PACKAGE as ALIAS```. For example:"
   ]
  },
  {
   "cell_type": "code",
   "execution_count": 255,
   "metadata": {},
   "outputs": [],
   "source": [
    "import pandas as pd"
   ]
  },
  {
   "cell_type": "markdown",
   "metadata": {},
   "source": [
    "Notice that python statements do not need to be finished with a semi-colon or anything else."
   ]
  },
  {
   "cell_type": "markdown",
   "metadata": {},
   "source": [
    "### 1.2 Data types in python"
   ]
  },
  {
   "cell_type": "markdown",
   "metadata": {},
   "source": [
    "The usual data types exist in python, e.g. strings, floats, integers, objects. And are assigned to variables using an ```=```. White space is ignored by the python interpreter, and variables do not need to be declared explicitly. For example:"
   ]
  },
  {
   "cell_type": "code",
   "execution_count": 256,
   "metadata": {},
   "outputs": [],
   "source": [
    "Example_String = \"abc\"\n",
    "Example_Integer = 10"
   ]
  },
  {
   "cell_type": "markdown",
   "metadata": {},
   "source": [
    "Note: strings can be declared with single or double quotation marks. To find the type of a python object, use the ```type()``` function:"
   ]
  },
  {
   "cell_type": "code",
   "execution_count": 266,
   "metadata": {},
   "outputs": [
    {
     "name": "stdout",
     "output_type": "stream",
     "text": [
      "<class 'str'> <class 'int'>\n"
     ]
    }
   ],
   "source": [
    "print(type(Example_String), type(Example_Integer))"
   ]
  },
  {
   "cell_type": "markdown",
   "metadata": {},
   "source": [
    "Lists, dictionaries, and tuples are specified using ```[], {}, and ()```, respectively:"
   ]
  },
  {
   "cell_type": "code",
   "execution_count": 267,
   "metadata": {},
   "outputs": [],
   "source": [
    "Example_List = [1, 2, 3]\n",
    "Example_Dictionary = {'a':1, 'b':2, 'c':3}\n",
    "Example_Tuple = (1, 2, 3)"
   ]
  },
  {
   "cell_type": "markdown",
   "metadata": {},
   "source": [
    "Only lists and dictionaries can be changed once declared, tuples cannot:"
   ]
  },
  {
   "cell_type": "code",
   "execution_count": 270,
   "metadata": {},
   "outputs": [
    {
     "ename": "TypeError",
     "evalue": "'tuple' object does not support item assignment",
     "output_type": "error",
     "traceback": [
      "\u001b[1;31m---------------------------------------------------------------------------\u001b[0m",
      "\u001b[1;31mTypeError\u001b[0m                                 Traceback (most recent call last)",
      "\u001b[1;32m<ipython-input-270-65b386cded67>\u001b[0m in \u001b[0;36m<module>\u001b[1;34m\u001b[0m\n\u001b[1;32m----> 1\u001b[1;33m \u001b[0mExample_Tuple\u001b[0m\u001b[1;33m[\u001b[0m\u001b[1;36m0\u001b[0m\u001b[1;33m]\u001b[0m \u001b[1;33m=\u001b[0m \u001b[1;36m1\u001b[0m\u001b[1;33m\u001b[0m\u001b[1;33m\u001b[0m\u001b[0m\n\u001b[0m",
      "\u001b[1;31mTypeError\u001b[0m: 'tuple' object does not support item assignment"
     ]
    }
   ],
   "source": [
    "Example_Tuple[0] = 4"
   ]
  },
  {
   "cell_type": "markdown",
   "metadata": {},
   "source": [
    "Otherwise, they are all indexed using square brackets, ```[]```."
   ]
  },
  {
   "cell_type": "markdown",
   "metadata": {},
   "source": [
    "### 1.3 Conditional statements"
   ]
  },
  {
   "cell_type": "markdown",
   "metadata": {},
   "source": [
    "The regular conditional statements exist in python and are used and sytnaxed as follows:"
   ]
  },
  {
   "cell_type": "code",
   "execution_count": 276,
   "metadata": {},
   "outputs": [
    {
     "name": "stdout",
     "output_type": "stream",
     "text": [
      "if statement output:\n",
      "x is True\n",
      "\n",
      "\n",
      "while statement output:\n",
      "0\n",
      "1\n",
      "2\n",
      "3\n",
      "4\n",
      "5\n",
      "\n",
      "\n",
      "for statement output:\n",
      "0\n",
      "3\n",
      "6\n",
      "9\n",
      "12\n",
      "\n",
      "\n"
     ]
    }
   ],
   "source": [
    "x, y = True, False\n",
    "\n",
    "print('if statement output:')\n",
    "\n",
    "if x:\n",
    "    print('x is', x)\n",
    "elif y:\n",
    "    print('y is', y)\n",
    "else:\n",
    "    print('x and y are', x, y)\n",
    "\n",
    "print('\\n') #print whitespace\n",
    "\n",
    "#=============================\n",
    "x = 0\n",
    "\n",
    "print('while statement output:')\n",
    "\n",
    "while x <= 5:\n",
    "    print(x)\n",
    "    x += 1\n",
    "\n",
    "print('\\n')\n",
    "\n",
    "#=============================\n",
    "print('for statement output:')\n",
    "\n",
    "for x in range(0, 5):\n",
    "    print(x*3)\n",
    "\n",
    "print('\\n')"
   ]
  },
  {
   "cell_type": "markdown",
   "metadata": {},
   "source": [
    "### 1.4 Functions and Lambdas"
   ]
  },
  {
   "cell_type": "markdown",
   "metadata": {},
   "source": [
    "#### 1.4.1 Functions"
   ]
  },
  {
   "cell_type": "markdown",
   "metadata": {},
   "source": [
    "Functions will be the most frequently used aspect of python, in the context of data analysis. Seconded by the similar Lambdas, and rarely objects (only for used OOP for larger projects)."
   ]
  },
  {
   "cell_type": "markdown",
   "metadata": {},
   "source": [
    "A function is defined by the command ```def``` followed by the function name with brackets, for arguments:"
   ]
  },
  {
   "cell_type": "code",
   "execution_count": 277,
   "metadata": {},
   "outputs": [],
   "source": [
    "def Example_Function(Example_Arg):\n",
    "    print(Example_Arg)"
   ]
  },
  {
   "cell_type": "markdown",
   "metadata": {},
   "source": [
    "They are called by writing the functions name, with brackets with arguments inside:"
   ]
  },
  {
   "cell_type": "code",
   "execution_count": 282,
   "metadata": {},
   "outputs": [
    {
     "name": "stdout",
     "output_type": "stream",
     "text": [
      "Example argument\n"
     ]
    }
   ],
   "source": [
    "Example_Function('Example argument')"
   ]
  },
  {
   "cell_type": "markdown",
   "metadata": {},
   "source": [
    "Return statements are optional, and python implicitly defines your arguments type as ```NoneType``` if you do not put an explicit return statement in:"
   ]
  },
  {
   "cell_type": "code",
   "execution_count": 286,
   "metadata": {},
   "outputs": [
    {
     "name": "stdout",
     "output_type": "stream",
     "text": [
      "\n"
     ]
    },
    {
     "data": {
      "text/plain": [
       "NoneType"
      ]
     },
     "execution_count": 286,
     "metadata": {},
     "output_type": "execute_result"
    }
   ],
   "source": [
    "type(Example_Function(''))"
   ]
  },
  {
   "cell_type": "code",
   "execution_count": 287,
   "metadata": {},
   "outputs": [],
   "source": [
    "def Addition(x, y):\n",
    "    return x + y"
   ]
  },
  {
   "cell_type": "code",
   "execution_count": 289,
   "metadata": {},
   "outputs": [
    {
     "data": {
      "text/plain": [
       "15"
      ]
     },
     "execution_count": 289,
     "metadata": {},
     "output_type": "execute_result"
    }
   ],
   "source": [
    "Addition(5, 10)"
   ]
  },
  {
   "cell_type": "code",
   "execution_count": 291,
   "metadata": {},
   "outputs": [
    {
     "data": {
      "text/plain": [
       "int"
      ]
     },
     "execution_count": 291,
     "metadata": {},
     "output_type": "execute_result"
    }
   ],
   "source": [
    "type(Addition(0, 0))"
   ]
  },
  {
   "cell_type": "markdown",
   "metadata": {},
   "source": [
    "#### 1.4.2 Lambdas"
   ]
  },
  {
   "cell_type": "markdown",
   "metadata": {},
   "source": [
    "Lambdas are similar to functions in that they compute an output from an input, however the syntax is different are defined on one line. They are simpler but quicker to define:"
   ]
  },
  {
   "cell_type": "code",
   "execution_count": 294,
   "metadata": {},
   "outputs": [
    {
     "data": {
      "text/plain": [
       "15"
      ]
     },
     "execution_count": 294,
     "metadata": {},
     "output_type": "execute_result"
    }
   ],
   "source": [
    "Example_Lambda = lambda x:x+10\n",
    "Example_Lambda(5)"
   ]
  },
  {
   "cell_type": "markdown",
   "metadata": {},
   "source": [
    "The syntaxing rules here are:\n",
    "- declare lambda using ```lambda``` command\n",
    "- input variable(s), followed by a colon\n",
    "- calculation that determines the output and defines the lambda's function"
   ]
  },
  {
   "cell_type": "markdown",
   "metadata": {},
   "source": [
    "Lambdas are really useful when using pandas to define quick functions to lists of data, as you will see."
   ]
  },
  {
   "cell_type": "markdown",
   "metadata": {},
   "source": [
    "### 1.5 Packages"
   ]
  },
  {
   "cell_type": "markdown",
   "metadata": {},
   "source": [
    "As mentioned above packages will be the main thing you use when programming in python, it saves you having to make up all your own functions. The python packaging library is vast and chances are if there is something you are looking for, someone has already done it. Packages usually bring with them a series of new functions or objects, so it's important to know how to refer to and work with them."
   ]
  },
  {
   "cell_type": "markdown",
   "metadata": {},
   "source": [
    "Other than pandas, another important package, perhaps the most import package in python especially in data analysis, is numpy. Numpy is essentially a mathematical package, having most mathematical functions available. However what is most important about numpy is that it allows for linear algebra, through arrays. Numpy will therefore be the example package we use to study packages."
   ]
  },
  {
   "cell_type": "code",
   "execution_count": 295,
   "metadata": {},
   "outputs": [],
   "source": [
    "import numpy as np"
   ]
  },
  {
   "cell_type": "markdown",
   "metadata": {},
   "source": [
    "Package functions and objects are called by referencing the package and then the function/object you want, separated by a full stop. For example, here are some array objects being defined:"
   ]
  },
  {
   "cell_type": "code",
   "execution_count": 306,
   "metadata": {},
   "outputs": [
    {
     "data": {
      "text/plain": [
       "array([5, 7, 9])"
      ]
     },
     "execution_count": 306,
     "metadata": {},
     "output_type": "execute_result"
    }
   ],
   "source": [
    "Example_Array1 = np.array([1, 2, 3])\n",
    "Example_Array2 = np.array([4, 5, 6])\n",
    "Example_Array1 + Example_Array2"
   ]
  },
  {
   "cell_type": "markdown",
   "metadata": {},
   "source": [
    "I have also shown how numpy allows for linear (vectorial) operations."
   ]
  },
  {
   "cell_type": "markdown",
   "metadata": {},
   "source": [
    "Pandas is similar in its matrix-like setup, however an important distinction between the two, and one that makes pandas more powerful for data analysis is that numpy arrays can only have one data type in them, i.e. only integer values."
   ]
  },
  {
   "cell_type": "markdown",
   "metadata": {},
   "source": [
    "## 2. Intro to pandas"
   ]
  },
  {
   "cell_type": "markdown",
   "metadata": {},
   "source": [
    "Pandas is a vitally important tool for data analysis. It essentially allows for tables of data to be manipulated by a programming language, so fusing data and programming together. An important point for pandas is that within its core datatype - a DataFrame - you can have any possible python value: integers, strings, lists, etc.  "
   ]
  },
  {
   "cell_type": "markdown",
   "metadata": {},
   "source": [
    "A pandas DataFrame object is just a table of data converted to a python object, with a plethora of functions and methods to manipulate it. There is a similar object - a series - which is just one column of a DataFrame. There are many ways to define a DataFrame, and I will leave these to as and when we encounter them (e.g. importing csv/excel files). But in the general case a dictionary can be used:"
   ]
  },
  {
   "cell_type": "code",
   "execution_count": 347,
   "metadata": {},
   "outputs": [
    {
     "data": {
      "text/html": [
       "<div>\n",
       "<style scoped>\n",
       "    .dataframe tbody tr th:only-of-type {\n",
       "        vertical-align: middle;\n",
       "    }\n",
       "\n",
       "    .dataframe tbody tr th {\n",
       "        vertical-align: top;\n",
       "    }\n",
       "\n",
       "    .dataframe thead th {\n",
       "        text-align: right;\n",
       "    }\n",
       "</style>\n",
       "<table border=\"1\" class=\"dataframe\">\n",
       "  <thead>\n",
       "    <tr style=\"text-align: right;\">\n",
       "      <th></th>\n",
       "      <th>First Column Data</th>\n",
       "      <th>Second Column Data</th>\n",
       "    </tr>\n",
       "  </thead>\n",
       "  <tbody>\n",
       "    <tr>\n",
       "      <th>0</th>\n",
       "      <td>1</td>\n",
       "      <td>2</td>\n",
       "    </tr>\n",
       "    <tr>\n",
       "      <th>1</th>\n",
       "      <td>3</td>\n",
       "      <td>4</td>\n",
       "    </tr>\n",
       "  </tbody>\n",
       "</table>\n",
       "</div>"
      ],
      "text/plain": [
       "   First Column Data  Second Column Data\n",
       "0                  1                   2\n",
       "1                  3                   4"
      ]
     },
     "execution_count": 347,
     "metadata": {},
     "output_type": "execute_result"
    }
   ],
   "source": [
    "Data_dictionary = {'First Column Data':[1, 3], 'Second Column Data':[2, 4]}\n",
    "\n",
    "Example_df = pd.DataFrame(data = Data_dictionary)\n",
    "Example_df"
   ]
  },
  {
   "cell_type": "markdown",
   "metadata": {},
   "source": [
    "It is fairly self-explainatory how this works: the dictionary's keys specify the column headers, and it's values specify the column's data. A DataFrame can also be defined using a numpy array, but in this case a seperate ```columns=``` argument must be passed:"
   ]
  },
  {
   "cell_type": "code",
   "execution_count": 348,
   "metadata": {},
   "outputs": [
    {
     "data": {
      "text/html": [
       "<div>\n",
       "<style scoped>\n",
       "    .dataframe tbody tr th:only-of-type {\n",
       "        vertical-align: middle;\n",
       "    }\n",
       "\n",
       "    .dataframe tbody tr th {\n",
       "        vertical-align: top;\n",
       "    }\n",
       "\n",
       "    .dataframe thead th {\n",
       "        text-align: right;\n",
       "    }\n",
       "</style>\n",
       "<table border=\"1\" class=\"dataframe\">\n",
       "  <thead>\n",
       "    <tr style=\"text-align: right;\">\n",
       "      <th></th>\n",
       "      <th>First Column Data</th>\n",
       "      <th>Second Column Data</th>\n",
       "      <th>Third Column Data</th>\n",
       "    </tr>\n",
       "  </thead>\n",
       "  <tbody>\n",
       "    <tr>\n",
       "      <th>0</th>\n",
       "      <td>1</td>\n",
       "      <td>2</td>\n",
       "      <td>3</td>\n",
       "    </tr>\n",
       "    <tr>\n",
       "      <th>1</th>\n",
       "      <td>4</td>\n",
       "      <td>5</td>\n",
       "      <td>6</td>\n",
       "    </tr>\n",
       "  </tbody>\n",
       "</table>\n",
       "</div>"
      ],
      "text/plain": [
       "   First Column Data  Second Column Data  Third Column Data\n",
       "0                  1                   2                  3\n",
       "1                  4                   5                  6"
      ]
     },
     "execution_count": 348,
     "metadata": {},
     "output_type": "execute_result"
    }
   ],
   "source": [
    "Data = np.array([Example_Array1, Example_Array2])\n",
    "Second_Example_df = pd.DataFrame(data = Data, columns = ['First Column Data', 'Second Column Data', 'Third Column Data'])\n",
    "Second_Example_df"
   ]
  },
  {
   "cell_type": "markdown",
   "metadata": {},
   "source": [
    "You can see here that the 'Data' matrix has been converted to a DataFrame of the same dimensions:"
   ]
  },
  {
   "cell_type": "code",
   "execution_count": 349,
   "metadata": {},
   "outputs": [
    {
     "data": {
      "text/plain": [
       "(2, 3)"
      ]
     },
     "execution_count": 349,
     "metadata": {},
     "output_type": "execute_result"
    }
   ],
   "source": [
    "Data.shape"
   ]
  },
  {
   "cell_type": "code",
   "execution_count": 350,
   "metadata": {},
   "outputs": [
    {
     "data": {
      "text/plain": [
       "True"
      ]
     },
     "execution_count": 350,
     "metadata": {},
     "output_type": "execute_result"
    }
   ],
   "source": [
    "Data.shape == Second_Example_df.shape"
   ]
  },
  {
   "cell_type": "markdown",
   "metadata": {},
   "source": [
    "**Aside**: you can check for equality between values using ```==```, this will become important for boolean indexing/filtering DataFrames. "
   ]
  },
  {
   "cell_type": "markdown",
   "metadata": {},
   "source": [
    "### 2.1 Indexing DataFrames"
   ]
  },
  {
   "cell_type": "markdown",
   "metadata": {},
   "source": [
    "It is important to know how to index a DataFrame, to obtain specific data points in the table. There are two ways to do this: DataFrame.iloc or DataFrame.loc. DataFrame.iloc uses integer indexing (row x, row y - note indexing starts from 0), while DataFrame.loc allows you to use the names of columns:"
   ]
  },
  {
   "cell_type": "code",
   "execution_count": 396,
   "metadata": {},
   "outputs": [
    {
     "data": {
      "text/plain": [
       "3"
      ]
     },
     "execution_count": 396,
     "metadata": {},
     "output_type": "execute_result"
    }
   ],
   "source": [
    "Example_df.iloc[1, 0]"
   ]
  },
  {
   "cell_type": "markdown",
   "metadata": {},
   "source": [
    "Here you are referring to points in the DataFrame using matrix notation, regardless of what the columns or index are called."
   ]
  },
  {
   "cell_type": "code",
   "execution_count": 395,
   "metadata": {},
   "outputs": [
    {
     "data": {
      "text/plain": [
       "4"
      ]
     },
     "execution_count": 395,
     "metadata": {},
     "output_type": "execute_result"
    }
   ],
   "source": [
    "Example_df.loc[1, 'Second Column Data']"
   ]
  },
  {
   "cell_type": "markdown",
   "metadata": {},
   "source": [
    "Here you reference the index labelled 1 (this does not have to be a number) and the column labelled 'Second Column Data'."
   ]
  },
  {
   "cell_type": "markdown",
   "metadata": {},
   "source": [
    "To illustrate the difference, I will set the index to be equal to the 'First Column Data' column:"
   ]
  },
  {
   "cell_type": "code",
   "execution_count": 404,
   "metadata": {},
   "outputs": [
    {
     "data": {
      "text/html": [
       "<div>\n",
       "<style scoped>\n",
       "    .dataframe tbody tr th:only-of-type {\n",
       "        vertical-align: middle;\n",
       "    }\n",
       "\n",
       "    .dataframe tbody tr th {\n",
       "        vertical-align: top;\n",
       "    }\n",
       "\n",
       "    .dataframe thead th {\n",
       "        text-align: right;\n",
       "    }\n",
       "</style>\n",
       "<table border=\"1\" class=\"dataframe\">\n",
       "  <thead>\n",
       "    <tr style=\"text-align: right;\">\n",
       "      <th></th>\n",
       "      <th>Second Column Data</th>\n",
       "      <th>Third Column Data</th>\n",
       "    </tr>\n",
       "    <tr>\n",
       "      <th>First Column Data</th>\n",
       "      <th></th>\n",
       "      <th></th>\n",
       "    </tr>\n",
       "  </thead>\n",
       "  <tbody>\n",
       "    <tr>\n",
       "      <th>1</th>\n",
       "      <td>2</td>\n",
       "      <td>3</td>\n",
       "    </tr>\n",
       "    <tr>\n",
       "      <th>4</th>\n",
       "      <td>5</td>\n",
       "      <td>6</td>\n",
       "    </tr>\n",
       "  </tbody>\n",
       "</table>\n",
       "</div>"
      ],
      "text/plain": [
       "                   Second Column Data  Third Column Data\n",
       "First Column Data                                       \n",
       "1                                   2                  3\n",
       "4                                   5                  6"
      ]
     },
     "execution_count": 404,
     "metadata": {},
     "output_type": "execute_result"
    }
   ],
   "source": [
    "Temp_df = Second_Example_df.set_index('First Column Data')\n",
    "Temp_df"
   ]
  },
  {
   "cell_type": "code",
   "execution_count": 405,
   "metadata": {},
   "outputs": [
    {
     "data": {
      "text/plain": [
       "5"
      ]
     },
     "execution_count": 405,
     "metadata": {},
     "output_type": "execute_result"
    }
   ],
   "source": [
    "Temp_df.iloc[1, 0]"
   ]
  },
  {
   "cell_type": "markdown",
   "metadata": {},
   "source": [
    "You see how this refers to the second row and first column, not the index equal to 1. Now watch for DataFrame.loc:"
   ]
  },
  {
   "cell_type": "code",
   "execution_count": 408,
   "metadata": {},
   "outputs": [
    {
     "data": {
      "text/plain": [
       "3"
      ]
     },
     "execution_count": 408,
     "metadata": {},
     "output_type": "execute_result"
    }
   ],
   "source": [
    "Temp_df.loc[1, 'Third Column Data']"
   ]
  },
  {
   "cell_type": "markdown",
   "metadata": {},
   "source": [
    "Finally, you can extract a specific column without loc or iloc simply by using square brackets:"
   ]
  },
  {
   "cell_type": "code",
   "execution_count": 410,
   "metadata": {},
   "outputs": [
    {
     "data": {
      "text/plain": [
       "0    2\n",
       "1    4\n",
       "Name: Second Column Data, dtype: int64"
      ]
     },
     "execution_count": 410,
     "metadata": {},
     "output_type": "execute_result"
    }
   ],
   "source": [
    "Example_df['Second Column Data']"
   ]
  },
  {
   "cell_type": "markdown",
   "metadata": {},
   "source": [
    "### 2.2 Imporant DataFrame methods"
   ]
  },
  {
   "cell_type": "markdown",
   "metadata": {},
   "source": [
    "#### 2.2.1 DataFrame.join"
   ]
  },
  {
   "cell_type": "markdown",
   "metadata": {},
   "source": [
    "DataFrame.join does exactly as you might expect: it joins one DataFrame to another. The DataFrames are joined via their index columns, so where each index is the same the values are joined. In the example DataFrames, both indices are the same so all data is included:"
   ]
  },
  {
   "cell_type": "code",
   "execution_count": 383,
   "metadata": {},
   "outputs": [
    {
     "data": {
      "text/html": [
       "<div>\n",
       "<style scoped>\n",
       "    .dataframe tbody tr th:only-of-type {\n",
       "        vertical-align: middle;\n",
       "    }\n",
       "\n",
       "    .dataframe tbody tr th {\n",
       "        vertical-align: top;\n",
       "    }\n",
       "\n",
       "    .dataframe thead th {\n",
       "        text-align: right;\n",
       "    }\n",
       "</style>\n",
       "<table border=\"1\" class=\"dataframe\">\n",
       "  <thead>\n",
       "    <tr style=\"text-align: right;\">\n",
       "      <th></th>\n",
       "      <th>First Column Data First</th>\n",
       "      <th>Second Column Data First</th>\n",
       "      <th>First Column Data Second</th>\n",
       "      <th>Second Column Data Second</th>\n",
       "      <th>Third Column Data</th>\n",
       "    </tr>\n",
       "  </thead>\n",
       "  <tbody>\n",
       "    <tr>\n",
       "      <th>0</th>\n",
       "      <td>1</td>\n",
       "      <td>2</td>\n",
       "      <td>1</td>\n",
       "      <td>2</td>\n",
       "      <td>3</td>\n",
       "    </tr>\n",
       "    <tr>\n",
       "      <th>1</th>\n",
       "      <td>3</td>\n",
       "      <td>4</td>\n",
       "      <td>4</td>\n",
       "      <td>5</td>\n",
       "      <td>6</td>\n",
       "    </tr>\n",
       "  </tbody>\n",
       "</table>\n",
       "</div>"
      ],
      "text/plain": [
       "   First Column Data First  Second Column Data First  \\\n",
       "0                        1                         2   \n",
       "1                        3                         4   \n",
       "\n",
       "   First Column Data Second  Second Column Data Second  Third Column Data  \n",
       "0                         1                          2                  3  \n",
       "1                         4                          5                  6  "
      ]
     },
     "execution_count": 383,
     "metadata": {},
     "output_type": "execute_result"
    }
   ],
   "source": [
    "Example_df.join(Second_Example_df, lsuffix=' First', rsuffix=' Second')"
   ]
  },
  {
   "cell_type": "markdown",
   "metadata": {},
   "source": [
    "The 'lsuffix' and 'rsuffix' arguments are to help make distinctions between columns of the same name. DataFrames can be joined using specific columns as their indices. For example:"
   ]
  },
  {
   "cell_type": "code",
   "execution_count": 355,
   "metadata": {},
   "outputs": [
    {
     "data": {
      "text/html": [
       "<div>\n",
       "<style scoped>\n",
       "    .dataframe tbody tr th:only-of-type {\n",
       "        vertical-align: middle;\n",
       "    }\n",
       "\n",
       "    .dataframe tbody tr th {\n",
       "        vertical-align: top;\n",
       "    }\n",
       "\n",
       "    .dataframe thead th {\n",
       "        text-align: right;\n",
       "    }\n",
       "</style>\n",
       "<table border=\"1\" class=\"dataframe\">\n",
       "  <thead>\n",
       "    <tr style=\"text-align: right;\">\n",
       "      <th></th>\n",
       "      <th>First Column Data First</th>\n",
       "      <th>Second Column Data First</th>\n",
       "      <th>First Column Data Second</th>\n",
       "      <th>Second Column Data Second</th>\n",
       "      <th>Third Column Data</th>\n",
       "    </tr>\n",
       "  </thead>\n",
       "  <tbody>\n",
       "    <tr>\n",
       "      <th>0</th>\n",
       "      <td>1</td>\n",
       "      <td>2</td>\n",
       "      <td>4.0</td>\n",
       "      <td>5.0</td>\n",
       "      <td>6.0</td>\n",
       "    </tr>\n",
       "    <tr>\n",
       "      <th>1</th>\n",
       "      <td>3</td>\n",
       "      <td>4</td>\n",
       "      <td>NaN</td>\n",
       "      <td>NaN</td>\n",
       "      <td>NaN</td>\n",
       "    </tr>\n",
       "  </tbody>\n",
       "</table>\n",
       "</div>"
      ],
      "text/plain": [
       "   First Column Data First  Second Column Data First  \\\n",
       "0                        1                         2   \n",
       "1                        3                         4   \n",
       "\n",
       "   First Column Data Second  Second Column Data Second  Third Column Data  \n",
       "0                       4.0                        5.0                6.0  \n",
       "1                       NaN                        NaN                NaN  "
      ]
     },
     "execution_count": 355,
     "metadata": {},
     "output_type": "execute_result"
    }
   ],
   "source": [
    "Example_df.join(Second_Example_df, lsuffix=' First', rsuffix=' Second', on = 'First Column Data')"
   ]
  },
  {
   "cell_type": "markdown",
   "metadata": {},
   "source": [
    "Here the 1 in ```Example_df```'s column 'First Column Data' is joined to the 1 in the ```Second_Example_df```'s index."
   ]
  },
  {
   "cell_type": "markdown",
   "metadata": {},
   "source": [
    "#### 2.2.2 DataFrame.merge"
   ]
  },
  {
   "cell_type": "markdown",
   "metadata": {},
   "source": [
    "DataFrame.merge is possibly more useful than DataFrame.join. It is essentially a Venn diagram means of merging two DataFrames. As such you can select elements that are only in the left (```how='left'```) or right DataFrame (```how='right'```), those that are common to both (```how='inner'```), and those that are unique to each other (```how='outer'```)."
   ]
  },
  {
   "cell_type": "markdown",
   "metadata": {},
   "source": [
    "<img src=\"pandasVennDiagram.jpg\" width=200 height=200 />"
   ]
  },
  {
   "cell_type": "code",
   "execution_count": 361,
   "metadata": {},
   "outputs": [
    {
     "data": {
      "text/html": [
       "<div>\n",
       "<style scoped>\n",
       "    .dataframe tbody tr th:only-of-type {\n",
       "        vertical-align: middle;\n",
       "    }\n",
       "\n",
       "    .dataframe tbody tr th {\n",
       "        vertical-align: top;\n",
       "    }\n",
       "\n",
       "    .dataframe thead th {\n",
       "        text-align: right;\n",
       "    }\n",
       "</style>\n",
       "<table border=\"1\" class=\"dataframe\">\n",
       "  <thead>\n",
       "    <tr style=\"text-align: right;\">\n",
       "      <th></th>\n",
       "      <th>First Column Data</th>\n",
       "      <th>Second Column Data</th>\n",
       "      <th>Third Column Data</th>\n",
       "    </tr>\n",
       "  </thead>\n",
       "  <tbody>\n",
       "    <tr>\n",
       "      <th>0</th>\n",
       "      <td>1</td>\n",
       "      <td>2</td>\n",
       "      <td>3</td>\n",
       "    </tr>\n",
       "  </tbody>\n",
       "</table>\n",
       "</div>"
      ],
      "text/plain": [
       "   First Column Data  Second Column Data  Third Column Data\n",
       "0                  1                   2                  3"
      ]
     },
     "execution_count": 361,
     "metadata": {},
     "output_type": "execute_result"
    }
   ],
   "source": [
    "Example_df.merge(Second_Example_df, how='inner')"
   ]
  },
  {
   "cell_type": "markdown",
   "metadata": {},
   "source": [
    "Here I have kept only the rows which are common to both DataFrames."
   ]
  },
  {
   "cell_type": "markdown",
   "metadata": {},
   "source": [
    "#### 2.2.3 DataFrame.agg"
   ]
  },
  {
   "cell_type": "markdown",
   "metadata": {},
   "source": [
    "Excluding the plotting function, DataFrame.agg and DataFrame.apply (next) are the two most useful DataFrame methods in python. They are the means of applying functions to your data. First up, DataFrame.agg. DataFrame.agg can be applied to produce an aggregate output based on all the columns or all the rows of your DataFrame, e.g. summation or averaging:"
   ]
  },
  {
   "cell_type": "code",
   "execution_count": 380,
   "metadata": {},
   "outputs": [
    {
     "data": {
      "text/plain": [
       "First Column Data     2.0\n",
       "Second Column Data    3.0\n",
       "dtype: float64"
      ]
     },
     "execution_count": 380,
     "metadata": {},
     "output_type": "execute_result"
    }
   ],
   "source": [
    "Example_df.agg('mean', axis='rows')"
   ]
  },
  {
   "cell_type": "markdown",
   "metadata": {},
   "source": [
    "Here an in-built function 'mean' has been used but you can equally use your own defined function through the ```func=``` keyword. The axis argument changes the direction in which the aggregating function is applied, here it is across all rows."
   ]
  },
  {
   "cell_type": "code",
   "execution_count": 381,
   "metadata": {},
   "outputs": [
    {
     "data": {
      "text/plain": [
       "0    3\n",
       "1    7\n",
       "dtype: int64"
      ]
     },
     "execution_count": 381,
     "metadata": {},
     "output_type": "execute_result"
    }
   ],
   "source": [
    "def Summation(Values_to_Sum): # Sum values\n",
    "    Summation = 0\n",
    "    \n",
    "    for i in Values_to_Sum:\n",
    "        Summation += i\n",
    "    return Summation\n",
    "\n",
    "Example_df.agg(func=Summation, axis='columns')"
   ]
  },
  {
   "cell_type": "markdown",
   "metadata": {},
   "source": [
    "#### 2.2.4 DataFrame.apply"
   ]
  },
  {
   "cell_type": "markdown",
   "metadata": {},
   "source": [
    "DataFrame.apply is similar to DataFrame.agg, except that it operates only on indiviudal rows or columns, and does not perform an aggregate calculation:"
   ]
  },
  {
   "cell_type": "code",
   "execution_count": 382,
   "metadata": {},
   "outputs": [
    {
     "data": {
      "text/html": [
       "<div>\n",
       "<style scoped>\n",
       "    .dataframe tbody tr th:only-of-type {\n",
       "        vertical-align: middle;\n",
       "    }\n",
       "\n",
       "    .dataframe tbody tr th {\n",
       "        vertical-align: top;\n",
       "    }\n",
       "\n",
       "    .dataframe thead th {\n",
       "        text-align: right;\n",
       "    }\n",
       "</style>\n",
       "<table border=\"1\" class=\"dataframe\">\n",
       "  <thead>\n",
       "    <tr style=\"text-align: right;\">\n",
       "      <th></th>\n",
       "      <th>First Column Data</th>\n",
       "      <th>Second Column Data</th>\n",
       "    </tr>\n",
       "  </thead>\n",
       "  <tbody>\n",
       "    <tr>\n",
       "      <th>0</th>\n",
       "      <td>3</td>\n",
       "      <td>6</td>\n",
       "    </tr>\n",
       "    <tr>\n",
       "      <th>1</th>\n",
       "      <td>9</td>\n",
       "      <td>12</td>\n",
       "    </tr>\n",
       "  </tbody>\n",
       "</table>\n",
       "</div>"
      ],
      "text/plain": [
       "   First Column Data  Second Column Data\n",
       "0                  3                   6\n",
       "1                  9                  12"
      ]
     },
     "execution_count": 382,
     "metadata": {},
     "output_type": "execute_result"
    }
   ],
   "source": [
    "Example_df.apply(lambda x:x*3) # Multiply each row by three"
   ]
  },
  {
   "cell_type": "markdown",
   "metadata": {},
   "source": [
    "Note the use of a lambda function."
   ]
  },
  {
   "cell_type": "markdown",
   "metadata": {},
   "source": [
    "#### 2.2.5 DataFrame.plot"
   ]
  },
  {
   "cell_type": "markdown",
   "metadata": {},
   "source": [
    "In the context of data analysis, plotting is perhaps the most useful method of a DataFrame object. Although in many cases the matplotlib package is more versatile (this will be covered in next weeks lesson)."
   ]
  },
  {
   "cell_type": "code",
   "execution_count": 390,
   "metadata": {},
   "outputs": [
    {
     "data": {
      "text/plain": [
       "<AxesSubplot:xlabel='First Column Data', ylabel='Third Column Data'>"
      ]
     },
     "execution_count": 390,
     "metadata": {},
     "output_type": "execute_result"
    },
    {
     "data": {
      "image/png": "[encoded data removed]",
      "text/plain": [
       "<Figure size 432x288 with 1 Axes>"
      ]
     },
     "metadata": {
      "needs_background": "light"
     },
     "output_type": "display_data"
    }
   ],
   "source": [
    "Second_Example_df.plot(x='First Column Data', y='Third Column Data', kind='scatter')"
   ]
  },
  {
   "cell_type": "markdown",
   "metadata": {},
   "source": [
    "As DataFrame plots go, this one isn't very interesting. However, you can see that they x and y variables come from specified columns in the DataFrame. There are numerous arguments that can be passed to customise the plot, for example I have chosen the ```kind``` of plot to be a 'scatter' graph."
   ]
  },
  {
   "cell_type": "markdown",
   "metadata": {},
   "source": [
    "### 2.3 Masks, boolean indexing, and filtering data"
   ]
  },
  {
   "cell_type": "code",
   "execution_count": null,
   "metadata": {},
   "outputs": [],
   "source": []
  },
  {
   "cell_type": "code",
   "execution_count": 124,
   "metadata": {},
   "outputs": [],
   "source": [
    "import pandas as pd\n",
    "import matplotlib.pyplot as plt\n",
    "\n",
    "from datetime import datetime as dt"
   ]
  },
  {
   "cell_type": "code",
   "execution_count": 244,
   "metadata": {},
   "outputs": [],
   "source": [
    "Running_df = pd.read_csv(\"Running.csv\")\n",
    "Cycling_df = pd.read_csv(\"Cycling.csv\")\n",
    "Walking_df = pd.read_csv(\"Walking.csv\")\n",
    "Weights_df = pd.read_csv(\"Weights.csv\")\n",
    "\n",
    "Activity_DataFrames = [Running_df, Cycling_df, Walking_df, Weights_df]"
   ]
  },
  {
   "cell_type": "code",
   "execution_count": 245,
   "metadata": {},
   "outputs": [],
   "source": [
    "#Weights_df.drop(labels='Title', axis=1).to_csv('Weights.csv', index=False)"
   ]
  },
  {
   "cell_type": "code",
   "execution_count": 250,
   "metadata": {},
   "outputs": [],
   "source": [
    "def Structure_DateTime(Date, Starting_Format, Final_Format, Leave_as_String):\n",
    "    Date_Object = dt.strptime(Date, Starting_Format)\n",
    "    if Leave_as_String == True:\n",
    "        Date_Object = dt.strftime(Date_Object, Final_Format)\n",
    "    return Date_Object\n",
    "\n",
    "def String_to_Integer(String):\n",
    "    String = int(String)\n",
    "    return String\n",
    "\n",
    "def Datetime_to_Int():"
   ]
  },
  {
   "cell_type": "code",
   "execution_count": 251,
   "metadata": {},
   "outputs": [],
   "source": [
    "for DataFrame in Activity_DataFrames:\n",
    "    DataFrame['Date']=DataFrame['Date'].apply(Structure_DateTime, args=(\"%Y-%m-%d %H:%M:%S\", \"%d-%m-%Y\", True))"
   ]
  },
  {
   "cell_type": "code",
   "execution_count": 252,
   "metadata": {},
   "outputs": [
    {
     "data": {
      "text/html": [
       "<div>\n",
       "<style scoped>\n",
       "    .dataframe tbody tr th:only-of-type {\n",
       "        vertical-align: middle;\n",
       "    }\n",
       "\n",
       "    .dataframe tbody tr th {\n",
       "        vertical-align: top;\n",
       "    }\n",
       "\n",
       "    .dataframe thead th {\n",
       "        text-align: right;\n",
       "    }\n",
       "</style>\n",
       "<table border=\"1\" class=\"dataframe\">\n",
       "  <thead>\n",
       "    <tr style=\"text-align: right;\">\n",
       "      <th></th>\n",
       "      <th>Activity Type</th>\n",
       "      <th>Date</th>\n",
       "      <th>Favorite</th>\n",
       "      <th>Distance</th>\n",
       "      <th>Calories</th>\n",
       "      <th>Time</th>\n",
       "      <th>Avg HR</th>\n",
       "      <th>Max HR</th>\n",
       "      <th>Aerobic TE</th>\n",
       "      <th>Avg Run Cadence</th>\n",
       "      <th>...</th>\n",
       "      <th>Min Temp</th>\n",
       "      <th>Surface Interval</th>\n",
       "      <th>Decompression</th>\n",
       "      <th>Best Lap Time</th>\n",
       "      <th>Number of Laps</th>\n",
       "      <th>Max Temp</th>\n",
       "      <th>Moving Time</th>\n",
       "      <th>Elapsed Time</th>\n",
       "      <th>Min Elevation</th>\n",
       "      <th>Max Elevation</th>\n",
       "    </tr>\n",
       "  </thead>\n",
       "  <tbody>\n",
       "    <tr>\n",
       "      <th>1</th>\n",
       "      <td>Running</td>\n",
       "      <td>11-08-2021</td>\n",
       "      <td>False</td>\n",
       "      <td>6.71</td>\n",
       "      <td>499</td>\n",
       "      <td>00:37:01</td>\n",
       "      <td>145</td>\n",
       "      <td>162</td>\n",
       "      <td>3.0</td>\n",
       "      <td>148</td>\n",
       "      <td>...</td>\n",
       "      <td>0.0</td>\n",
       "      <td>0:00</td>\n",
       "      <td>No</td>\n",
       "      <td>00:01.23</td>\n",
       "      <td>8</td>\n",
       "      <td>0.0</td>\n",
       "      <td>00:00:00</td>\n",
       "      <td>00:37:07</td>\n",
       "      <td>23</td>\n",
       "      <td>57</td>\n",
       "    </tr>\n",
       "    <tr>\n",
       "      <th>5</th>\n",
       "      <td>Running</td>\n",
       "      <td>01-08-2021</td>\n",
       "      <td>False</td>\n",
       "      <td>6.98</td>\n",
       "      <td>571</td>\n",
       "      <td>00:39:17</td>\n",
       "      <td>155</td>\n",
       "      <td>183</td>\n",
       "      <td>3.5</td>\n",
       "      <td>147</td>\n",
       "      <td>...</td>\n",
       "      <td>0.0</td>\n",
       "      <td>0:00</td>\n",
       "      <td>No</td>\n",
       "      <td>02:16.99</td>\n",
       "      <td>8</td>\n",
       "      <td>0.0</td>\n",
       "      <td>00:38:59</td>\n",
       "      <td>00:40:17</td>\n",
       "      <td>8</td>\n",
       "      <td>101</td>\n",
       "    </tr>\n",
       "    <tr>\n",
       "      <th>6</th>\n",
       "      <td>Running</td>\n",
       "      <td>29-07-2021</td>\n",
       "      <td>False</td>\n",
       "      <td>6.82</td>\n",
       "      <td>523</td>\n",
       "      <td>00:37:01</td>\n",
       "      <td>152</td>\n",
       "      <td>168</td>\n",
       "      <td>3.3</td>\n",
       "      <td>147</td>\n",
       "      <td>...</td>\n",
       "      <td>0.0</td>\n",
       "      <td>0:00</td>\n",
       "      <td>No</td>\n",
       "      <td>00:01.25</td>\n",
       "      <td>8</td>\n",
       "      <td>0.0</td>\n",
       "      <td>00:36:59</td>\n",
       "      <td>00:37:23</td>\n",
       "      <td>22</td>\n",
       "      <td>52</td>\n",
       "    </tr>\n",
       "    <tr>\n",
       "      <th>7</th>\n",
       "      <td>Running</td>\n",
       "      <td>26-07-2021</td>\n",
       "      <td>False</td>\n",
       "      <td>6.74</td>\n",
       "      <td>520</td>\n",
       "      <td>00:37:02</td>\n",
       "      <td>150</td>\n",
       "      <td>165</td>\n",
       "      <td>3.3</td>\n",
       "      <td>146</td>\n",
       "      <td>...</td>\n",
       "      <td>0.0</td>\n",
       "      <td>0:00</td>\n",
       "      <td>No</td>\n",
       "      <td>00:01.65</td>\n",
       "      <td>8</td>\n",
       "      <td>0.0</td>\n",
       "      <td>00:36:44</td>\n",
       "      <td>00:37:20</td>\n",
       "      <td>23</td>\n",
       "      <td>57</td>\n",
       "    </tr>\n",
       "    <tr>\n",
       "      <th>8</th>\n",
       "      <td>Running</td>\n",
       "      <td>24-07-2021</td>\n",
       "      <td>False</td>\n",
       "      <td>6.93</td>\n",
       "      <td>513</td>\n",
       "      <td>00:38:01</td>\n",
       "      <td>147</td>\n",
       "      <td>164</td>\n",
       "      <td>3.3</td>\n",
       "      <td>147</td>\n",
       "      <td>...</td>\n",
       "      <td>0.0</td>\n",
       "      <td>0:00</td>\n",
       "      <td>No</td>\n",
       "      <td>00:01.15</td>\n",
       "      <td>8</td>\n",
       "      <td>0.0</td>\n",
       "      <td>00:38:00</td>\n",
       "      <td>00:38:01</td>\n",
       "      <td>24</td>\n",
       "      <td>57</td>\n",
       "    </tr>\n",
       "    <tr>\n",
       "      <th>9</th>\n",
       "      <td>Running</td>\n",
       "      <td>22-07-2021</td>\n",
       "      <td>False</td>\n",
       "      <td>6.92</td>\n",
       "      <td>529</td>\n",
       "      <td>00:38:01</td>\n",
       "      <td>151</td>\n",
       "      <td>166</td>\n",
       "      <td>3.3</td>\n",
       "      <td>147</td>\n",
       "      <td>...</td>\n",
       "      <td>0.0</td>\n",
       "      <td>0:00</td>\n",
       "      <td>No</td>\n",
       "      <td>00:01.29</td>\n",
       "      <td>8</td>\n",
       "      <td>0.0</td>\n",
       "      <td>00:37:50</td>\n",
       "      <td>00:38:22</td>\n",
       "      <td>23</td>\n",
       "      <td>57</td>\n",
       "    </tr>\n",
       "    <tr>\n",
       "      <th>12</th>\n",
       "      <td>Running</td>\n",
       "      <td>17-07-2021</td>\n",
       "      <td>False</td>\n",
       "      <td>6.80</td>\n",
       "      <td>527</td>\n",
       "      <td>00:37:27</td>\n",
       "      <td>154</td>\n",
       "      <td>167</td>\n",
       "      <td>3.4</td>\n",
       "      <td>147</td>\n",
       "      <td>...</td>\n",
       "      <td>0.0</td>\n",
       "      <td>0:00</td>\n",
       "      <td>No</td>\n",
       "      <td>01:05.65</td>\n",
       "      <td>8</td>\n",
       "      <td>0.0</td>\n",
       "      <td>00:37:21</td>\n",
       "      <td>00:37:33</td>\n",
       "      <td>23</td>\n",
       "      <td>57</td>\n",
       "    </tr>\n",
       "    <tr>\n",
       "      <th>18</th>\n",
       "      <td>Running</td>\n",
       "      <td>29-06-2021</td>\n",
       "      <td>False</td>\n",
       "      <td>6.75</td>\n",
       "      <td>522</td>\n",
       "      <td>00:37:02</td>\n",
       "      <td>154</td>\n",
       "      <td>173</td>\n",
       "      <td>3.4</td>\n",
       "      <td>147</td>\n",
       "      <td>...</td>\n",
       "      <td>0.0</td>\n",
       "      <td>0:00</td>\n",
       "      <td>No</td>\n",
       "      <td>00:01.62</td>\n",
       "      <td>8</td>\n",
       "      <td>0.0</td>\n",
       "      <td>00:36:58</td>\n",
       "      <td>00:37:25</td>\n",
       "      <td>22</td>\n",
       "      <td>52</td>\n",
       "    </tr>\n",
       "    <tr>\n",
       "      <th>23</th>\n",
       "      <td>Running</td>\n",
       "      <td>09-06-2021</td>\n",
       "      <td>False</td>\n",
       "      <td>6.74</td>\n",
       "      <td>523</td>\n",
       "      <td>00:37:02</td>\n",
       "      <td>153</td>\n",
       "      <td>174</td>\n",
       "      <td>3.2</td>\n",
       "      <td>145</td>\n",
       "      <td>...</td>\n",
       "      <td>0.0</td>\n",
       "      <td>0:00</td>\n",
       "      <td>No</td>\n",
       "      <td>00:02.46</td>\n",
       "      <td>8</td>\n",
       "      <td>0.0</td>\n",
       "      <td>00:36:47</td>\n",
       "      <td>00:38:20</td>\n",
       "      <td>22</td>\n",
       "      <td>52</td>\n",
       "    </tr>\n",
       "  </tbody>\n",
       "</table>\n",
       "<p>9 rows × 32 columns</p>\n",
       "</div>"
      ],
      "text/plain": [
       "   Activity Type        Date  Favorite  Distance Calories      Time  Avg HR  \\\n",
       "1        Running  11-08-2021     False      6.71      499  00:37:01     145   \n",
       "5        Running  01-08-2021     False      6.98      571  00:39:17     155   \n",
       "6        Running  29-07-2021     False      6.82      523  00:37:01     152   \n",
       "7        Running  26-07-2021     False      6.74      520  00:37:02     150   \n",
       "8        Running  24-07-2021     False      6.93      513  00:38:01     147   \n",
       "9        Running  22-07-2021     False      6.92      529  00:38:01     151   \n",
       "12       Running  17-07-2021     False      6.80      527  00:37:27     154   \n",
       "18       Running  29-06-2021     False      6.75      522  00:37:02     154   \n",
       "23       Running  09-06-2021     False      6.74      523  00:37:02     153   \n",
       "\n",
       "   Max HR Aerobic TE Avg Run Cadence  ... Min Temp Surface Interval  \\\n",
       "1     162        3.0             148  ...      0.0             0:00   \n",
       "5     183        3.5             147  ...      0.0             0:00   \n",
       "6     168        3.3             147  ...      0.0             0:00   \n",
       "7     165        3.3             146  ...      0.0             0:00   \n",
       "8     164        3.3             147  ...      0.0             0:00   \n",
       "9     166        3.3             147  ...      0.0             0:00   \n",
       "12    167        3.4             147  ...      0.0             0:00   \n",
       "18    173        3.4             147  ...      0.0             0:00   \n",
       "23    174        3.2             145  ...      0.0             0:00   \n",
       "\n",
       "   Decompression Best Lap Time Number of Laps  Max Temp  Moving Time  \\\n",
       "1             No      00:01.23              8       0.0     00:00:00   \n",
       "5             No      02:16.99              8       0.0     00:38:59   \n",
       "6             No      00:01.25              8       0.0     00:36:59   \n",
       "7             No      00:01.65              8       0.0     00:36:44   \n",
       "8             No      00:01.15              8       0.0     00:38:00   \n",
       "9             No      00:01.29              8       0.0     00:37:50   \n",
       "12            No      01:05.65              8       0.0     00:37:21   \n",
       "18            No      00:01.62              8       0.0     00:36:58   \n",
       "23            No      00:02.46              8       0.0     00:36:47   \n",
       "\n",
       "    Elapsed Time  Min Elevation  Max Elevation  \n",
       "1       00:37:07             23             57  \n",
       "5       00:40:17              8            101  \n",
       "6       00:37:23             22             52  \n",
       "7       00:37:20             23             57  \n",
       "8       00:38:01             24             57  \n",
       "9       00:38:22             23             57  \n",
       "12      00:37:33             23             57  \n",
       "18      00:37:25             22             52  \n",
       "23      00:38:20             22             52  \n",
       "\n",
       "[9 rows x 32 columns]"
      ]
     },
     "execution_count": 252,
     "metadata": {},
     "output_type": "execute_result"
    }
   ],
   "source": [
    "Temp_df = Running_df[Running_df['Distance']<7]\n",
    "Temp_df = Temp_df[Temp_df['Distance']>6.6]\n",
    "Running_df = Temp_df\n",
    "Running_df['Avg HR']=Running_df['Avg HR'].apply(String_to_Integer)\n",
    "Running_df"
   ]
  },
  {
   "cell_type": "code",
   "execution_count": 253,
   "metadata": {},
   "outputs": [
    {
     "data": {
      "image/png": "[encoded data removed]",
      "text/plain": [
       "<Figure size 432x288 with 1 Axes>"
      ]
     },
     "metadata": {
      "needs_background": "light"
     },
     "output_type": "display_data"
    }
   ],
   "source": [
    "plt.figure()\n",
    "plt.scatter(x=Running_df['Date'], y=Running_df['Avg HR'])\n",
    "plt.xticks(rotation=45)\n",
    "plt.gca().invert_xaxis()"
   ]
  },
  {
   "cell_type": "code",
   "execution_count": 254,
   "metadata": {},
   "outputs": [
    {
     "data": {
      "text/plain": [
       "1    1900-01-01 00:05:31\n",
       "5    1900-01-01 00:05:37\n",
       "6    1900-01-01 00:05:26\n",
       "7    1900-01-01 00:05:30\n",
       "8    1900-01-01 00:05:29\n",
       "9    1900-01-01 00:05:30\n",
       "12   1900-01-01 00:05:31\n",
       "18   1900-01-01 00:05:29\n",
       "23   1900-01-01 00:05:30\n",
       "Name: Avg Pace, dtype: datetime64[ns]"
      ]
     },
     "execution_count": 254,
     "metadata": {},
     "output_type": "execute_result"
    }
   ],
   "source": [
    "Running_df['Avg Pace']=Running_df['Avg Pace'].apply(Structure_DateTime, args=(\"%M:%S\", None, False))\n",
    "Running_df['Avg Pace']"
   ]
  },
  {
   "cell_type": "code",
   "execution_count": null,
   "metadata": {},
   "outputs": [],
   "source": []
  }
 ],
 "metadata": {
  "kernelspec": {
   "display_name": "Python 3",
   "language": "python",
   "name": "python3"
  },
  "language_info": {
   "codemirror_mode": {
    "name": "ipython",
    "version": 3
   },
   "file_extension": ".py",
   "mimetype": "text/x-python",
   "name": "python",
   "nbconvert_exporter": "python",
   "pygments_lexer": "ipython3",
   "version": "3.8.5"
  }
 },
 "nbformat": 4,
 "nbformat_minor": 4
}
