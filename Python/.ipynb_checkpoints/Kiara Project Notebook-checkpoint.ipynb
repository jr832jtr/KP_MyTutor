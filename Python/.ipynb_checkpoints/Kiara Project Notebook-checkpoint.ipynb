{
 "cells": [
  {
   "cell_type": "markdown",
   "metadata": {},
   "source": [
    "# Project Notebook: Why Have Some Businesses Thrived During the Pandemic?"
   ]
  },
  {
   "cell_type": "markdown",
   "metadata": {},
   "source": [
    "In this notebook you will complete your own data analysis project, including: importing and downloading data; cleaning and filtering; plotting, interpretting and analysing data."
   ]
  },
  {
   "cell_type": "markdown",
   "metadata": {},
   "source": [
    "## Part 1: Import data"
   ]
  },
  {
   "cell_type": "markdown",
   "metadata": {},
   "source": [
    "* Import the necessary packages to import the csv files in this folder."
   ]
  },
  {
   "cell_type": "code",
   "execution_count": 2,
   "metadata": {},
   "outputs": [],
   "source": [
    "#Import necessary packages here"
   ]
  },
  {
   "cell_type": "markdown",
   "metadata": {},
   "source": [
    "* Have a look at the 'Stock Prices' folder, and then import one of the csv files in there to have see what structure the data has. Output the head of the dataframe to have a look."
   ]
  },
  {
   "cell_type": "code",
   "execution_count": 8,
   "metadata": {},
   "outputs": [],
   "source": [
    "#Read example csv file here"
   ]
  },
  {
   "cell_type": "markdown",
   "metadata": {},
   "source": [
    "* Have a look at what columns are available in the data, and then reload the DataFrame but use the '```use_cols=```' keyword to select the most useful columns."
   ]
  },
  {
   "cell_type": "markdown",
   "metadata": {},
   "source": [
    "* Check that the data types of the columns are what you want using the ```.dtypes``` attribute."
   ]
  },
  {
   "cell_type": "code",
   "execution_count": 11,
   "metadata": {},
   "outputs": [],
   "source": [
    "#Check dtypes"
   ]
  },
  {
   "cell_type": "markdown",
   "metadata": {},
   "source": [
    "* Reload the DataFrame, renaming the columns to something that makes more sense to you using the '```names=```' keyword."
   ]
  },
  {
   "cell_type": "markdown",
   "metadata": {},
   "source": [
    "* Now load the rest of the csv files with the same parameters that you have set for your example DataFrame above."
   ]
  },
  {
   "cell_type": "code",
   "execution_count": null,
   "metadata": {},
   "outputs": [],
   "source": [
    "#Read rest of csv files here"
   ]
  },
  {
   "cell_type": "markdown",
   "metadata": {},
   "source": [
    "* Store the DataFrame variables as a list, i.e. ```Companies = [Company1, Company2, etc]```."
   ]
  },
  {
   "cell_type": "markdown",
   "metadata": {},
   "source": [
    "* Create another list of the company names as strings, i.e ```Company_Names = ['Company1', 'Company2', etc]```. This will become useful for plotting later."
   ]
  },
  {
   "cell_type": "code",
   "execution_count": 24,
   "metadata": {},
   "outputs": [],
   "source": [
    "#Companies list\n",
    "#Company names list"
   ]
  },
  {
   "cell_type": "markdown",
   "metadata": {},
   "source": [
    "You need to check if the all the DataFrames have columns that are of the correct datatype. Some could include null data which would alter the overall datatype needed to store them."
   ]
  },
  {
   "cell_type": "markdown",
   "metadata": {},
   "source": [
    "* Write a for loop that checks that all the columns are of your chosen dtype and print out both the DataFrame and column name if a column is not of the write datatype."
   ]
  },
  {
   "cell_type": "code",
   "execution_count": 10,
   "metadata": {},
   "outputs": [],
   "source": [
    "#for Company in Companies:\n",
    "    #check columns for correct datatype\n",
    "    #print something to alert you if a datatype is not correct"
   ]
  },
  {
   "cell_type": "markdown",
   "metadata": {},
   "source": [
    "## Part 2: Filter data"
   ]
  },
  {
   "cell_type": "markdown",
   "metadata": {},
   "source": [
    "* Import the datetime object as 'dt' from the datetime package so you can change the date column to a manipulative format."
   ]
  },
  {
   "cell_type": "code",
   "execution_count": 13,
   "metadata": {},
   "outputs": [],
   "source": [
    "#import datetime object"
   ]
  },
  {
   "cell_type": "markdown",
   "metadata": {},
   "source": [
    "* Output the first entry of the date column of your data to inspect its format."
   ]
  },
  {
   "cell_type": "code",
   "execution_count": 14,
   "metadata": {},
   "outputs": [],
   "source": [
    "#Select first item of date column of chosen DataFrame"
   ]
  },
  {
   "cell_type": "markdown",
   "metadata": {},
   "source": [
    "* Have a look [here](https://www.w3schools.com/python/python_datetime.asp) at what specifiers there are which correspond to the date's format, i.e. \"%m-%Y\"."
   ]
  },
  {
   "cell_type": "markdown",
   "metadata": {},
   "source": [
    "* Apply the ```dt.strptime()``` method to convert your date item into a datetime object."
   ]
  },
  {
   "cell_type": "code",
   "execution_count": 15,
   "metadata": {},
   "outputs": [],
   "source": [
    "#Apply dt.strptime()"
   ]
  },
  {
   "cell_type": "markdown",
   "metadata": {},
   "source": [
    "* Use the ```.apply()``` method to apply ```dt.strptime()``` to every item in your chosen DataFrame's date column, and write it over your DataFrame's current date column."
   ]
  },
  {
   "cell_type": "code",
   "execution_count": 16,
   "metadata": {},
   "outputs": [],
   "source": [
    "#Apply it to every row in the date column"
   ]
  },
  {
   "cell_type": "markdown",
   "metadata": {},
   "source": [
    "* Use a for loop to do the same for the rest of your DataFrames"
   ]
  },
  {
   "cell_type": "code",
   "execution_count": 17,
   "metadata": {},
   "outputs": [],
   "source": [
    "#For loop"
   ]
  },
  {
   "cell_type": "markdown",
   "metadata": {},
   "source": [
    "We only want to look at the data since the pandemic as well as a little before for reference a measure of its impact."
   ]
  },
  {
   "cell_type": "markdown",
   "metadata": {},
   "source": [
    "* Remove data from more than 2 years ago, using a mask and a transient datetime object."
   ]
  },
  {
   "cell_type": "markdown",
   "metadata": {},
   "source": [
    "## Part 3: Plot data"
   ]
  },
  {
   "cell_type": "markdown",
   "metadata": {},
   "source": [
    "* Import the pyplot subpackage as plt from matplotlib."
   ]
  },
  {
   "cell_type": "code",
   "execution_count": 18,
   "metadata": {},
   "outputs": [],
   "source": [
    "#Import subpackage"
   ]
  },
  {
   "cell_type": "markdown",
   "metadata": {},
   "source": [
    "* Plot a chosen DataFrame's stock price column against its date column, using plt.plot()."
   ]
  },
  {
   "cell_type": "code",
   "execution_count": 19,
   "metadata": {},
   "outputs": [],
   "source": [
    "#Plot"
   ]
  },
  {
   "cell_type": "markdown",
   "metadata": {},
   "source": [
    "* Use a for loop to plot all DataFrames like this on the same plot."
   ]
  },
  {
   "cell_type": "code",
   "execution_count": 20,
   "metadata": {},
   "outputs": [],
   "source": [
    "#For loop"
   ]
  },
  {
   "cell_type": "markdown",
   "metadata": {},
   "source": [
    "Okay it appears that the stock prices are on different scales. We can normalise the scales by defining a new column on each DataFrame called the 'Normalised Stock Price' by dividing by the mean stock price."
   ]
  },
  {
   "cell_type": "markdown",
   "metadata": {},
   "source": [
    "* Use the ```DataFrame[column].agg()```, specifying you want to use the inbuilt 'mean' function to calculate the mean of the Stock price column."
   ]
  },
  {
   "cell_type": "markdown",
   "metadata": {},
   "source": [
    "* Store it as a suitable variable."
   ]
  },
  {
   "cell_type": "code",
   "execution_count": 21,
   "metadata": {},
   "outputs": [],
   "source": [
    "#Mean"
   ]
  },
  {
   "cell_type": "markdown",
   "metadata": {},
   "source": [
    "* Create a new column called 'Normalised Stock Price' by dividing the stock price column by the mean value."
   ]
  },
  {
   "cell_type": "code",
   "execution_count": null,
   "metadata": {},
   "outputs": [],
   "source": [
    "#Create new column for normalised data"
   ]
  },
  {
   "cell_type": "markdown",
   "metadata": {},
   "source": [
    "* Write a for loop to do the same for the remaining dataframes."
   ]
  },
  {
   "cell_type": "code",
   "execution_count": 22,
   "metadata": {},
   "outputs": [],
   "source": [
    "#For loop"
   ]
  },
  {
   "cell_type": "markdown",
   "metadata": {},
   "source": [
    "* Retry plotting your data but use the normalised stock price column as the y-variable this time add a keyword ```label = CompanyName```, where company name is an item from the list of strings you made earlier."
   ]
  },
  {
   "cell_type": "code",
   "execution_count": 23,
   "metadata": {},
   "outputs": [],
   "source": [
    "#Re-plot data\n",
    "\n",
    "#plt.xticks(rotation = 45)\n",
    "#plt.legend()\n",
    "#plt.xlabel('Date')\n",
    "#plt.ylabel('Normalised Stock Data')"
   ]
  },
  {
   "cell_type": "markdown",
   "metadata": {},
   "source": [
    "Let's tidy the plot up a bit."
   ]
  },
  {
   "cell_type": "markdown",
   "metadata": {},
   "source": [
    "In the above cell write the following statements:\n",
    "* plt.xticks() - specify the rotation you want using ```rotation=``` keyword\n",
    "* plt.legend()\n",
    "* plt.xlabel() - add a x-label name in the brackets\n",
    "* plt.ylabel() - add a y-label name in the brackets"
   ]
  },
  {
   "cell_type": "markdown",
   "metadata": {},
   "source": [
    "## Part 4: Picking companies from a large dataset"
   ]
  },
  {
   "cell_type": "markdown",
   "metadata": {},
   "source": [
    "You will now look at a large dataset from a range of US-based companies and pick out those whose stock prices have risen based linear models, rather than inspecting individually chosen companies above. This section will be less guided than the above and you can make decisions based on discussion and looking at the datasets."
   ]
  },
  {
   "cell_type": "markdown",
   "metadata": {},
   "source": [
    "* Load the files 'US_Daily_Shares' and 'Company_Names' into two separate DataFrames. They are delimited by ',' and ';' respectively."
   ]
  },
  {
   "cell_type": "code",
   "execution_count": 1,
   "metadata": {},
   "outputs": [],
   "source": [
    "#Load US_Daily_Shares\n",
    "US_Share_Prices = \n",
    "#Load Company_Names\n",
    "Company_Names = "
   ]
  },
  {
   "cell_type": "code",
   "execution_count": null,
   "metadata": {},
   "outputs": [],
   "source": [
    "#Filter data"
   ]
  },
  {
   "cell_type": "code",
   "execution_count": null,
   "metadata": {},
   "outputs": [],
   "source": [
    "#Add gradient column to the shares dataframe\n",
    "\n",
    "#Extract the company names from the shares dataframe using the groupby method"
   ]
  },
  {
   "cell_type": "code",
   "execution_count": null,
   "metadata": {},
   "outputs": [],
   "source": [
    "for Company in All_Names:\n",
    "    Fit_DF=US_Share_Prices[US_Share_Prices['Company'] == Company].copy() #DataFrame for particular company to fit model to.\n",
    "    \n",
    "    try:\n",
    "        m, b = np.polyfit(np.arange(0, Fit_DF.shape[0], 1), Fit_DF['Close'], deg=1) #Linear model\n",
    "        US_Share_Prices['Gradient'] = US_Share_Prices['Gradient'].mask(US_Share_Prices['Company']==Company, m)\n",
    "    except np.linalg.linalg.LinAlgError:\n",
    "        continue"
   ]
  },
  {
   "cell_type": "code",
   "execution_count": null,
   "metadata": {},
   "outputs": [],
   "source": [
    "#Filter data based on gradient value\n",
    "Successful_Companies =\n",
    "Failed_Companies = \n",
    "\n",
    "Successful_Names = list(Successful_Companies.groupby('Company').groups.keys())\n",
    "Failed_Names = list(Failed_Companies.groupby('Company').groups.keys())\n",
    "\n",
    "Success_Or_Fail_DF = Failed_Companies\n",
    "Success_Or_Fail_Names = Failed_Names\n",
    "\n",
    "np.random.shuffle(Success_Or_Fail_Names)\n",
    "Selection=Success_Or_Fail_Names[:9]"
   ]
  },
  {
   "cell_type": "code",
   "execution_count": null,
   "metadata": {},
   "outputs": [],
   "source": [
    "#plot data"
   ]
  }
 ],
 "metadata": {
  "kernelspec": {
   "display_name": "Python 3",
   "language": "python",
   "name": "python3"
  },
  "language_info": {
   "codemirror_mode": {
    "name": "ipython",
    "version": 3
   },
   "file_extension": ".py",
   "mimetype": "text/x-python",
   "name": "python",
   "nbconvert_exporter": "python",
   "pygments_lexer": "ipython3",
   "version": "3.8.5"
  }
 },
 "nbformat": 4,
 "nbformat_minor": 4
}
