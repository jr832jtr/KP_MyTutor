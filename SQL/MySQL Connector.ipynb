{
 "cells": [
  {
   "cell_type": "markdown",
   "metadata": {},
   "source": [
    "# Integrating python and SQL"
   ]
  },
  {
   "cell_type": "markdown",
   "metadata": {},
   "source": [
    "## Useful links:"
   ]
  },
  {
   "cell_type": "markdown",
   "metadata": {},
   "source": [
    "- [Python Connector Docs](https://dev.mysql.com/doc/connector-python/en/)\n",
    "- [Helpful tutorial](https://realpython.com/python-mysql/)"
   ]
  },
  {
   "cell_type": "markdown",
   "metadata": {},
   "source": [
    "Python can be used in conjuction with mysql using the mysql package. This can offer more control over SQL but can also allow you to form pandas DataFrames from SQL tables, and vice versa. To use mysql you will first need to install it into your python interpreter, using `pip install mysql-connector-python`. But more about pip and installing packages in another lesson.\n",
    "\n",
    "First thing to do is import the connector module, which allows us to connect to an SQL database from python, and then set up a connection to our chosen database:"
   ]
  },
  {
   "cell_type": "code",
   "execution_count": 1,
   "metadata": {},
   "outputs": [],
   "source": [
    "import mysql.connector as Connector\n",
    "Conn = Connector.connect(host='localhost', user='kiara', password='kiara_password')"
   ]
  },
  {
   "cell_type": "markdown",
   "metadata": {},
   "source": [
    "Next, we instantiate a 'cursor' object, which we use to execute queries to our database through our connection."
   ]
  },
  {
   "cell_type": "code",
   "execution_count": 2,
   "metadata": {},
   "outputs": [],
   "source": [
    "Cursor = Conn.cursor()"
   ]
  },
  {
   "cell_type": "markdown",
   "metadata": {},
   "source": [
    "Using the cursor object is very simple: you just insert a string that holds the SQL query you what to perform. **Note:** it is not necessary to include a ';' at the end of a query here. I want to show all databases we have stored:"
   ]
  },
  {
   "cell_type": "code",
   "execution_count": 3,
   "metadata": {},
   "outputs": [
    {
     "data": {
      "text/plain": [
       "[('information_schema',), ('kiara_db',)]"
      ]
     },
     "execution_count": 3,
     "metadata": {},
     "output_type": "execute_result"
    }
   ],
   "source": [
    "Cursor.execute('SHOW DATABASES')\n",
    "Tables = Cursor.fetchall()\n",
    "Tables"
   ]
  },
  {
   "cell_type": "markdown",
   "metadata": {},
   "source": [
    "So we see that there are two databases avialable to us as the user 'kiara'. The `Cursor.fetchall()` method fetches the result of our query into python objects which can then be manipulated. However we could create a buffered cursor object which automatically fetches the result, but leaves it as an iterable:"
   ]
  },
  {
   "cell_type": "code",
   "execution_count": 4,
   "metadata": {},
   "outputs": [
    {
     "name": "stdout",
     "output_type": "stream",
     "text": [
      "('information_schema',)\n",
      "('kiara_db',)\n"
     ]
    }
   ],
   "source": [
    "Buff_Cursor = Conn.cursor(buffered = True)\n",
    "Buff_Cursor.execute('SHOW DATABASES')\n",
    "\n",
    "for database in Buff_Cursor:\n",
    "    print(database)\n",
    "    \n",
    "Buff_Cursor.close();"
   ]
  },
  {
   "cell_type": "markdown",
   "metadata": {},
   "source": [
    "You can choose to do this to save some time and lines of code, and if you aren't bothered about saving the result directly into a python variable."
   ]
  },
  {
   "cell_type": "markdown",
   "metadata": {},
   "source": [
    "When I established the connection in cell 1, I did not specify which database we want to use and so we have not got one automatically selected. Just like in an SQL terminal. However we can connect instantly to a specific database. First we have to close our current cursor (this resets the cursor essentially) and cut off our current connection to SQL:"
   ]
  },
  {
   "cell_type": "code",
   "execution_count": 5,
   "metadata": {},
   "outputs": [],
   "source": [
    "Cursor.close()\n",
    "Conn.close()"
   ]
  },
  {
   "cell_type": "markdown",
   "metadata": {},
   "source": [
    "We can now reconnect specifically to a database called 'kiara_db', using the `database` keyword:"
   ]
  },
  {
   "cell_type": "code",
   "execution_count": 6,
   "metadata": {},
   "outputs": [],
   "source": [
    "Conn = Connector.connect(host='localhost', user='kiara', password='kiara_password', database='kiara_db')\n",
    "Cursor = Conn.cursor()"
   ]
  },
  {
   "cell_type": "markdown",
   "metadata": {},
   "source": [
    "To prove we are where we want to be, I'll inspect the tables we can see:"
   ]
  },
  {
   "cell_type": "code",
   "execution_count": 7,
   "metadata": {},
   "outputs": [
    {
     "data": {
      "text/plain": [
       "[('company_names',),\n",
       " ('post_pan',),\n",
       " ('pre_pan',),\n",
       " ('running_data',),\n",
       " ('stock_prices',)]"
      ]
     },
     "execution_count": 7,
     "metadata": {},
     "output_type": "execute_result"
    }
   ],
   "source": [
    "Cursor.execute('SHOW TABLES')\n",
    "Cursor.fetchall()"
   ]
  },
  {
   "cell_type": "markdown",
   "metadata": {},
   "source": [
    "To emphasise that we can more or less forget about python save a few objects and methods, and just focus on the SQL syntax, let's remind ourselves of what the 'stock_prices' table is structured like:"
   ]
  },
  {
   "cell_type": "code",
   "execution_count": 8,
   "metadata": {},
   "outputs": [
    {
     "data": {
      "text/plain": [
       "[('Ticker', b'varchar(50)', 'YES', '', None, ''),\n",
       " ('Date_Added', b'date', 'YES', '', None, ''),\n",
       " ('Close', b'float', 'YES', '', None, '')]"
      ]
     },
     "execution_count": 8,
     "metadata": {},
     "output_type": "execute_result"
    }
   ],
   "source": [
    "Cursor.execute('DESCRIBE stock_prices')\n",
    "Cursor.fetchall()"
   ]
  },
  {
   "cell_type": "markdown",
   "metadata": {},
   "source": [
    "Since pandas is the python analogue of SQL it's handy to compare the two and likely you'll also using pandas when using the python connector to manipulate your data in python. As a bit of a testament to the equivalence of pandas and SQL, the data returned by using `Cursor.fetchall()`, is perfectly structured to input directly into a DataFrame:"
   ]
  },
  {
   "cell_type": "code",
   "execution_count": 9,
   "metadata": {},
   "outputs": [
    {
     "data": {
      "text/html": [
       "<div>\n",
       "<style scoped>\n",
       "    .dataframe tbody tr th:only-of-type {\n",
       "        vertical-align: middle;\n",
       "    }\n",
       "\n",
       "    .dataframe tbody tr th {\n",
       "        vertical-align: top;\n",
       "    }\n",
       "\n",
       "    .dataframe thead th {\n",
       "        text-align: right;\n",
       "    }\n",
       "</style>\n",
       "<table border=\"1\" class=\"dataframe\">\n",
       "  <thead>\n",
       "    <tr style=\"text-align: right;\">\n",
       "      <th></th>\n",
       "      <th>Ticker</th>\n",
       "      <th>Date</th>\n",
       "      <th>Stock Price</th>\n",
       "    </tr>\n",
       "  </thead>\n",
       "  <tbody>\n",
       "    <tr>\n",
       "      <th>0</th>\n",
       "      <td>MMM</td>\n",
       "      <td>2020-01-02</td>\n",
       "      <td>180.00</td>\n",
       "    </tr>\n",
       "    <tr>\n",
       "      <th>1</th>\n",
       "      <td>MMM</td>\n",
       "      <td>2020-01-03</td>\n",
       "      <td>178.45</td>\n",
       "    </tr>\n",
       "    <tr>\n",
       "      <th>2</th>\n",
       "      <td>MMM</td>\n",
       "      <td>2020-01-06</td>\n",
       "      <td>178.62</td>\n",
       "    </tr>\n",
       "    <tr>\n",
       "      <th>3</th>\n",
       "      <td>MMM</td>\n",
       "      <td>2020-01-07</td>\n",
       "      <td>177.90</td>\n",
       "    </tr>\n",
       "    <tr>\n",
       "      <th>4</th>\n",
       "      <td>MMM</td>\n",
       "      <td>2020-01-08</td>\n",
       "      <td>180.63</td>\n",
       "    </tr>\n",
       "  </tbody>\n",
       "</table>\n",
       "</div>"
      ],
      "text/plain": [
       "  Ticker        Date  Stock Price\n",
       "0    MMM  2020-01-02       180.00\n",
       "1    MMM  2020-01-03       178.45\n",
       "2    MMM  2020-01-06       178.62\n",
       "3    MMM  2020-01-07       177.90\n",
       "4    MMM  2020-01-08       180.63"
      ]
     },
     "execution_count": 9,
     "metadata": {},
     "output_type": "execute_result"
    }
   ],
   "source": [
    "import pandas as pd\n",
    "\n",
    "Cursor.execute('SELECT * FROM stock_prices')\n",
    "SQL_Data = Cursor.fetchall()\n",
    "\n",
    "SQL_to_Pandas = pd.DataFrame(SQL_Data, columns=['Ticker', 'Date', 'Stock Price'])\n",
    "SQL_to_Pandas.head()"
   ]
  },
  {
   "cell_type": "code",
   "execution_count": 10,
   "metadata": {},
   "outputs": [
    {
     "data": {
      "text/html": [
       "<div>\n",
       "<style scoped>\n",
       "    .dataframe tbody tr th:only-of-type {\n",
       "        vertical-align: middle;\n",
       "    }\n",
       "\n",
       "    .dataframe tbody tr th {\n",
       "        vertical-align: top;\n",
       "    }\n",
       "\n",
       "    .dataframe thead th {\n",
       "        text-align: right;\n",
       "    }\n",
       "</style>\n",
       "<table border=\"1\" class=\"dataframe\">\n",
       "  <thead>\n",
       "    <tr style=\"text-align: right;\">\n",
       "      <th></th>\n",
       "      <th>Company_Name</th>\n",
       "      <th>Date</th>\n",
       "      <th>Stock Price</th>\n",
       "    </tr>\n",
       "  </thead>\n",
       "  <tbody>\n",
       "    <tr>\n",
       "      <th>0</th>\n",
       "      <td>\"3M CO\"</td>\n",
       "      <td>2020-01-02</td>\n",
       "      <td>180.00</td>\n",
       "    </tr>\n",
       "    <tr>\n",
       "      <th>1</th>\n",
       "      <td>\"3M CO\"</td>\n",
       "      <td>2020-01-03</td>\n",
       "      <td>178.45</td>\n",
       "    </tr>\n",
       "    <tr>\n",
       "      <th>2</th>\n",
       "      <td>\"3M CO\"</td>\n",
       "      <td>2020-01-06</td>\n",
       "      <td>178.62</td>\n",
       "    </tr>\n",
       "    <tr>\n",
       "      <th>3</th>\n",
       "      <td>\"3M CO\"</td>\n",
       "      <td>2020-01-07</td>\n",
       "      <td>177.90</td>\n",
       "    </tr>\n",
       "    <tr>\n",
       "      <th>4</th>\n",
       "      <td>\"3M CO\"</td>\n",
       "      <td>2020-01-08</td>\n",
       "      <td>180.63</td>\n",
       "    </tr>\n",
       "  </tbody>\n",
       "</table>\n",
       "</div>"
      ],
      "text/plain": [
       "  Company_Name        Date  Stock Price\n",
       "0      \"3M CO\"  2020-01-02       180.00\n",
       "1      \"3M CO\"  2020-01-03       178.45\n",
       "2      \"3M CO\"  2020-01-06       178.62\n",
       "3      \"3M CO\"  2020-01-07       177.90\n",
       "4      \"3M CO\"  2020-01-08       180.63"
      ]
     },
     "execution_count": 10,
     "metadata": {},
     "output_type": "execute_result"
    }
   ],
   "source": [
    "Query = 'SELECT company_name, date_added, Close FROM company_names INNER JOIN stock_prices ON company_names.ticker=stock_prices.ticker'\n",
    "Cursor.execute(Query)\n",
    "SQL_Data = Cursor.fetchall()\n",
    "\n",
    "Joined_Data = pd.DataFrame(SQL_Data, columns=['Company_Name', 'Date', 'Stock Price'])\n",
    "Joined_Data.head()"
   ]
  },
  {
   "cell_type": "markdown",
   "metadata": {},
   "source": [
    "## Aside on classes and objects in python"
   ]
  },
  {
   "cell_type": "markdown",
   "metadata": {},
   "source": [
    "I have found that you often end up repeating statements and connections and cursors when using the python connector, enough to find creating a class that does some of the work for you useful. Obviously this will vary from project to project in terms of how complex the classes you create will be, in our case just a simple one will do."
   ]
  },
  {
   "cell_type": "code",
   "execution_count": 11,
   "metadata": {},
   "outputs": [],
   "source": [
    "class sql_api:\n",
    "    \n",
    "    def __init__(self, host, user, password, database):\n",
    "        self.host = host\n",
    "        self.user = user\n",
    "        self.database = database\n",
    "        self.Conn = Connector.connect(host=host, user=user, password=password, database=database)\n",
    "        self.Cursor = self.Conn.cursor() \n",
    "        \n",
    "    def describe(self, table):\n",
    "        self.Cursor.execute('DESCRIBE {}'.format(table))\n",
    "        return self.Cursor.fetchall()\n",
    "    \n",
    "    def show(self, arg):\n",
    "        self.Cursor.execute('SHOW {}'.format(arg))\n",
    "        return self.Cursor.fetchall()"
   ]
  },
  {
   "cell_type": "markdown",
   "metadata": {},
   "source": [
    "- The general syntax for creating a class involves declaring the `class` followed by the class name. \n",
    "- __init__(self, args...) is a special method which is called when creating an instance of a class. It is used for giving specifiying objects.\n",
    "- The argument 'self' is passed so that the object can bind attributes to itself; so it knows what data is attributed to it and not other objects. It is passed automatically when you call a method and there is no need to declare it when calling a method. It does the same job as '@' syntax in other languages. All attributes are declared in this sense: self.attribute = attribute, which demonstrates more explicitly what self means - it stores data to that object instance specifically."
   ]
  },
  {
   "cell_type": "markdown",
   "metadata": {},
   "source": [
    "To demonstrate the usefulness in this scenario, I will create an 'sql_api' object all the while setting up a connection to our database, and the run some simple queries without using `Cursor.execute` and `Cursor.fetchall()` multiple times. This is only slightly useful in our case but it's not hard to see how this can be useful in the longterm."
   ]
  },
  {
   "cell_type": "code",
   "execution_count": 12,
   "metadata": {},
   "outputs": [],
   "source": [
    "Cursor.close()\n",
    "Conn.close()"
   ]
  },
  {
   "cell_type": "code",
   "execution_count": 13,
   "metadata": {},
   "outputs": [],
   "source": [
    "kiara_db = sql_api('localhost', 'kiara', 'kiara_password', 'kiara_db')"
   ]
  },
  {
   "cell_type": "code",
   "execution_count": 14,
   "metadata": {},
   "outputs": [
    {
     "data": {
      "text/plain": [
       "[('company_names',),\n",
       " ('post_pan',),\n",
       " ('pre_pan',),\n",
       " ('running_data',),\n",
       " ('stock_prices',)]"
      ]
     },
     "execution_count": 14,
     "metadata": {},
     "output_type": "execute_result"
    }
   ],
   "source": [
    "kiara_db.show('tables')"
   ]
  },
  {
   "cell_type": "code",
   "execution_count": 15,
   "metadata": {},
   "outputs": [
    {
     "data": {
      "text/plain": [
       "[('Ticker', b'varchar(50)', 'YES', '', None, ''),\n",
       " ('SimFinId', b'int', 'YES', '', None, ''),\n",
       " ('Company_Name', b'varchar(150)', 'YES', '', None, ''),\n",
       " ('Industry_Id', b'int', 'YES', '', None, '')]"
      ]
     },
     "execution_count": 15,
     "metadata": {},
     "output_type": "execute_result"
    }
   ],
   "source": [
    "kiara_db.describe('company_names')"
   ]
  },
  {
   "cell_type": "markdown",
   "metadata": {},
   "source": [
    "## Inserting data using python connector"
   ]
  },
  {
   "cell_type": "markdown",
   "metadata": {},
   "source": [
    "We can now begin to see the use of the having this python driver by imagining we have collected data online through some python code. If we have an existing database we may want to automatically load the data into our database and so we need to use the python connector. I think it is also useful for manipulating and filtering data before storing it in our database. In this case I am using stored data, but you could imagine it has been freshly collected."
   ]
  },
  {
   "cell_type": "code",
   "execution_count": 16,
   "metadata": {},
   "outputs": [
    {
     "data": {
      "text/html": [
       "<div>\n",
       "<style scoped>\n",
       "    .dataframe tbody tr th:only-of-type {\n",
       "        vertical-align: middle;\n",
       "    }\n",
       "\n",
       "    .dataframe tbody tr th {\n",
       "        vertical-align: top;\n",
       "    }\n",
       "\n",
       "    .dataframe thead th {\n",
       "        text-align: right;\n",
       "    }\n",
       "</style>\n",
       "<table border=\"1\" class=\"dataframe\">\n",
       "  <thead>\n",
       "    <tr style=\"text-align: right;\">\n",
       "      <th></th>\n",
       "      <th>Activity Type</th>\n",
       "      <th>Date</th>\n",
       "      <th>Favorite</th>\n",
       "      <th>Distance</th>\n",
       "      <th>Calories</th>\n",
       "      <th>Time</th>\n",
       "      <th>Avg HR</th>\n",
       "      <th>Max HR</th>\n",
       "      <th>Aerobic TE</th>\n",
       "      <th>Avg Run Cadence</th>\n",
       "      <th>...</th>\n",
       "      <th>Min Temp</th>\n",
       "      <th>Surface Interval</th>\n",
       "      <th>Decompression</th>\n",
       "      <th>Best Lap Time</th>\n",
       "      <th>Number of Laps</th>\n",
       "      <th>Max Temp</th>\n",
       "      <th>Moving Time</th>\n",
       "      <th>Elapsed Time</th>\n",
       "      <th>Min Elevation</th>\n",
       "      <th>Max Elevation</th>\n",
       "    </tr>\n",
       "  </thead>\n",
       "  <tbody>\n",
       "    <tr>\n",
       "      <th>0</th>\n",
       "      <td>Running</td>\n",
       "      <td>2021-08-15 18:14:06</td>\n",
       "      <td>False</td>\n",
       "      <td>8.93</td>\n",
       "      <td>673</td>\n",
       "      <td>00:45:01</td>\n",
       "      <td>159</td>\n",
       "      <td>181</td>\n",
       "      <td>4.0</td>\n",
       "      <td>149</td>\n",
       "      <td>...</td>\n",
       "      <td>0.0</td>\n",
       "      <td>0:00</td>\n",
       "      <td>No</td>\n",
       "      <td>00:00.95</td>\n",
       "      <td>13</td>\n",
       "      <td>0.0</td>\n",
       "      <td>00:00:00</td>\n",
       "      <td>00:45:43</td>\n",
       "      <td>43</td>\n",
       "      <td>55</td>\n",
       "    </tr>\n",
       "    <tr>\n",
       "      <th>1</th>\n",
       "      <td>Running</td>\n",
       "      <td>2021-08-13 17:55:40</td>\n",
       "      <td>False</td>\n",
       "      <td>7.48</td>\n",
       "      <td>566</td>\n",
       "      <td>00:41:01</td>\n",
       "      <td>148</td>\n",
       "      <td>166</td>\n",
       "      <td>3.2</td>\n",
       "      <td>147</td>\n",
       "      <td>...</td>\n",
       "      <td>0.0</td>\n",
       "      <td>0:00</td>\n",
       "      <td>No</td>\n",
       "      <td>00:01.17</td>\n",
       "      <td>9</td>\n",
       "      <td>0.0</td>\n",
       "      <td>00:00:00</td>\n",
       "      <td>00:41:17</td>\n",
       "      <td>19</td>\n",
       "      <td>52</td>\n",
       "    </tr>\n",
       "    <tr>\n",
       "      <th>2</th>\n",
       "      <td>Running</td>\n",
       "      <td>2021-08-11 16:45:15</td>\n",
       "      <td>False</td>\n",
       "      <td>6.71</td>\n",
       "      <td>499</td>\n",
       "      <td>00:37:01</td>\n",
       "      <td>145</td>\n",
       "      <td>162</td>\n",
       "      <td>3.0</td>\n",
       "      <td>148</td>\n",
       "      <td>...</td>\n",
       "      <td>0.0</td>\n",
       "      <td>0:00</td>\n",
       "      <td>No</td>\n",
       "      <td>00:01.23</td>\n",
       "      <td>8</td>\n",
       "      <td>0.0</td>\n",
       "      <td>00:00:00</td>\n",
       "      <td>00:37:07</td>\n",
       "      <td>23</td>\n",
       "      <td>57</td>\n",
       "    </tr>\n",
       "    <tr>\n",
       "      <th>3</th>\n",
       "      <td>Running</td>\n",
       "      <td>2021-08-09 18:29:54</td>\n",
       "      <td>False</td>\n",
       "      <td>3.69</td>\n",
       "      <td>266</td>\n",
       "      <td>00:24:01</td>\n",
       "      <td>126</td>\n",
       "      <td>135</td>\n",
       "      <td>2.0</td>\n",
       "      <td>148</td>\n",
       "      <td>...</td>\n",
       "      <td>0.0</td>\n",
       "      <td>0:00</td>\n",
       "      <td>No</td>\n",
       "      <td>00:01.12</td>\n",
       "      <td>5</td>\n",
       "      <td>0.0</td>\n",
       "      <td>00:23:46</td>\n",
       "      <td>00:24:58</td>\n",
       "      <td>46</td>\n",
       "      <td>57</td>\n",
       "    </tr>\n",
       "    <tr>\n",
       "      <th>4</th>\n",
       "      <td>Running</td>\n",
       "      <td>2021-08-08 15:41:30</td>\n",
       "      <td>False</td>\n",
       "      <td>9.57</td>\n",
       "      <td>738</td>\n",
       "      <td>00:47:00</td>\n",
       "      <td>167</td>\n",
       "      <td>183</td>\n",
       "      <td>4.4</td>\n",
       "      <td>150</td>\n",
       "      <td>...</td>\n",
       "      <td>0.0</td>\n",
       "      <td>0:00</td>\n",
       "      <td>No</td>\n",
       "      <td>00:00.38</td>\n",
       "      <td>11</td>\n",
       "      <td>0.0</td>\n",
       "      <td>00:46:55</td>\n",
       "      <td>00:47:16</td>\n",
       "      <td>46</td>\n",
       "      <td>66</td>\n",
       "    </tr>\n",
       "  </tbody>\n",
       "</table>\n",
       "<p>5 rows × 32 columns</p>\n",
       "</div>"
      ],
      "text/plain": [
       "  Activity Type                 Date  Favorite  Distance Calories      Time  \\\n",
       "0       Running  2021-08-15 18:14:06     False      8.93      673  00:45:01   \n",
       "1       Running  2021-08-13 17:55:40     False      7.48      566  00:41:01   \n",
       "2       Running  2021-08-11 16:45:15     False      6.71      499  00:37:01   \n",
       "3       Running  2021-08-09 18:29:54     False      3.69      266  00:24:01   \n",
       "4       Running  2021-08-08 15:41:30     False      9.57      738  00:47:00   \n",
       "\n",
       "  Avg HR Max HR Aerobic TE Avg Run Cadence  ... Min Temp Surface Interval  \\\n",
       "0    159    181        4.0             149  ...      0.0             0:00   \n",
       "1    148    166        3.2             147  ...      0.0             0:00   \n",
       "2    145    162        3.0             148  ...      0.0             0:00   \n",
       "3    126    135        2.0             148  ...      0.0             0:00   \n",
       "4    167    183        4.4             150  ...      0.0             0:00   \n",
       "\n",
       "  Decompression Best Lap Time Number of Laps  Max Temp  Moving Time  \\\n",
       "0            No      00:00.95             13       0.0     00:00:00   \n",
       "1            No      00:01.17              9       0.0     00:00:00   \n",
       "2            No      00:01.23              8       0.0     00:00:00   \n",
       "3            No      00:01.12              5       0.0     00:23:46   \n",
       "4            No      00:00.38             11       0.0     00:46:55   \n",
       "\n",
       "   Elapsed Time  Min Elevation  Max Elevation  \n",
       "0      00:45:43             43             55  \n",
       "1      00:41:17             19             52  \n",
       "2      00:37:07             23             57  \n",
       "3      00:24:58             46             57  \n",
       "4      00:47:16             46             66  \n",
       "\n",
       "[5 rows x 32 columns]"
      ]
     },
     "execution_count": 16,
     "metadata": {},
     "output_type": "execute_result"
    }
   ],
   "source": [
    "Running_Data = pd.read_csv('../Python/Exercise_Data/Running.csv')\n",
    "Running_Data.head()"
   ]
  },
  {
   "cell_type": "markdown",
   "metadata": {},
   "source": [
    "This is another use of using python first, is that we can edit the data before loading it, where as in SQL you'll need to load it and then edit it."
   ]
  },
  {
   "cell_type": "code",
   "execution_count": 17,
   "metadata": {},
   "outputs": [
    {
     "data": {
      "text/html": [
       "<div>\n",
       "<style scoped>\n",
       "    .dataframe tbody tr th:only-of-type {\n",
       "        vertical-align: middle;\n",
       "    }\n",
       "\n",
       "    .dataframe tbody tr th {\n",
       "        vertical-align: top;\n",
       "    }\n",
       "\n",
       "    .dataframe thead th {\n",
       "        text-align: right;\n",
       "    }\n",
       "</style>\n",
       "<table border=\"1\" class=\"dataframe\">\n",
       "  <thead>\n",
       "    <tr style=\"text-align: right;\">\n",
       "      <th></th>\n",
       "      <th>Date</th>\n",
       "      <th>Distance</th>\n",
       "      <th>Calories</th>\n",
       "      <th>Time</th>\n",
       "      <th>Avg HR</th>\n",
       "      <th>Max HR</th>\n",
       "      <th>Avg Pace</th>\n",
       "      <th>Elev Gain</th>\n",
       "      <th>Elev Loss</th>\n",
       "      <th>Moving Time</th>\n",
       "      <th>Elapsed Time</th>\n",
       "    </tr>\n",
       "  </thead>\n",
       "  <tbody>\n",
       "    <tr>\n",
       "      <th>0</th>\n",
       "      <td>2021-08-15 18:14:06</td>\n",
       "      <td>8.93</td>\n",
       "      <td>673</td>\n",
       "      <td>00:45:01</td>\n",
       "      <td>159</td>\n",
       "      <td>181</td>\n",
       "      <td>5:02</td>\n",
       "      <td>11</td>\n",
       "      <td>13</td>\n",
       "      <td>00:00:00</td>\n",
       "      <td>00:45:43</td>\n",
       "    </tr>\n",
       "    <tr>\n",
       "      <th>1</th>\n",
       "      <td>2021-08-13 17:55:40</td>\n",
       "      <td>7.48</td>\n",
       "      <td>566</td>\n",
       "      <td>00:41:01</td>\n",
       "      <td>148</td>\n",
       "      <td>166</td>\n",
       "      <td>5:29</td>\n",
       "      <td>28</td>\n",
       "      <td>30</td>\n",
       "      <td>00:00:00</td>\n",
       "      <td>00:41:17</td>\n",
       "    </tr>\n",
       "    <tr>\n",
       "      <th>2</th>\n",
       "      <td>2021-08-11 16:45:15</td>\n",
       "      <td>6.71</td>\n",
       "      <td>499</td>\n",
       "      <td>00:37:01</td>\n",
       "      <td>145</td>\n",
       "      <td>162</td>\n",
       "      <td>5:31</td>\n",
       "      <td>33</td>\n",
       "      <td>35</td>\n",
       "      <td>00:00:00</td>\n",
       "      <td>00:37:07</td>\n",
       "    </tr>\n",
       "    <tr>\n",
       "      <th>3</th>\n",
       "      <td>2021-08-09 18:29:54</td>\n",
       "      <td>3.69</td>\n",
       "      <td>266</td>\n",
       "      <td>00:24:01</td>\n",
       "      <td>126</td>\n",
       "      <td>135</td>\n",
       "      <td>6:30</td>\n",
       "      <td>10</td>\n",
       "      <td>9</td>\n",
       "      <td>00:23:46</td>\n",
       "      <td>00:24:58</td>\n",
       "    </tr>\n",
       "    <tr>\n",
       "      <th>4</th>\n",
       "      <td>2021-08-08 15:41:30</td>\n",
       "      <td>9.57</td>\n",
       "      <td>738</td>\n",
       "      <td>00:47:00</td>\n",
       "      <td>167</td>\n",
       "      <td>183</td>\n",
       "      <td>4:55</td>\n",
       "      <td>28</td>\n",
       "      <td>31</td>\n",
       "      <td>00:46:55</td>\n",
       "      <td>00:47:16</td>\n",
       "    </tr>\n",
       "  </tbody>\n",
       "</table>\n",
       "</div>"
      ],
      "text/plain": [
       "                  Date  Distance Calories      Time Avg HR Max HR Avg Pace  \\\n",
       "0  2021-08-15 18:14:06      8.93      673  00:45:01    159    181     5:02   \n",
       "1  2021-08-13 17:55:40      7.48      566  00:41:01    148    166     5:29   \n",
       "2  2021-08-11 16:45:15      6.71      499  00:37:01    145    162     5:31   \n",
       "3  2021-08-09 18:29:54      3.69      266  00:24:01    126    135     6:30   \n",
       "4  2021-08-08 15:41:30      9.57      738  00:47:00    167    183     4:55   \n",
       "\n",
       "  Elev Gain Elev Loss Moving Time Elapsed Time  \n",
       "0        11        13    00:00:00     00:45:43  \n",
       "1        28        30    00:00:00     00:41:17  \n",
       "2        33        35    00:00:00     00:37:07  \n",
       "3        10         9    00:23:46     00:24:58  \n",
       "4        28        31    00:46:55     00:47:16  "
      ]
     },
     "execution_count": 17,
     "metadata": {},
     "output_type": "execute_result"
    }
   ],
   "source": [
    "Running_Data.drop(columns=['Activity Type', 'Favorite', 'Min Temp', 'Max Temp', 'Surface Interval', 'Avg Stride Length',\n",
    "                         'Decompression', 'Grit', 'Flow', 'Dive Time', 'Training Stress Score®', 'Aerobic TE', 'Best Pace',\n",
    "                        'Avg Vertical Ratio', 'Avg Vertical Oscillation', 'Min Elevation', 'Max Elevation', 'Number of Laps',\n",
    "                          'Avg Run Cadence', 'Max Run Cadence', 'Best Lap Time'], \n",
    "                inplace = True)\n",
    "Running_Data.head()"
   ]
  },
  {
   "cell_type": "markdown",
   "metadata": {},
   "source": [
    "We may also want to create a new database using python. To do so we need to see what datatypes we have so that these can correctly be loaded into our database."
   ]
  },
  {
   "cell_type": "code",
   "execution_count": 18,
   "metadata": {},
   "outputs": [
    {
     "data": {
      "text/plain": [
       "Date             object\n",
       "Distance        float64\n",
       "Calories         object\n",
       "Time             object\n",
       "Avg HR           object\n",
       "Max HR           object\n",
       "Avg Pace         object\n",
       "Elev Gain        object\n",
       "Elev Loss        object\n",
       "Moving Time      object\n",
       "Elapsed Time     object\n",
       "dtype: object"
      ]
     },
     "execution_count": 18,
     "metadata": {},
     "output_type": "execute_result"
    }
   ],
   "source": [
    "Running_Data.dtypes"
   ]
  },
  {
   "cell_type": "markdown",
   "metadata": {},
   "source": [
    "We want to change some objects to integers and floats. The date and time values can stay as strings as SQL has functionality to turn these into datetime objects automatically, so long as we declare them to be those variables."
   ]
  },
  {
   "cell_type": "code",
   "execution_count": 19,
   "metadata": {},
   "outputs": [
    {
     "ename": "ValueError",
     "evalue": "invalid literal for int() with base 10: '1,042'",
     "output_type": "error",
     "traceback": [
      "\u001b[1;31m---------------------------------------------------------------------------\u001b[0m",
      "\u001b[1;31mValueError\u001b[0m                                Traceback (most recent call last)",
      "\u001b[1;32m<ipython-input-19-230bfc05a332>\u001b[0m in \u001b[0;36m<module>\u001b[1;34m\u001b[0m\n\u001b[1;32m----> 1\u001b[1;33m Running_Data = Running_Data.astype({'Distance':'float64', 'Calories':'int64', 'Avg HR':'int64', 'Max HR':'int64', \n\u001b[0m\u001b[0;32m      2\u001b[0m                                     'Elev Gain':'int64', 'Elev Loss':'int64'})\n",
      "\u001b[1;32m~\\anaconda3\\lib\\site-packages\\pandas\\core\\generic.py\u001b[0m in \u001b[0;36mastype\u001b[1;34m(self, dtype, copy, errors)\u001b[0m\n\u001b[0;32m   5529\u001b[0m                 \u001b[1;32mif\u001b[0m \u001b[0mcol_name\u001b[0m \u001b[1;32min\u001b[0m \u001b[0mdtype\u001b[0m\u001b[1;33m:\u001b[0m\u001b[1;33m\u001b[0m\u001b[1;33m\u001b[0m\u001b[0m\n\u001b[0;32m   5530\u001b[0m                     results.append(\n\u001b[1;32m-> 5531\u001b[1;33m                         \u001b[0mcol\u001b[0m\u001b[1;33m.\u001b[0m\u001b[0mastype\u001b[0m\u001b[1;33m(\u001b[0m\u001b[0mdtype\u001b[0m\u001b[1;33m=\u001b[0m\u001b[0mdtype\u001b[0m\u001b[1;33m[\u001b[0m\u001b[0mcol_name\u001b[0m\u001b[1;33m]\u001b[0m\u001b[1;33m,\u001b[0m \u001b[0mcopy\u001b[0m\u001b[1;33m=\u001b[0m\u001b[0mcopy\u001b[0m\u001b[1;33m,\u001b[0m \u001b[0merrors\u001b[0m\u001b[1;33m=\u001b[0m\u001b[0merrors\u001b[0m\u001b[1;33m)\u001b[0m\u001b[1;33m\u001b[0m\u001b[1;33m\u001b[0m\u001b[0m\n\u001b[0m\u001b[0;32m   5532\u001b[0m                     )\n\u001b[0;32m   5533\u001b[0m                 \u001b[1;32melse\u001b[0m\u001b[1;33m:\u001b[0m\u001b[1;33m\u001b[0m\u001b[1;33m\u001b[0m\u001b[0m\n",
      "\u001b[1;32m~\\anaconda3\\lib\\site-packages\\pandas\\core\\generic.py\u001b[0m in \u001b[0;36mastype\u001b[1;34m(self, dtype, copy, errors)\u001b[0m\n\u001b[0;32m   5544\u001b[0m         \u001b[1;32melse\u001b[0m\u001b[1;33m:\u001b[0m\u001b[1;33m\u001b[0m\u001b[1;33m\u001b[0m\u001b[0m\n\u001b[0;32m   5545\u001b[0m             \u001b[1;31m# else, only a single dtype is given\u001b[0m\u001b[1;33m\u001b[0m\u001b[1;33m\u001b[0m\u001b[1;33m\u001b[0m\u001b[0m\n\u001b[1;32m-> 5546\u001b[1;33m             \u001b[0mnew_data\u001b[0m \u001b[1;33m=\u001b[0m \u001b[0mself\u001b[0m\u001b[1;33m.\u001b[0m\u001b[0m_mgr\u001b[0m\u001b[1;33m.\u001b[0m\u001b[0mastype\u001b[0m\u001b[1;33m(\u001b[0m\u001b[0mdtype\u001b[0m\u001b[1;33m=\u001b[0m\u001b[0mdtype\u001b[0m\u001b[1;33m,\u001b[0m \u001b[0mcopy\u001b[0m\u001b[1;33m=\u001b[0m\u001b[0mcopy\u001b[0m\u001b[1;33m,\u001b[0m \u001b[0merrors\u001b[0m\u001b[1;33m=\u001b[0m\u001b[0merrors\u001b[0m\u001b[1;33m,\u001b[0m\u001b[1;33m)\u001b[0m\u001b[1;33m\u001b[0m\u001b[1;33m\u001b[0m\u001b[0m\n\u001b[0m\u001b[0;32m   5547\u001b[0m             \u001b[1;32mreturn\u001b[0m \u001b[0mself\u001b[0m\u001b[1;33m.\u001b[0m\u001b[0m_constructor\u001b[0m\u001b[1;33m(\u001b[0m\u001b[0mnew_data\u001b[0m\u001b[1;33m)\u001b[0m\u001b[1;33m.\u001b[0m\u001b[0m__finalize__\u001b[0m\u001b[1;33m(\u001b[0m\u001b[0mself\u001b[0m\u001b[1;33m,\u001b[0m \u001b[0mmethod\u001b[0m\u001b[1;33m=\u001b[0m\u001b[1;34m\"astype\"\u001b[0m\u001b[1;33m)\u001b[0m\u001b[1;33m\u001b[0m\u001b[1;33m\u001b[0m\u001b[0m\n\u001b[0;32m   5548\u001b[0m \u001b[1;33m\u001b[0m\u001b[0m\n",
      "\u001b[1;32m~\\anaconda3\\lib\\site-packages\\pandas\\core\\internals\\managers.py\u001b[0m in \u001b[0;36mastype\u001b[1;34m(self, dtype, copy, errors)\u001b[0m\n\u001b[0;32m    593\u001b[0m         \u001b[0mself\u001b[0m\u001b[1;33m,\u001b[0m \u001b[0mdtype\u001b[0m\u001b[1;33m,\u001b[0m \u001b[0mcopy\u001b[0m\u001b[1;33m:\u001b[0m \u001b[0mbool\u001b[0m \u001b[1;33m=\u001b[0m \u001b[1;32mFalse\u001b[0m\u001b[1;33m,\u001b[0m \u001b[0merrors\u001b[0m\u001b[1;33m:\u001b[0m \u001b[0mstr\u001b[0m \u001b[1;33m=\u001b[0m \u001b[1;34m\"raise\"\u001b[0m\u001b[1;33m\u001b[0m\u001b[1;33m\u001b[0m\u001b[0m\n\u001b[0;32m    594\u001b[0m     ) -> \"BlockManager\":\n\u001b[1;32m--> 595\u001b[1;33m         \u001b[1;32mreturn\u001b[0m \u001b[0mself\u001b[0m\u001b[1;33m.\u001b[0m\u001b[0mapply\u001b[0m\u001b[1;33m(\u001b[0m\u001b[1;34m\"astype\"\u001b[0m\u001b[1;33m,\u001b[0m \u001b[0mdtype\u001b[0m\u001b[1;33m=\u001b[0m\u001b[0mdtype\u001b[0m\u001b[1;33m,\u001b[0m \u001b[0mcopy\u001b[0m\u001b[1;33m=\u001b[0m\u001b[0mcopy\u001b[0m\u001b[1;33m,\u001b[0m \u001b[0merrors\u001b[0m\u001b[1;33m=\u001b[0m\u001b[0merrors\u001b[0m\u001b[1;33m)\u001b[0m\u001b[1;33m\u001b[0m\u001b[1;33m\u001b[0m\u001b[0m\n\u001b[0m\u001b[0;32m    596\u001b[0m \u001b[1;33m\u001b[0m\u001b[0m\n\u001b[0;32m    597\u001b[0m     def convert(\n",
      "\u001b[1;32m~\\anaconda3\\lib\\site-packages\\pandas\\core\\internals\\managers.py\u001b[0m in \u001b[0;36mapply\u001b[1;34m(self, f, align_keys, **kwargs)\u001b[0m\n\u001b[0;32m    404\u001b[0m                 \u001b[0mapplied\u001b[0m \u001b[1;33m=\u001b[0m \u001b[0mb\u001b[0m\u001b[1;33m.\u001b[0m\u001b[0mapply\u001b[0m\u001b[1;33m(\u001b[0m\u001b[0mf\u001b[0m\u001b[1;33m,\u001b[0m \u001b[1;33m**\u001b[0m\u001b[0mkwargs\u001b[0m\u001b[1;33m)\u001b[0m\u001b[1;33m\u001b[0m\u001b[1;33m\u001b[0m\u001b[0m\n\u001b[0;32m    405\u001b[0m             \u001b[1;32melse\u001b[0m\u001b[1;33m:\u001b[0m\u001b[1;33m\u001b[0m\u001b[1;33m\u001b[0m\u001b[0m\n\u001b[1;32m--> 406\u001b[1;33m                 \u001b[0mapplied\u001b[0m \u001b[1;33m=\u001b[0m \u001b[0mgetattr\u001b[0m\u001b[1;33m(\u001b[0m\u001b[0mb\u001b[0m\u001b[1;33m,\u001b[0m \u001b[0mf\u001b[0m\u001b[1;33m)\u001b[0m\u001b[1;33m(\u001b[0m\u001b[1;33m**\u001b[0m\u001b[0mkwargs\u001b[0m\u001b[1;33m)\u001b[0m\u001b[1;33m\u001b[0m\u001b[1;33m\u001b[0m\u001b[0m\n\u001b[0m\u001b[0;32m    407\u001b[0m             \u001b[0mresult_blocks\u001b[0m \u001b[1;33m=\u001b[0m \u001b[0m_extend_blocks\u001b[0m\u001b[1;33m(\u001b[0m\u001b[0mapplied\u001b[0m\u001b[1;33m,\u001b[0m \u001b[0mresult_blocks\u001b[0m\u001b[1;33m)\u001b[0m\u001b[1;33m\u001b[0m\u001b[1;33m\u001b[0m\u001b[0m\n\u001b[0;32m    408\u001b[0m \u001b[1;33m\u001b[0m\u001b[0m\n",
      "\u001b[1;32m~\\anaconda3\\lib\\site-packages\\pandas\\core\\internals\\blocks.py\u001b[0m in \u001b[0;36mastype\u001b[1;34m(self, dtype, copy, errors)\u001b[0m\n\u001b[0;32m    593\u001b[0m             \u001b[0mvals1d\u001b[0m \u001b[1;33m=\u001b[0m \u001b[0mvalues\u001b[0m\u001b[1;33m.\u001b[0m\u001b[0mravel\u001b[0m\u001b[1;33m(\u001b[0m\u001b[1;33m)\u001b[0m\u001b[1;33m\u001b[0m\u001b[1;33m\u001b[0m\u001b[0m\n\u001b[0;32m    594\u001b[0m             \u001b[1;32mtry\u001b[0m\u001b[1;33m:\u001b[0m\u001b[1;33m\u001b[0m\u001b[1;33m\u001b[0m\u001b[0m\n\u001b[1;32m--> 595\u001b[1;33m                 \u001b[0mvalues\u001b[0m \u001b[1;33m=\u001b[0m \u001b[0mastype_nansafe\u001b[0m\u001b[1;33m(\u001b[0m\u001b[0mvals1d\u001b[0m\u001b[1;33m,\u001b[0m \u001b[0mdtype\u001b[0m\u001b[1;33m,\u001b[0m \u001b[0mcopy\u001b[0m\u001b[1;33m=\u001b[0m\u001b[1;32mTrue\u001b[0m\u001b[1;33m)\u001b[0m\u001b[1;33m\u001b[0m\u001b[1;33m\u001b[0m\u001b[0m\n\u001b[0m\u001b[0;32m    596\u001b[0m             \u001b[1;32mexcept\u001b[0m \u001b[1;33m(\u001b[0m\u001b[0mValueError\u001b[0m\u001b[1;33m,\u001b[0m \u001b[0mTypeError\u001b[0m\u001b[1;33m)\u001b[0m\u001b[1;33m:\u001b[0m\u001b[1;33m\u001b[0m\u001b[1;33m\u001b[0m\u001b[0m\n\u001b[0;32m    597\u001b[0m                 \u001b[1;31m# e.g. astype_nansafe can fail on object-dtype of strings\u001b[0m\u001b[1;33m\u001b[0m\u001b[1;33m\u001b[0m\u001b[1;33m\u001b[0m\u001b[0m\n",
      "\u001b[1;32m~\\anaconda3\\lib\\site-packages\\pandas\\core\\dtypes\\cast.py\u001b[0m in \u001b[0;36mastype_nansafe\u001b[1;34m(arr, dtype, copy, skipna)\u001b[0m\n\u001b[0;32m    970\u001b[0m         \u001b[1;31m# work around NumPy brokenness, #1987\u001b[0m\u001b[1;33m\u001b[0m\u001b[1;33m\u001b[0m\u001b[1;33m\u001b[0m\u001b[0m\n\u001b[0;32m    971\u001b[0m         \u001b[1;32mif\u001b[0m \u001b[0mnp\u001b[0m\u001b[1;33m.\u001b[0m\u001b[0missubdtype\u001b[0m\u001b[1;33m(\u001b[0m\u001b[0mdtype\u001b[0m\u001b[1;33m.\u001b[0m\u001b[0mtype\u001b[0m\u001b[1;33m,\u001b[0m \u001b[0mnp\u001b[0m\u001b[1;33m.\u001b[0m\u001b[0minteger\u001b[0m\u001b[1;33m)\u001b[0m\u001b[1;33m:\u001b[0m\u001b[1;33m\u001b[0m\u001b[1;33m\u001b[0m\u001b[0m\n\u001b[1;32m--> 972\u001b[1;33m             \u001b[1;32mreturn\u001b[0m \u001b[0mlib\u001b[0m\u001b[1;33m.\u001b[0m\u001b[0mastype_intsafe\u001b[0m\u001b[1;33m(\u001b[0m\u001b[0marr\u001b[0m\u001b[1;33m.\u001b[0m\u001b[0mravel\u001b[0m\u001b[1;33m(\u001b[0m\u001b[1;33m)\u001b[0m\u001b[1;33m,\u001b[0m \u001b[0mdtype\u001b[0m\u001b[1;33m)\u001b[0m\u001b[1;33m.\u001b[0m\u001b[0mreshape\u001b[0m\u001b[1;33m(\u001b[0m\u001b[0marr\u001b[0m\u001b[1;33m.\u001b[0m\u001b[0mshape\u001b[0m\u001b[1;33m)\u001b[0m\u001b[1;33m\u001b[0m\u001b[1;33m\u001b[0m\u001b[0m\n\u001b[0m\u001b[0;32m    973\u001b[0m \u001b[1;33m\u001b[0m\u001b[0m\n\u001b[0;32m    974\u001b[0m         \u001b[1;31m# if we have a datetime/timedelta array of objects\u001b[0m\u001b[1;33m\u001b[0m\u001b[1;33m\u001b[0m\u001b[1;33m\u001b[0m\u001b[0m\n",
      "\u001b[1;32mpandas\\_libs\\lib.pyx\u001b[0m in \u001b[0;36mpandas._libs.lib.astype_intsafe\u001b[1;34m()\u001b[0m\n",
      "\u001b[1;31mValueError\u001b[0m: invalid literal for int() with base 10: '1,042'"
     ]
    }
   ],
   "source": [
    "Running_Data = Running_Data.astype({'Distance':'float64', 'Calories':'int64', 'Avg HR':'int64', 'Max HR':'int64', \n",
    "                                    'Elev Gain':'int64', 'Elev Loss':'int64'})"
   ]
  },
  {
   "cell_type": "markdown",
   "metadata": {},
   "source": [
    "Okay, I need to filter the data a little bit:"
   ]
  },
  {
   "cell_type": "code",
   "execution_count": 20,
   "metadata": {},
   "outputs": [],
   "source": [
    "ToAmend = Running_Data[Running_Data['Calories'].str.contains(',')].copy() #Look for our value which contains a ','.\n",
    "Index = ToAmend['Calories'].index[0] #Find the index\n",
    "NewValue = ''.join(ToAmend['Calories'].iloc[0].split(',')) #Amend that value\n",
    "Running_Data.iloc[Index, 2] = NewValue #Overwrite the old with the new"
   ]
  },
  {
   "cell_type": "markdown",
   "metadata": {},
   "source": [
    "I've included this to demonstrate how different issues arise with data and how versitile pandas is to handle it. Also as a pandas refresher. Luckily, there was only one erroneous value, but in the case that this applied to many cells the above could be turned into a for loop or even a function for greater generality."
   ]
  },
  {
   "cell_type": "code",
   "execution_count": 21,
   "metadata": {},
   "outputs": [
    {
     "data": {
      "text/plain": [
       "'1042'"
      ]
     },
     "execution_count": 21,
     "metadata": {},
     "output_type": "execute_result"
    }
   ],
   "source": [
    "Running_Data.iloc[Index, 2] "
   ]
  },
  {
   "cell_type": "markdown",
   "metadata": {},
   "source": [
    "We can try again:"
   ]
  },
  {
   "cell_type": "code",
   "execution_count": 22,
   "metadata": {},
   "outputs": [
    {
     "ename": "ValueError",
     "evalue": "invalid literal for int() with base 10: '--'",
     "output_type": "error",
     "traceback": [
      "\u001b[1;31m---------------------------------------------------------------------------\u001b[0m",
      "\u001b[1;31mValueError\u001b[0m                                Traceback (most recent call last)",
      "\u001b[1;32m<ipython-input-22-230bfc05a332>\u001b[0m in \u001b[0;36m<module>\u001b[1;34m\u001b[0m\n\u001b[1;32m----> 1\u001b[1;33m Running_Data = Running_Data.astype({'Distance':'float64', 'Calories':'int64', 'Avg HR':'int64', 'Max HR':'int64', \n\u001b[0m\u001b[0;32m      2\u001b[0m                                     'Elev Gain':'int64', 'Elev Loss':'int64'})\n",
      "\u001b[1;32m~\\anaconda3\\lib\\site-packages\\pandas\\core\\generic.py\u001b[0m in \u001b[0;36mastype\u001b[1;34m(self, dtype, copy, errors)\u001b[0m\n\u001b[0;32m   5529\u001b[0m                 \u001b[1;32mif\u001b[0m \u001b[0mcol_name\u001b[0m \u001b[1;32min\u001b[0m \u001b[0mdtype\u001b[0m\u001b[1;33m:\u001b[0m\u001b[1;33m\u001b[0m\u001b[1;33m\u001b[0m\u001b[0m\n\u001b[0;32m   5530\u001b[0m                     results.append(\n\u001b[1;32m-> 5531\u001b[1;33m                         \u001b[0mcol\u001b[0m\u001b[1;33m.\u001b[0m\u001b[0mastype\u001b[0m\u001b[1;33m(\u001b[0m\u001b[0mdtype\u001b[0m\u001b[1;33m=\u001b[0m\u001b[0mdtype\u001b[0m\u001b[1;33m[\u001b[0m\u001b[0mcol_name\u001b[0m\u001b[1;33m]\u001b[0m\u001b[1;33m,\u001b[0m \u001b[0mcopy\u001b[0m\u001b[1;33m=\u001b[0m\u001b[0mcopy\u001b[0m\u001b[1;33m,\u001b[0m \u001b[0merrors\u001b[0m\u001b[1;33m=\u001b[0m\u001b[0merrors\u001b[0m\u001b[1;33m)\u001b[0m\u001b[1;33m\u001b[0m\u001b[1;33m\u001b[0m\u001b[0m\n\u001b[0m\u001b[0;32m   5532\u001b[0m                     )\n\u001b[0;32m   5533\u001b[0m                 \u001b[1;32melse\u001b[0m\u001b[1;33m:\u001b[0m\u001b[1;33m\u001b[0m\u001b[1;33m\u001b[0m\u001b[0m\n",
      "\u001b[1;32m~\\anaconda3\\lib\\site-packages\\pandas\\core\\generic.py\u001b[0m in \u001b[0;36mastype\u001b[1;34m(self, dtype, copy, errors)\u001b[0m\n\u001b[0;32m   5544\u001b[0m         \u001b[1;32melse\u001b[0m\u001b[1;33m:\u001b[0m\u001b[1;33m\u001b[0m\u001b[1;33m\u001b[0m\u001b[0m\n\u001b[0;32m   5545\u001b[0m             \u001b[1;31m# else, only a single dtype is given\u001b[0m\u001b[1;33m\u001b[0m\u001b[1;33m\u001b[0m\u001b[1;33m\u001b[0m\u001b[0m\n\u001b[1;32m-> 5546\u001b[1;33m             \u001b[0mnew_data\u001b[0m \u001b[1;33m=\u001b[0m \u001b[0mself\u001b[0m\u001b[1;33m.\u001b[0m\u001b[0m_mgr\u001b[0m\u001b[1;33m.\u001b[0m\u001b[0mastype\u001b[0m\u001b[1;33m(\u001b[0m\u001b[0mdtype\u001b[0m\u001b[1;33m=\u001b[0m\u001b[0mdtype\u001b[0m\u001b[1;33m,\u001b[0m \u001b[0mcopy\u001b[0m\u001b[1;33m=\u001b[0m\u001b[0mcopy\u001b[0m\u001b[1;33m,\u001b[0m \u001b[0merrors\u001b[0m\u001b[1;33m=\u001b[0m\u001b[0merrors\u001b[0m\u001b[1;33m,\u001b[0m\u001b[1;33m)\u001b[0m\u001b[1;33m\u001b[0m\u001b[1;33m\u001b[0m\u001b[0m\n\u001b[0m\u001b[0;32m   5547\u001b[0m             \u001b[1;32mreturn\u001b[0m \u001b[0mself\u001b[0m\u001b[1;33m.\u001b[0m\u001b[0m_constructor\u001b[0m\u001b[1;33m(\u001b[0m\u001b[0mnew_data\u001b[0m\u001b[1;33m)\u001b[0m\u001b[1;33m.\u001b[0m\u001b[0m__finalize__\u001b[0m\u001b[1;33m(\u001b[0m\u001b[0mself\u001b[0m\u001b[1;33m,\u001b[0m \u001b[0mmethod\u001b[0m\u001b[1;33m=\u001b[0m\u001b[1;34m\"astype\"\u001b[0m\u001b[1;33m)\u001b[0m\u001b[1;33m\u001b[0m\u001b[1;33m\u001b[0m\u001b[0m\n\u001b[0;32m   5548\u001b[0m \u001b[1;33m\u001b[0m\u001b[0m\n",
      "\u001b[1;32m~\\anaconda3\\lib\\site-packages\\pandas\\core\\internals\\managers.py\u001b[0m in \u001b[0;36mastype\u001b[1;34m(self, dtype, copy, errors)\u001b[0m\n\u001b[0;32m    593\u001b[0m         \u001b[0mself\u001b[0m\u001b[1;33m,\u001b[0m \u001b[0mdtype\u001b[0m\u001b[1;33m,\u001b[0m \u001b[0mcopy\u001b[0m\u001b[1;33m:\u001b[0m \u001b[0mbool\u001b[0m \u001b[1;33m=\u001b[0m \u001b[1;32mFalse\u001b[0m\u001b[1;33m,\u001b[0m \u001b[0merrors\u001b[0m\u001b[1;33m:\u001b[0m \u001b[0mstr\u001b[0m \u001b[1;33m=\u001b[0m \u001b[1;34m\"raise\"\u001b[0m\u001b[1;33m\u001b[0m\u001b[1;33m\u001b[0m\u001b[0m\n\u001b[0;32m    594\u001b[0m     ) -> \"BlockManager\":\n\u001b[1;32m--> 595\u001b[1;33m         \u001b[1;32mreturn\u001b[0m \u001b[0mself\u001b[0m\u001b[1;33m.\u001b[0m\u001b[0mapply\u001b[0m\u001b[1;33m(\u001b[0m\u001b[1;34m\"astype\"\u001b[0m\u001b[1;33m,\u001b[0m \u001b[0mdtype\u001b[0m\u001b[1;33m=\u001b[0m\u001b[0mdtype\u001b[0m\u001b[1;33m,\u001b[0m \u001b[0mcopy\u001b[0m\u001b[1;33m=\u001b[0m\u001b[0mcopy\u001b[0m\u001b[1;33m,\u001b[0m \u001b[0merrors\u001b[0m\u001b[1;33m=\u001b[0m\u001b[0merrors\u001b[0m\u001b[1;33m)\u001b[0m\u001b[1;33m\u001b[0m\u001b[1;33m\u001b[0m\u001b[0m\n\u001b[0m\u001b[0;32m    596\u001b[0m \u001b[1;33m\u001b[0m\u001b[0m\n\u001b[0;32m    597\u001b[0m     def convert(\n",
      "\u001b[1;32m~\\anaconda3\\lib\\site-packages\\pandas\\core\\internals\\managers.py\u001b[0m in \u001b[0;36mapply\u001b[1;34m(self, f, align_keys, **kwargs)\u001b[0m\n\u001b[0;32m    404\u001b[0m                 \u001b[0mapplied\u001b[0m \u001b[1;33m=\u001b[0m \u001b[0mb\u001b[0m\u001b[1;33m.\u001b[0m\u001b[0mapply\u001b[0m\u001b[1;33m(\u001b[0m\u001b[0mf\u001b[0m\u001b[1;33m,\u001b[0m \u001b[1;33m**\u001b[0m\u001b[0mkwargs\u001b[0m\u001b[1;33m)\u001b[0m\u001b[1;33m\u001b[0m\u001b[1;33m\u001b[0m\u001b[0m\n\u001b[0;32m    405\u001b[0m             \u001b[1;32melse\u001b[0m\u001b[1;33m:\u001b[0m\u001b[1;33m\u001b[0m\u001b[1;33m\u001b[0m\u001b[0m\n\u001b[1;32m--> 406\u001b[1;33m                 \u001b[0mapplied\u001b[0m \u001b[1;33m=\u001b[0m \u001b[0mgetattr\u001b[0m\u001b[1;33m(\u001b[0m\u001b[0mb\u001b[0m\u001b[1;33m,\u001b[0m \u001b[0mf\u001b[0m\u001b[1;33m)\u001b[0m\u001b[1;33m(\u001b[0m\u001b[1;33m**\u001b[0m\u001b[0mkwargs\u001b[0m\u001b[1;33m)\u001b[0m\u001b[1;33m\u001b[0m\u001b[1;33m\u001b[0m\u001b[0m\n\u001b[0m\u001b[0;32m    407\u001b[0m             \u001b[0mresult_blocks\u001b[0m \u001b[1;33m=\u001b[0m \u001b[0m_extend_blocks\u001b[0m\u001b[1;33m(\u001b[0m\u001b[0mapplied\u001b[0m\u001b[1;33m,\u001b[0m \u001b[0mresult_blocks\u001b[0m\u001b[1;33m)\u001b[0m\u001b[1;33m\u001b[0m\u001b[1;33m\u001b[0m\u001b[0m\n\u001b[0;32m    408\u001b[0m \u001b[1;33m\u001b[0m\u001b[0m\n",
      "\u001b[1;32m~\\anaconda3\\lib\\site-packages\\pandas\\core\\internals\\blocks.py\u001b[0m in \u001b[0;36mastype\u001b[1;34m(self, dtype, copy, errors)\u001b[0m\n\u001b[0;32m    593\u001b[0m             \u001b[0mvals1d\u001b[0m \u001b[1;33m=\u001b[0m \u001b[0mvalues\u001b[0m\u001b[1;33m.\u001b[0m\u001b[0mravel\u001b[0m\u001b[1;33m(\u001b[0m\u001b[1;33m)\u001b[0m\u001b[1;33m\u001b[0m\u001b[1;33m\u001b[0m\u001b[0m\n\u001b[0;32m    594\u001b[0m             \u001b[1;32mtry\u001b[0m\u001b[1;33m:\u001b[0m\u001b[1;33m\u001b[0m\u001b[1;33m\u001b[0m\u001b[0m\n\u001b[1;32m--> 595\u001b[1;33m                 \u001b[0mvalues\u001b[0m \u001b[1;33m=\u001b[0m \u001b[0mastype_nansafe\u001b[0m\u001b[1;33m(\u001b[0m\u001b[0mvals1d\u001b[0m\u001b[1;33m,\u001b[0m \u001b[0mdtype\u001b[0m\u001b[1;33m,\u001b[0m \u001b[0mcopy\u001b[0m\u001b[1;33m=\u001b[0m\u001b[1;32mTrue\u001b[0m\u001b[1;33m)\u001b[0m\u001b[1;33m\u001b[0m\u001b[1;33m\u001b[0m\u001b[0m\n\u001b[0m\u001b[0;32m    596\u001b[0m             \u001b[1;32mexcept\u001b[0m \u001b[1;33m(\u001b[0m\u001b[0mValueError\u001b[0m\u001b[1;33m,\u001b[0m \u001b[0mTypeError\u001b[0m\u001b[1;33m)\u001b[0m\u001b[1;33m:\u001b[0m\u001b[1;33m\u001b[0m\u001b[1;33m\u001b[0m\u001b[0m\n\u001b[0;32m    597\u001b[0m                 \u001b[1;31m# e.g. astype_nansafe can fail on object-dtype of strings\u001b[0m\u001b[1;33m\u001b[0m\u001b[1;33m\u001b[0m\u001b[1;33m\u001b[0m\u001b[0m\n",
      "\u001b[1;32m~\\anaconda3\\lib\\site-packages\\pandas\\core\\dtypes\\cast.py\u001b[0m in \u001b[0;36mastype_nansafe\u001b[1;34m(arr, dtype, copy, skipna)\u001b[0m\n\u001b[0;32m    970\u001b[0m         \u001b[1;31m# work around NumPy brokenness, #1987\u001b[0m\u001b[1;33m\u001b[0m\u001b[1;33m\u001b[0m\u001b[1;33m\u001b[0m\u001b[0m\n\u001b[0;32m    971\u001b[0m         \u001b[1;32mif\u001b[0m \u001b[0mnp\u001b[0m\u001b[1;33m.\u001b[0m\u001b[0missubdtype\u001b[0m\u001b[1;33m(\u001b[0m\u001b[0mdtype\u001b[0m\u001b[1;33m.\u001b[0m\u001b[0mtype\u001b[0m\u001b[1;33m,\u001b[0m \u001b[0mnp\u001b[0m\u001b[1;33m.\u001b[0m\u001b[0minteger\u001b[0m\u001b[1;33m)\u001b[0m\u001b[1;33m:\u001b[0m\u001b[1;33m\u001b[0m\u001b[1;33m\u001b[0m\u001b[0m\n\u001b[1;32m--> 972\u001b[1;33m             \u001b[1;32mreturn\u001b[0m \u001b[0mlib\u001b[0m\u001b[1;33m.\u001b[0m\u001b[0mastype_intsafe\u001b[0m\u001b[1;33m(\u001b[0m\u001b[0marr\u001b[0m\u001b[1;33m.\u001b[0m\u001b[0mravel\u001b[0m\u001b[1;33m(\u001b[0m\u001b[1;33m)\u001b[0m\u001b[1;33m,\u001b[0m \u001b[0mdtype\u001b[0m\u001b[1;33m)\u001b[0m\u001b[1;33m.\u001b[0m\u001b[0mreshape\u001b[0m\u001b[1;33m(\u001b[0m\u001b[0marr\u001b[0m\u001b[1;33m.\u001b[0m\u001b[0mshape\u001b[0m\u001b[1;33m)\u001b[0m\u001b[1;33m\u001b[0m\u001b[1;33m\u001b[0m\u001b[0m\n\u001b[0m\u001b[0;32m    973\u001b[0m \u001b[1;33m\u001b[0m\u001b[0m\n\u001b[0;32m    974\u001b[0m         \u001b[1;31m# if we have a datetime/timedelta array of objects\u001b[0m\u001b[1;33m\u001b[0m\u001b[1;33m\u001b[0m\u001b[1;33m\u001b[0m\u001b[0m\n",
      "\u001b[1;32mpandas\\_libs\\lib.pyx\u001b[0m in \u001b[0;36mpandas._libs.lib.astype_intsafe\u001b[1;34m()\u001b[0m\n",
      "\u001b[1;31mValueError\u001b[0m: invalid literal for int() with base 10: '--'"
     ]
    }
   ],
   "source": [
    "Running_Data = Running_Data.astype({'Distance':'float64', 'Calories':'int64', 'Avg HR':'int64', 'Max HR':'int64', \n",
    "                                    'Elev Gain':'int64', 'Elev Loss':'int64'})"
   ]
  },
  {
   "cell_type": "markdown",
   "metadata": {},
   "source": [
    "Similar thing as before, but with an easier mask:"
   ]
  },
  {
   "cell_type": "code",
   "execution_count": 23,
   "metadata": {},
   "outputs": [],
   "source": [
    "Running_Data = Running_Data[Running_Data!='--']"
   ]
  },
  {
   "cell_type": "markdown",
   "metadata": {},
   "source": [
    "In practice I would just rerun cell 21 again but to show all the different errors I have repeated the line."
   ]
  },
  {
   "cell_type": "code",
   "execution_count": 24,
   "metadata": {
    "scrolled": true
   },
   "outputs": [
    {
     "ename": "ValueError",
     "evalue": "cannot convert float NaN to integer",
     "output_type": "error",
     "traceback": [
      "\u001b[1;31m---------------------------------------------------------------------------\u001b[0m",
      "\u001b[1;31mValueError\u001b[0m                                Traceback (most recent call last)",
      "\u001b[1;32m<ipython-input-24-230bfc05a332>\u001b[0m in \u001b[0;36m<module>\u001b[1;34m\u001b[0m\n\u001b[1;32m----> 1\u001b[1;33m Running_Data = Running_Data.astype({'Distance':'float64', 'Calories':'int64', 'Avg HR':'int64', 'Max HR':'int64', \n\u001b[0m\u001b[0;32m      2\u001b[0m                                     'Elev Gain':'int64', 'Elev Loss':'int64'})\n",
      "\u001b[1;32m~\\anaconda3\\lib\\site-packages\\pandas\\core\\generic.py\u001b[0m in \u001b[0;36mastype\u001b[1;34m(self, dtype, copy, errors)\u001b[0m\n\u001b[0;32m   5529\u001b[0m                 \u001b[1;32mif\u001b[0m \u001b[0mcol_name\u001b[0m \u001b[1;32min\u001b[0m \u001b[0mdtype\u001b[0m\u001b[1;33m:\u001b[0m\u001b[1;33m\u001b[0m\u001b[1;33m\u001b[0m\u001b[0m\n\u001b[0;32m   5530\u001b[0m                     results.append(\n\u001b[1;32m-> 5531\u001b[1;33m                         \u001b[0mcol\u001b[0m\u001b[1;33m.\u001b[0m\u001b[0mastype\u001b[0m\u001b[1;33m(\u001b[0m\u001b[0mdtype\u001b[0m\u001b[1;33m=\u001b[0m\u001b[0mdtype\u001b[0m\u001b[1;33m[\u001b[0m\u001b[0mcol_name\u001b[0m\u001b[1;33m]\u001b[0m\u001b[1;33m,\u001b[0m \u001b[0mcopy\u001b[0m\u001b[1;33m=\u001b[0m\u001b[0mcopy\u001b[0m\u001b[1;33m,\u001b[0m \u001b[0merrors\u001b[0m\u001b[1;33m=\u001b[0m\u001b[0merrors\u001b[0m\u001b[1;33m)\u001b[0m\u001b[1;33m\u001b[0m\u001b[1;33m\u001b[0m\u001b[0m\n\u001b[0m\u001b[0;32m   5532\u001b[0m                     )\n\u001b[0;32m   5533\u001b[0m                 \u001b[1;32melse\u001b[0m\u001b[1;33m:\u001b[0m\u001b[1;33m\u001b[0m\u001b[1;33m\u001b[0m\u001b[0m\n",
      "\u001b[1;32m~\\anaconda3\\lib\\site-packages\\pandas\\core\\generic.py\u001b[0m in \u001b[0;36mastype\u001b[1;34m(self, dtype, copy, errors)\u001b[0m\n\u001b[0;32m   5544\u001b[0m         \u001b[1;32melse\u001b[0m\u001b[1;33m:\u001b[0m\u001b[1;33m\u001b[0m\u001b[1;33m\u001b[0m\u001b[0m\n\u001b[0;32m   5545\u001b[0m             \u001b[1;31m# else, only a single dtype is given\u001b[0m\u001b[1;33m\u001b[0m\u001b[1;33m\u001b[0m\u001b[1;33m\u001b[0m\u001b[0m\n\u001b[1;32m-> 5546\u001b[1;33m             \u001b[0mnew_data\u001b[0m \u001b[1;33m=\u001b[0m \u001b[0mself\u001b[0m\u001b[1;33m.\u001b[0m\u001b[0m_mgr\u001b[0m\u001b[1;33m.\u001b[0m\u001b[0mastype\u001b[0m\u001b[1;33m(\u001b[0m\u001b[0mdtype\u001b[0m\u001b[1;33m=\u001b[0m\u001b[0mdtype\u001b[0m\u001b[1;33m,\u001b[0m \u001b[0mcopy\u001b[0m\u001b[1;33m=\u001b[0m\u001b[0mcopy\u001b[0m\u001b[1;33m,\u001b[0m \u001b[0merrors\u001b[0m\u001b[1;33m=\u001b[0m\u001b[0merrors\u001b[0m\u001b[1;33m,\u001b[0m\u001b[1;33m)\u001b[0m\u001b[1;33m\u001b[0m\u001b[1;33m\u001b[0m\u001b[0m\n\u001b[0m\u001b[0;32m   5547\u001b[0m             \u001b[1;32mreturn\u001b[0m \u001b[0mself\u001b[0m\u001b[1;33m.\u001b[0m\u001b[0m_constructor\u001b[0m\u001b[1;33m(\u001b[0m\u001b[0mnew_data\u001b[0m\u001b[1;33m)\u001b[0m\u001b[1;33m.\u001b[0m\u001b[0m__finalize__\u001b[0m\u001b[1;33m(\u001b[0m\u001b[0mself\u001b[0m\u001b[1;33m,\u001b[0m \u001b[0mmethod\u001b[0m\u001b[1;33m=\u001b[0m\u001b[1;34m\"astype\"\u001b[0m\u001b[1;33m)\u001b[0m\u001b[1;33m\u001b[0m\u001b[1;33m\u001b[0m\u001b[0m\n\u001b[0;32m   5548\u001b[0m \u001b[1;33m\u001b[0m\u001b[0m\n",
      "\u001b[1;32m~\\anaconda3\\lib\\site-packages\\pandas\\core\\internals\\managers.py\u001b[0m in \u001b[0;36mastype\u001b[1;34m(self, dtype, copy, errors)\u001b[0m\n\u001b[0;32m    593\u001b[0m         \u001b[0mself\u001b[0m\u001b[1;33m,\u001b[0m \u001b[0mdtype\u001b[0m\u001b[1;33m,\u001b[0m \u001b[0mcopy\u001b[0m\u001b[1;33m:\u001b[0m \u001b[0mbool\u001b[0m \u001b[1;33m=\u001b[0m \u001b[1;32mFalse\u001b[0m\u001b[1;33m,\u001b[0m \u001b[0merrors\u001b[0m\u001b[1;33m:\u001b[0m \u001b[0mstr\u001b[0m \u001b[1;33m=\u001b[0m \u001b[1;34m\"raise\"\u001b[0m\u001b[1;33m\u001b[0m\u001b[1;33m\u001b[0m\u001b[0m\n\u001b[0;32m    594\u001b[0m     ) -> \"BlockManager\":\n\u001b[1;32m--> 595\u001b[1;33m         \u001b[1;32mreturn\u001b[0m \u001b[0mself\u001b[0m\u001b[1;33m.\u001b[0m\u001b[0mapply\u001b[0m\u001b[1;33m(\u001b[0m\u001b[1;34m\"astype\"\u001b[0m\u001b[1;33m,\u001b[0m \u001b[0mdtype\u001b[0m\u001b[1;33m=\u001b[0m\u001b[0mdtype\u001b[0m\u001b[1;33m,\u001b[0m \u001b[0mcopy\u001b[0m\u001b[1;33m=\u001b[0m\u001b[0mcopy\u001b[0m\u001b[1;33m,\u001b[0m \u001b[0merrors\u001b[0m\u001b[1;33m=\u001b[0m\u001b[0merrors\u001b[0m\u001b[1;33m)\u001b[0m\u001b[1;33m\u001b[0m\u001b[1;33m\u001b[0m\u001b[0m\n\u001b[0m\u001b[0;32m    596\u001b[0m \u001b[1;33m\u001b[0m\u001b[0m\n\u001b[0;32m    597\u001b[0m     def convert(\n",
      "\u001b[1;32m~\\anaconda3\\lib\\site-packages\\pandas\\core\\internals\\managers.py\u001b[0m in \u001b[0;36mapply\u001b[1;34m(self, f, align_keys, **kwargs)\u001b[0m\n\u001b[0;32m    404\u001b[0m                 \u001b[0mapplied\u001b[0m \u001b[1;33m=\u001b[0m \u001b[0mb\u001b[0m\u001b[1;33m.\u001b[0m\u001b[0mapply\u001b[0m\u001b[1;33m(\u001b[0m\u001b[0mf\u001b[0m\u001b[1;33m,\u001b[0m \u001b[1;33m**\u001b[0m\u001b[0mkwargs\u001b[0m\u001b[1;33m)\u001b[0m\u001b[1;33m\u001b[0m\u001b[1;33m\u001b[0m\u001b[0m\n\u001b[0;32m    405\u001b[0m             \u001b[1;32melse\u001b[0m\u001b[1;33m:\u001b[0m\u001b[1;33m\u001b[0m\u001b[1;33m\u001b[0m\u001b[0m\n\u001b[1;32m--> 406\u001b[1;33m                 \u001b[0mapplied\u001b[0m \u001b[1;33m=\u001b[0m \u001b[0mgetattr\u001b[0m\u001b[1;33m(\u001b[0m\u001b[0mb\u001b[0m\u001b[1;33m,\u001b[0m \u001b[0mf\u001b[0m\u001b[1;33m)\u001b[0m\u001b[1;33m(\u001b[0m\u001b[1;33m**\u001b[0m\u001b[0mkwargs\u001b[0m\u001b[1;33m)\u001b[0m\u001b[1;33m\u001b[0m\u001b[1;33m\u001b[0m\u001b[0m\n\u001b[0m\u001b[0;32m    407\u001b[0m             \u001b[0mresult_blocks\u001b[0m \u001b[1;33m=\u001b[0m \u001b[0m_extend_blocks\u001b[0m\u001b[1;33m(\u001b[0m\u001b[0mapplied\u001b[0m\u001b[1;33m,\u001b[0m \u001b[0mresult_blocks\u001b[0m\u001b[1;33m)\u001b[0m\u001b[1;33m\u001b[0m\u001b[1;33m\u001b[0m\u001b[0m\n\u001b[0;32m    408\u001b[0m \u001b[1;33m\u001b[0m\u001b[0m\n",
      "\u001b[1;32m~\\anaconda3\\lib\\site-packages\\pandas\\core\\internals\\blocks.py\u001b[0m in \u001b[0;36mastype\u001b[1;34m(self, dtype, copy, errors)\u001b[0m\n\u001b[0;32m    593\u001b[0m             \u001b[0mvals1d\u001b[0m \u001b[1;33m=\u001b[0m \u001b[0mvalues\u001b[0m\u001b[1;33m.\u001b[0m\u001b[0mravel\u001b[0m\u001b[1;33m(\u001b[0m\u001b[1;33m)\u001b[0m\u001b[1;33m\u001b[0m\u001b[1;33m\u001b[0m\u001b[0m\n\u001b[0;32m    594\u001b[0m             \u001b[1;32mtry\u001b[0m\u001b[1;33m:\u001b[0m\u001b[1;33m\u001b[0m\u001b[1;33m\u001b[0m\u001b[0m\n\u001b[1;32m--> 595\u001b[1;33m                 \u001b[0mvalues\u001b[0m \u001b[1;33m=\u001b[0m \u001b[0mastype_nansafe\u001b[0m\u001b[1;33m(\u001b[0m\u001b[0mvals1d\u001b[0m\u001b[1;33m,\u001b[0m \u001b[0mdtype\u001b[0m\u001b[1;33m,\u001b[0m \u001b[0mcopy\u001b[0m\u001b[1;33m=\u001b[0m\u001b[1;32mTrue\u001b[0m\u001b[1;33m)\u001b[0m\u001b[1;33m\u001b[0m\u001b[1;33m\u001b[0m\u001b[0m\n\u001b[0m\u001b[0;32m    596\u001b[0m             \u001b[1;32mexcept\u001b[0m \u001b[1;33m(\u001b[0m\u001b[0mValueError\u001b[0m\u001b[1;33m,\u001b[0m \u001b[0mTypeError\u001b[0m\u001b[1;33m)\u001b[0m\u001b[1;33m:\u001b[0m\u001b[1;33m\u001b[0m\u001b[1;33m\u001b[0m\u001b[0m\n\u001b[0;32m    597\u001b[0m                 \u001b[1;31m# e.g. astype_nansafe can fail on object-dtype of strings\u001b[0m\u001b[1;33m\u001b[0m\u001b[1;33m\u001b[0m\u001b[1;33m\u001b[0m\u001b[0m\n",
      "\u001b[1;32m~\\anaconda3\\lib\\site-packages\\pandas\\core\\dtypes\\cast.py\u001b[0m in \u001b[0;36mastype_nansafe\u001b[1;34m(arr, dtype, copy, skipna)\u001b[0m\n\u001b[0;32m    970\u001b[0m         \u001b[1;31m# work around NumPy brokenness, #1987\u001b[0m\u001b[1;33m\u001b[0m\u001b[1;33m\u001b[0m\u001b[1;33m\u001b[0m\u001b[0m\n\u001b[0;32m    971\u001b[0m         \u001b[1;32mif\u001b[0m \u001b[0mnp\u001b[0m\u001b[1;33m.\u001b[0m\u001b[0missubdtype\u001b[0m\u001b[1;33m(\u001b[0m\u001b[0mdtype\u001b[0m\u001b[1;33m.\u001b[0m\u001b[0mtype\u001b[0m\u001b[1;33m,\u001b[0m \u001b[0mnp\u001b[0m\u001b[1;33m.\u001b[0m\u001b[0minteger\u001b[0m\u001b[1;33m)\u001b[0m\u001b[1;33m:\u001b[0m\u001b[1;33m\u001b[0m\u001b[1;33m\u001b[0m\u001b[0m\n\u001b[1;32m--> 972\u001b[1;33m             \u001b[1;32mreturn\u001b[0m \u001b[0mlib\u001b[0m\u001b[1;33m.\u001b[0m\u001b[0mastype_intsafe\u001b[0m\u001b[1;33m(\u001b[0m\u001b[0marr\u001b[0m\u001b[1;33m.\u001b[0m\u001b[0mravel\u001b[0m\u001b[1;33m(\u001b[0m\u001b[1;33m)\u001b[0m\u001b[1;33m,\u001b[0m \u001b[0mdtype\u001b[0m\u001b[1;33m)\u001b[0m\u001b[1;33m.\u001b[0m\u001b[0mreshape\u001b[0m\u001b[1;33m(\u001b[0m\u001b[0marr\u001b[0m\u001b[1;33m.\u001b[0m\u001b[0mshape\u001b[0m\u001b[1;33m)\u001b[0m\u001b[1;33m\u001b[0m\u001b[1;33m\u001b[0m\u001b[0m\n\u001b[0m\u001b[0;32m    973\u001b[0m \u001b[1;33m\u001b[0m\u001b[0m\n\u001b[0;32m    974\u001b[0m         \u001b[1;31m# if we have a datetime/timedelta array of objects\u001b[0m\u001b[1;33m\u001b[0m\u001b[1;33m\u001b[0m\u001b[1;33m\u001b[0m\u001b[0m\n",
      "\u001b[1;32mpandas\\_libs\\lib.pyx\u001b[0m in \u001b[0;36mpandas._libs.lib.astype_intsafe\u001b[1;34m()\u001b[0m\n",
      "\u001b[1;31mValueError\u001b[0m: cannot convert float NaN to integer"
     ]
    }
   ],
   "source": [
    "Running_Data = Running_Data.astype({'Distance':'float64', 'Calories':'int64', 'Avg HR':'int64', 'Max HR':'int64', \n",
    "                                    'Elev Gain':'int64', 'Elev Loss':'int64'})"
   ]
  },
  {
   "cell_type": "markdown",
   "metadata": {},
   "source": [
    "You can use `isna()` to return a boolean DataFrame for values which are NaN, and then follow it up with `.any()` to check if **any** columns contain a `True` (.all() returns something similar but on the condition that **all** values are `True`)."
   ]
  },
  {
   "cell_type": "code",
   "execution_count": 25,
   "metadata": {},
   "outputs": [
    {
     "data": {
      "text/plain": [
       "Date            False\n",
       "Distance        False\n",
       "Calories        False\n",
       "Time            False\n",
       "Avg HR           True\n",
       "Max HR           True\n",
       "Avg Pace        False\n",
       "Elev Gain        True\n",
       "Elev Loss        True\n",
       "Moving Time     False\n",
       "Elapsed Time    False\n",
       "dtype: bool"
      ]
     },
     "execution_count": 25,
     "metadata": {},
     "output_type": "execute_result"
    }
   ],
   "source": [
    "Running_Data.isna().any()"
   ]
  },
  {
   "cell_type": "code",
   "execution_count": 26,
   "metadata": {},
   "outputs": [],
   "source": [
    "Running_Data = Running_Data.dropna(axis=0)"
   ]
  },
  {
   "cell_type": "markdown",
   "metadata": {},
   "source": [
    "I can rerun cell 25 to see if that's done the trick:"
   ]
  },
  {
   "cell_type": "code",
   "execution_count": 27,
   "metadata": {},
   "outputs": [
    {
     "data": {
      "text/plain": [
       "Date            False\n",
       "Distance        False\n",
       "Calories        False\n",
       "Time            False\n",
       "Avg HR          False\n",
       "Max HR          False\n",
       "Avg Pace        False\n",
       "Elev Gain       False\n",
       "Elev Loss       False\n",
       "Moving Time     False\n",
       "Elapsed Time    False\n",
       "dtype: bool"
      ]
     },
     "execution_count": 27,
     "metadata": {},
     "output_type": "execute_result"
    }
   ],
   "source": [
    "Running_Data.isna().any()"
   ]
  },
  {
   "cell_type": "markdown",
   "metadata": {},
   "source": [
    "Great, I should now be able to convert my datatypes:"
   ]
  },
  {
   "cell_type": "code",
   "execution_count": 28,
   "metadata": {},
   "outputs": [],
   "source": [
    "Running_Data = Running_Data.astype({'Distance':'float64', 'Calories':'int64', 'Avg HR':'int64', 'Max HR':'int64', \n",
    "                                    'Elev Gain':'int64', 'Elev Loss':'int64'})"
   ]
  },
  {
   "cell_type": "markdown",
   "metadata": {},
   "source": [
    "No error - good. Now I can go on and create and load the data into my database. For longer queries it is conventional, and easier, to separte your query as a string instead of just putting into `Cursor.execute()`. **Note:** using three commas creates a long string which can spread over lines."
   ]
  },
  {
   "cell_type": "code",
   "execution_count": 29,
   "metadata": {},
   "outputs": [
    {
     "ename": "ProgrammingError",
     "evalue": "1050 (42S01): Table 'running_data' already exists",
     "output_type": "error",
     "traceback": [
      "\u001b[1;31m---------------------------------------------------------------------------\u001b[0m",
      "\u001b[1;31mProgrammingError\u001b[0m                          Traceback (most recent call last)",
      "\u001b[1;32m<ipython-input-29-31f26ca35803>\u001b[0m in \u001b[0;36m<module>\u001b[1;34m\u001b[0m\n\u001b[0;32m     17\u001b[0m \u001b[0mCursor\u001b[0m \u001b[1;33m=\u001b[0m \u001b[0mConn\u001b[0m\u001b[1;33m.\u001b[0m\u001b[0mcursor\u001b[0m\u001b[1;33m(\u001b[0m\u001b[1;33m)\u001b[0m\u001b[1;33m\u001b[0m\u001b[1;33m\u001b[0m\u001b[0m\n\u001b[0;32m     18\u001b[0m \u001b[1;33m\u001b[0m\u001b[0m\n\u001b[1;32m---> 19\u001b[1;33m \u001b[0mCursor\u001b[0m\u001b[1;33m.\u001b[0m\u001b[0mexecute\u001b[0m\u001b[1;33m(\u001b[0m\u001b[0mQuery\u001b[0m\u001b[1;33m)\u001b[0m\u001b[1;33m\u001b[0m\u001b[1;33m\u001b[0m\u001b[0m\n\u001b[0m\u001b[0;32m     20\u001b[0m \u001b[0mConn\u001b[0m\u001b[1;33m.\u001b[0m\u001b[0mcommit\u001b[0m\u001b[1;33m(\u001b[0m\u001b[1;33m)\u001b[0m\u001b[1;33m\u001b[0m\u001b[1;33m\u001b[0m\u001b[0m\n",
      "\u001b[1;32m~\\anaconda3\\lib\\site-packages\\mysql\\connector\\cursor.py\u001b[0m in \u001b[0;36mexecute\u001b[1;34m(self, operation, params, multi)\u001b[0m\n\u001b[0;32m    575\u001b[0m \u001b[1;33m\u001b[0m\u001b[0m\n\u001b[0;32m    576\u001b[0m         \u001b[1;32mtry\u001b[0m\u001b[1;33m:\u001b[0m\u001b[1;33m\u001b[0m\u001b[1;33m\u001b[0m\u001b[0m\n\u001b[1;32m--> 577\u001b[1;33m             \u001b[0mself\u001b[0m\u001b[1;33m.\u001b[0m\u001b[0m_handle_result\u001b[0m\u001b[1;33m(\u001b[0m\u001b[0mself\u001b[0m\u001b[1;33m.\u001b[0m\u001b[0m_connection\u001b[0m\u001b[1;33m.\u001b[0m\u001b[0mcmd_query\u001b[0m\u001b[1;33m(\u001b[0m\u001b[0mstmt\u001b[0m\u001b[1;33m)\u001b[0m\u001b[1;33m)\u001b[0m\u001b[1;33m\u001b[0m\u001b[1;33m\u001b[0m\u001b[0m\n\u001b[0m\u001b[0;32m    578\u001b[0m         \u001b[1;32mexcept\u001b[0m \u001b[0merrors\u001b[0m\u001b[1;33m.\u001b[0m\u001b[0mInterfaceError\u001b[0m\u001b[1;33m:\u001b[0m\u001b[1;33m\u001b[0m\u001b[1;33m\u001b[0m\u001b[0m\n\u001b[0;32m    579\u001b[0m             \u001b[1;32mif\u001b[0m \u001b[0mself\u001b[0m\u001b[1;33m.\u001b[0m\u001b[0m_connection\u001b[0m\u001b[1;33m.\u001b[0m\u001b[0m_have_next_result\u001b[0m\u001b[1;33m:\u001b[0m  \u001b[1;31m# pylint: disable=W0212\u001b[0m\u001b[1;33m\u001b[0m\u001b[1;33m\u001b[0m\u001b[0m\n",
      "\u001b[1;32m~\\anaconda3\\lib\\site-packages\\mysql\\connector\\connection.py\u001b[0m in \u001b[0;36mcmd_query\u001b[1;34m(self, query, raw, buffered, raw_as_string)\u001b[0m\n\u001b[0;32m    693\u001b[0m             \u001b[0mquery\u001b[0m \u001b[1;33m=\u001b[0m \u001b[0mquery\u001b[0m\u001b[1;33m.\u001b[0m\u001b[0mencode\u001b[0m\u001b[1;33m(\u001b[0m\u001b[1;34m'utf-8'\u001b[0m\u001b[1;33m)\u001b[0m\u001b[1;33m\u001b[0m\u001b[1;33m\u001b[0m\u001b[0m\n\u001b[0;32m    694\u001b[0m         \u001b[1;32mtry\u001b[0m\u001b[1;33m:\u001b[0m\u001b[1;33m\u001b[0m\u001b[1;33m\u001b[0m\u001b[0m\n\u001b[1;32m--> 695\u001b[1;33m             \u001b[0mresult\u001b[0m \u001b[1;33m=\u001b[0m \u001b[0mself\u001b[0m\u001b[1;33m.\u001b[0m\u001b[0m_handle_result\u001b[0m\u001b[1;33m(\u001b[0m\u001b[0mself\u001b[0m\u001b[1;33m.\u001b[0m\u001b[0m_send_cmd\u001b[0m\u001b[1;33m(\u001b[0m\u001b[0mServerCmd\u001b[0m\u001b[1;33m.\u001b[0m\u001b[0mQUERY\u001b[0m\u001b[1;33m,\u001b[0m \u001b[0mquery\u001b[0m\u001b[1;33m)\u001b[0m\u001b[1;33m)\u001b[0m\u001b[1;33m\u001b[0m\u001b[1;33m\u001b[0m\u001b[0m\n\u001b[0m\u001b[0;32m    696\u001b[0m         \u001b[1;32mexcept\u001b[0m \u001b[0merrors\u001b[0m\u001b[1;33m.\u001b[0m\u001b[0mProgrammingError\u001b[0m \u001b[1;32mas\u001b[0m \u001b[0merr\u001b[0m\u001b[1;33m:\u001b[0m\u001b[1;33m\u001b[0m\u001b[1;33m\u001b[0m\u001b[0m\n\u001b[0;32m    697\u001b[0m             \u001b[1;32mif\u001b[0m \u001b[0merr\u001b[0m\u001b[1;33m.\u001b[0m\u001b[0merrno\u001b[0m \u001b[1;33m==\u001b[0m \u001b[1;36m3948\u001b[0m \u001b[1;32mand\u001b[0m\u001b[0;31m \u001b[0m\u001b[0;31m\\\u001b[0m\u001b[1;33m\u001b[0m\u001b[1;33m\u001b[0m\u001b[0m\n",
      "\u001b[1;32m~\\anaconda3\\lib\\site-packages\\mysql\\connector\\connection.py\u001b[0m in \u001b[0;36m_handle_result\u001b[1;34m(self, packet)\u001b[0m\n\u001b[0;32m    580\u001b[0m             \u001b[1;32mreturn\u001b[0m \u001b[0mself\u001b[0m\u001b[1;33m.\u001b[0m\u001b[0m_handle_eof\u001b[0m\u001b[1;33m(\u001b[0m\u001b[0mpacket\u001b[0m\u001b[1;33m)\u001b[0m\u001b[1;33m\u001b[0m\u001b[1;33m\u001b[0m\u001b[0m\n\u001b[0;32m    581\u001b[0m         \u001b[1;32melif\u001b[0m \u001b[0mpacket\u001b[0m\u001b[1;33m[\u001b[0m\u001b[1;36m4\u001b[0m\u001b[1;33m]\u001b[0m \u001b[1;33m==\u001b[0m \u001b[1;36m255\u001b[0m\u001b[1;33m:\u001b[0m\u001b[1;33m\u001b[0m\u001b[1;33m\u001b[0m\u001b[0m\n\u001b[1;32m--> 582\u001b[1;33m             \u001b[1;32mraise\u001b[0m \u001b[0merrors\u001b[0m\u001b[1;33m.\u001b[0m\u001b[0mget_exception\u001b[0m\u001b[1;33m(\u001b[0m\u001b[0mpacket\u001b[0m\u001b[1;33m)\u001b[0m\u001b[1;33m\u001b[0m\u001b[1;33m\u001b[0m\u001b[0m\n\u001b[0m\u001b[0;32m    583\u001b[0m \u001b[1;33m\u001b[0m\u001b[0m\n\u001b[0;32m    584\u001b[0m         \u001b[1;31m# We have a text result set\u001b[0m\u001b[1;33m\u001b[0m\u001b[1;33m\u001b[0m\u001b[1;33m\u001b[0m\u001b[0m\n",
      "\u001b[1;31mProgrammingError\u001b[0m: 1050 (42S01): Table 'running_data' already exists"
     ]
    }
   ],
   "source": [
    "Query = \"\"\"CREATE Table Running_Data (\n",
    "                Date DATETIME,\n",
    "                Distance FLOAT,\n",
    "                Calories INT,\n",
    "                Time TIME,\n",
    "                Avg_HR INT,\n",
    "                Max_HR INT,\n",
    "                Avg_Pace TIME,\n",
    "                Elev_Gain INT,\n",
    "                Elev_Loss INT,\n",
    "                Moving_Time TIME,\n",
    "                Elapsed_Time TIME\n",
    "            )\n",
    "\"\"\"\n",
    "\n",
    "Conn = Connector.connect(host='localhost', user='kiara', password='kiara_password', database='kiara_db')\n",
    "Cursor = Conn.cursor()\n",
    "\n",
    "Cursor.execute(Query)\n",
    "Conn.commit()"
   ]
  },
  {
   "cell_type": "markdown",
   "metadata": {},
   "source": [
    "`Conn.commit()` commits the transation to the database, altering its state. Cursor.execute on its own does not do this. To check that we have created our new table:"
   ]
  },
  {
   "cell_type": "markdown",
   "metadata": {},
   "source": [
    "<img src=\"./Screenshots/Python_Connector.png\" width=1000 height=1000 />"
   ]
  },
  {
   "cell_type": "markdown",
   "metadata": {},
   "source": [
    "We can now load our data into table using `INSERT INTO TABLE VALUE (val1, val2, ..., valn)`. **Note:** this only works if you are adding data into each column. For specific columns use `INSERT INTO TABLE (col1, col2, ..., coln) VALUE (val1, val2, ..., valn)`"
   ]
  },
  {
   "cell_type": "code",
   "execution_count": 30,
   "metadata": {},
   "outputs": [],
   "source": [
    "for i in range(Running_Data.shape[0]):\n",
    "    Query = \"\"\"INSERT INTO running_data VALUES (\n",
    "                    '{}', {}, {}, '{}', {}, {}, \n",
    "                    '{}', {}, {}, '{}', '{}'\n",
    "    )\n",
    "    \"\"\".format(Running_Data.iloc[i][0], Running_Data.iloc[i][1], Running_Data.iloc[i][2], Running_Data.iloc[i][3],\n",
    "               Running_Data.iloc[i][4], Running_Data.iloc[i][5], Running_Data.iloc[i][6], Running_Data.iloc[i][7],\n",
    "               Running_Data.iloc[i][8], Running_Data.iloc[i][9], Running_Data.iloc[i][10])\n",
    "    Cursor.execute(Query)\n",
    "    Conn.commit()"
   ]
  },
  {
   "cell_type": "markdown",
   "metadata": {},
   "source": [
    "We can now compare the data between MySQL and pandas:"
   ]
  },
  {
   "cell_type": "markdown",
   "metadata": {},
   "source": [
    "<img src=\"./Screenshots/Running_Data.png\" width=1000 height=1000 />"
   ]
  },
  {
   "cell_type": "code",
   "execution_count": 31,
   "metadata": {},
   "outputs": [
    {
     "data": {
      "text/html": [
       "<div>\n",
       "<style scoped>\n",
       "    .dataframe tbody tr th:only-of-type {\n",
       "        vertical-align: middle;\n",
       "    }\n",
       "\n",
       "    .dataframe tbody tr th {\n",
       "        vertical-align: top;\n",
       "    }\n",
       "\n",
       "    .dataframe thead th {\n",
       "        text-align: right;\n",
       "    }\n",
       "</style>\n",
       "<table border=\"1\" class=\"dataframe\">\n",
       "  <thead>\n",
       "    <tr style=\"text-align: right;\">\n",
       "      <th></th>\n",
       "      <th>Date</th>\n",
       "      <th>Distance</th>\n",
       "      <th>Calories</th>\n",
       "      <th>Time</th>\n",
       "      <th>Avg HR</th>\n",
       "      <th>Max HR</th>\n",
       "      <th>Avg Pace</th>\n",
       "      <th>Elev Gain</th>\n",
       "      <th>Elev Loss</th>\n",
       "      <th>Moving Time</th>\n",
       "      <th>Elapsed Time</th>\n",
       "    </tr>\n",
       "  </thead>\n",
       "  <tbody>\n",
       "    <tr>\n",
       "      <th>0</th>\n",
       "      <td>2021-08-15 18:14:06</td>\n",
       "      <td>8.93</td>\n",
       "      <td>673</td>\n",
       "      <td>00:45:01</td>\n",
       "      <td>159</td>\n",
       "      <td>181</td>\n",
       "      <td>5:02</td>\n",
       "      <td>11</td>\n",
       "      <td>13</td>\n",
       "      <td>00:00:00</td>\n",
       "      <td>00:45:43</td>\n",
       "    </tr>\n",
       "    <tr>\n",
       "      <th>1</th>\n",
       "      <td>2021-08-13 17:55:40</td>\n",
       "      <td>7.48</td>\n",
       "      <td>566</td>\n",
       "      <td>00:41:01</td>\n",
       "      <td>148</td>\n",
       "      <td>166</td>\n",
       "      <td>5:29</td>\n",
       "      <td>28</td>\n",
       "      <td>30</td>\n",
       "      <td>00:00:00</td>\n",
       "      <td>00:41:17</td>\n",
       "    </tr>\n",
       "    <tr>\n",
       "      <th>2</th>\n",
       "      <td>2021-08-11 16:45:15</td>\n",
       "      <td>6.71</td>\n",
       "      <td>499</td>\n",
       "      <td>00:37:01</td>\n",
       "      <td>145</td>\n",
       "      <td>162</td>\n",
       "      <td>5:31</td>\n",
       "      <td>33</td>\n",
       "      <td>35</td>\n",
       "      <td>00:00:00</td>\n",
       "      <td>00:37:07</td>\n",
       "    </tr>\n",
       "    <tr>\n",
       "      <th>3</th>\n",
       "      <td>2021-08-09 18:29:54</td>\n",
       "      <td>3.69</td>\n",
       "      <td>266</td>\n",
       "      <td>00:24:01</td>\n",
       "      <td>126</td>\n",
       "      <td>135</td>\n",
       "      <td>6:30</td>\n",
       "      <td>10</td>\n",
       "      <td>9</td>\n",
       "      <td>00:23:46</td>\n",
       "      <td>00:24:58</td>\n",
       "    </tr>\n",
       "    <tr>\n",
       "      <th>4</th>\n",
       "      <td>2021-08-08 15:41:30</td>\n",
       "      <td>9.57</td>\n",
       "      <td>738</td>\n",
       "      <td>00:47:00</td>\n",
       "      <td>167</td>\n",
       "      <td>183</td>\n",
       "      <td>4:55</td>\n",
       "      <td>28</td>\n",
       "      <td>31</td>\n",
       "      <td>00:46:55</td>\n",
       "      <td>00:47:16</td>\n",
       "    </tr>\n",
       "    <tr>\n",
       "      <th>5</th>\n",
       "      <td>2021-08-07 15:12:24</td>\n",
       "      <td>7.26</td>\n",
       "      <td>539</td>\n",
       "      <td>00:40:01</td>\n",
       "      <td>145</td>\n",
       "      <td>163</td>\n",
       "      <td>5:31</td>\n",
       "      <td>32</td>\n",
       "      <td>35</td>\n",
       "      <td>00:40:00</td>\n",
       "      <td>00:40:08</td>\n",
       "    </tr>\n",
       "    <tr>\n",
       "      <th>6</th>\n",
       "      <td>2021-08-01 12:55:47</td>\n",
       "      <td>6.98</td>\n",
       "      <td>571</td>\n",
       "      <td>00:39:17</td>\n",
       "      <td>155</td>\n",
       "      <td>183</td>\n",
       "      <td>5:37</td>\n",
       "      <td>174</td>\n",
       "      <td>175</td>\n",
       "      <td>00:38:59</td>\n",
       "      <td>00:40:17</td>\n",
       "    </tr>\n",
       "    <tr>\n",
       "      <th>7</th>\n",
       "      <td>2021-07-29 18:52:50</td>\n",
       "      <td>6.82</td>\n",
       "      <td>523</td>\n",
       "      <td>00:37:01</td>\n",
       "      <td>152</td>\n",
       "      <td>168</td>\n",
       "      <td>5:26</td>\n",
       "      <td>29</td>\n",
       "      <td>30</td>\n",
       "      <td>00:36:59</td>\n",
       "      <td>00:37:23</td>\n",
       "    </tr>\n",
       "    <tr>\n",
       "      <th>8</th>\n",
       "      <td>2021-07-26 17:02:04</td>\n",
       "      <td>6.74</td>\n",
       "      <td>520</td>\n",
       "      <td>00:37:02</td>\n",
       "      <td>150</td>\n",
       "      <td>165</td>\n",
       "      <td>5:30</td>\n",
       "      <td>30</td>\n",
       "      <td>35</td>\n",
       "      <td>00:36:44</td>\n",
       "      <td>00:37:20</td>\n",
       "    </tr>\n",
       "    <tr>\n",
       "      <th>9</th>\n",
       "      <td>2021-07-24 11:40:53</td>\n",
       "      <td>6.93</td>\n",
       "      <td>513</td>\n",
       "      <td>00:38:01</td>\n",
       "      <td>147</td>\n",
       "      <td>164</td>\n",
       "      <td>5:29</td>\n",
       "      <td>36</td>\n",
       "      <td>35</td>\n",
       "      <td>00:38:00</td>\n",
       "      <td>00:38:01</td>\n",
       "    </tr>\n",
       "  </tbody>\n",
       "</table>\n",
       "</div>"
      ],
      "text/plain": [
       "                  Date  Distance  Calories      Time  Avg HR  Max HR Avg Pace  \\\n",
       "0  2021-08-15 18:14:06      8.93       673  00:45:01     159     181     5:02   \n",
       "1  2021-08-13 17:55:40      7.48       566  00:41:01     148     166     5:29   \n",
       "2  2021-08-11 16:45:15      6.71       499  00:37:01     145     162     5:31   \n",
       "3  2021-08-09 18:29:54      3.69       266  00:24:01     126     135     6:30   \n",
       "4  2021-08-08 15:41:30      9.57       738  00:47:00     167     183     4:55   \n",
       "5  2021-08-07 15:12:24      7.26       539  00:40:01     145     163     5:31   \n",
       "6  2021-08-01 12:55:47      6.98       571  00:39:17     155     183     5:37   \n",
       "7  2021-07-29 18:52:50      6.82       523  00:37:01     152     168     5:26   \n",
       "8  2021-07-26 17:02:04      6.74       520  00:37:02     150     165     5:30   \n",
       "9  2021-07-24 11:40:53      6.93       513  00:38:01     147     164     5:29   \n",
       "\n",
       "   Elev Gain  Elev Loss Moving Time Elapsed Time  \n",
       "0         11         13    00:00:00     00:45:43  \n",
       "1         28         30    00:00:00     00:41:17  \n",
       "2         33         35    00:00:00     00:37:07  \n",
       "3         10          9    00:23:46     00:24:58  \n",
       "4         28         31    00:46:55     00:47:16  \n",
       "5         32         35    00:40:00     00:40:08  \n",
       "6        174        175    00:38:59     00:40:17  \n",
       "7         29         30    00:36:59     00:37:23  \n",
       "8         30         35    00:36:44     00:37:20  \n",
       "9         36         35    00:38:00     00:38:01  "
      ]
     },
     "execution_count": 31,
     "metadata": {},
     "output_type": "execute_result"
    }
   ],
   "source": [
    "Running_Data.head(10)"
   ]
  },
  {
   "cell_type": "markdown",
   "metadata": {},
   "source": [
    "## Practical example"
   ]
  },
  {
   "cell_type": "markdown",
   "metadata": {},
   "source": [
    "This is a practical example from a program I wrote to scrape job boards of new jobs. I have provided a few core functions which show you how python interacts a database through MySQL. This is to demonstrate how you can use pythons ability to progam something general and link it to SQL to store it in a database."
   ]
  },
  {
   "cell_type": "code",
   "execution_count": 32,
   "metadata": {},
   "outputs": [],
   "source": [
    "def FindNav(URL, Database, Username, Password, Load = False):\n",
    "\n",
    "    browser = webdriver.Chrome(ChromeDriverManager().install())\n",
    "    browser.get(URL)\n",
    "\n",
    "    NewPage = JobPages.Paginator(browser)\n",
    "    Characteristic = NewPage.Navigator\n",
    "    ID = NewPage.id\n",
    "\n",
    "    browser.quit()\n",
    "\n",
    "    if Load:\n",
    "        conn, Cursor = Connect2db(Database, Username, Password)\n",
    "        Cursor.execute(\"INSERT INTO clients(Name, Characteristic, ID) \" \\\n",
    "                       \"VALUES('{}', '{}', {})\".format(URL, Characteristic, ID))\n",
    "        conn.commit()\n",
    "\n",
    "        Cursor.close()\n",
    "        conn.close()\n",
    "\n",
    "    return Characteristic, ID"
   ]
  },
  {
   "cell_type": "code",
   "execution_count": 33,
   "metadata": {},
   "outputs": [],
   "source": [
    "def FindListing(URL, Database, Username, Password, Exp_Number = 1, Load = False):\n",
    "\n",
    "    browser = webdriver.Chrome(ChromeDriverManager().install())\n",
    "    browser.get(URL)\n",
    "    browser.maximize_window()\n",
    "\n",
    "    PrevHeight = browser.execute_script(\"return document.body.scrollHeight\")\n",
    "\n",
    "    Listing = JobPages.Job_Listings(browser, Exp_Number)\n",
    "\n",
    "    Details = Listing.DisplayType\n",
    "    Mode = Details[0]\n",
    "    Element = Details[1]\n",
    "    Tag = Details[2]\n",
    "    TagName = Details[3]\n",
    "    AttName = Details[4]\n",
    "\n",
    "    if type(Element) == type(np.array([])):\n",
    "        Element = 0\n",
    "\n",
    "    browser.quit()\n",
    "\n",
    "    if Load:\n",
    "\n",
    "        conn, Cursor = Connect2db(Database, Username, Password)\n",
    "\n",
    "        Cursor.execute(\"INSERT INTO jobhtmls(Name, Mode, Element, Tag, TagName, AttributeName) \" \\\n",
    "                       \"VALUES('{}', {}, {}, '{}', '{}', '{}')\".format(URL, Mode, Element, Tag, TagName, AttName))\n",
    "\n",
    "        conn.commit()\n",
    "\n",
    "        Cursor.close()\n",
    "        conn.close()\n",
    "\n",
    "    return Details"
   ]
  },
  {
   "cell_type": "code",
   "execution_count": 34,
   "metadata": {},
   "outputs": [
    {
     "ename": "SyntaxError",
     "evalue": "invalid syntax (<ipython-input-34-bd30879cd185>, line 29)",
     "output_type": "error",
     "traceback": [
      "\u001b[1;36m  File \u001b[1;32m\"<ipython-input-34-bd30879cd185>\"\u001b[1;36m, line \u001b[1;32m29\u001b[0m\n\u001b[1;33m    TotalNumberOfJobs = 0\u001b[0m\n\u001b[1;37m    ^\u001b[0m\n\u001b[1;31mSyntaxError\u001b[0m\u001b[1;31m:\u001b[0m invalid syntax\n"
     ]
    }
   ],
   "source": [
    "def SearchJob(URL, BrowserURL, JobTypes, Database, Username, Password, PATH, JobIndex, MaxPage, KeywordSearch, Sort, FilteredSearch, SaveAs):\n",
    "\n",
    "    try:\n",
    "        WebPage = Utils.LoadURL()\n",
    "        WebPage.Load(URL)\n",
    "        browser = WebPage.browser\n",
    "        FailSafe = Thread(target = Utils.CatchHang, args=(WebPage, ))\n",
    "        FailSafe.start()\n",
    "\n",
    "        browser.maximize_window()\n",
    "    \n",
    "        Utils.WaitForAccess(browser)\n",
    "\n",
    "        #---> Establish connection to database of relevant HTML information.\n",
    "        conn, Cursor = Connect2db(Database, Username, Password)\n",
    "\n",
    "        #---> Pull over relevant HTML information.\n",
    "        Cursor.execute(\"SELECT * FROM jobhtmls WHERE Name LIKE '%{}%'\".format(URL.split('https://www.')[1].split('.co')[0]))\n",
    "        Cache = Cursor.fetchall()[0]\n",
    "\n",
    "        #---> Pull over navigator details.\n",
    "        Cursor.execute(\"SELECT Characteristic, ID FROM clients WHERE Name LIKE '%{}%'\".format(URL.split('https://www.')[1].split('.co')[0]))\n",
    "        Characteristic, ID = Cursor.fetchall()[0]\n",
    "\n",
    "        Cursor.close()\n",
    "        conn.close()\n",
    "        \n",
    "    #---> Initialise to no jobs yet found.\n",
    "    TotalNumberOfJobs = 0\n",
    "\n",
    "    for Job in JobTypes:\n",
    "        BrowserErrors = True\n",
    "        ErrorCount = 0\n",
    "        while BrowserErrors == True:\n",
    "            if ErrorCount > 10:\n",
    "                print('Error count exceeded 10, moving to next job keyword.')\n",
    "                break\n",
    "\n",
    "            PageNumber = 1\n",
    "            Job = Job.title()\n",
    "            try:\n",
    "                CurrentURL = browser.current_url\n",
    "                if KeywordSearch == True:\n",
    "                    SearchBar.SearchFor(Job)\n",
    "                if (Sort == True ) and (SortPossible == True):\n",
    "                    SortPage.Sort()\n",
    "                    ErrorID = '1 '\n",
    "\n",
    "                ProceedToNextPage = True\n",
    "                TotalNewJobs = []\n",
    "\n",
    "                if BrowserURL != URL:\n",
    "                    URL = BrowserURL\n",
    "                    browser.get(BrowserURL)\n",
    "        \n",
    "                while (ProceedToNextPage == True) and (PageNumber <= MaxPage):\n",
    "                    ErrorID = '2 '\n",
    "                    NewJobs, ProceedToNextPage, FirstJobElement = FilterNewJobs(Cache, SaveAs, browser, Database, Username, Password, PATH, FilteredSearch=FilteredSearch)\n",
    "                    ErrorID = '3 '\n",
    "                    TotalNewJobs += NewJobs\n",
    "                    print(len(TotalNewJobs))\n",
    "                    if (ProceedToNextPage == True) and (PageNumber < MaxPage):    \n",
    "                        ProceedToNextPage = JobPages.Clicker(browser, ID, Characteristic, Cache, FirstJobElement)\n",
    "                        Utils.WaitForAccess(browser)\n",
    "                    PageNumber += 1\n",
    "\n",
    "            except exceptions.TimeoutException:\n",
    "                ErrorCount += 1\n",
    "                print('Timeout caught, rebooting webpage...')\n",
    "                browser.quit()\n",
    "                return True, CurrentURL, JobIndex\n",
    "            except:\n",
    "                ErrorCount += 1\n",
    "                #---> This error occurs if the failsafe detects a pagehang. The page has been shutdown by the failsafe.\n",
    "                if 'MaxRetryError' in str(sys.exc_info()[0]):\n",
    "                        print('Pagehang caught, rebooting...')\n",
    "                        return True, CurrentURL, JobIndex\n",
    "                else:\n",
    "                    Utils.SaveError(SaveAs, 'ID: '+ErrorID+SaveAs+' , {}'.format(URL), 'JobPullErrorAt', PATH)\n",
    "                continue\n",
    "\n",
    "            #---> This is only reached if neither page hangs nor errors are found.\n",
    "            TotalNumberOfJobs += len(TotalNewJobs)\n",
    "            JobIndex += 1\n",
    "            BrowserErrors = False \n",
    "\n",
    "    browser.quit()\n",
    "\n",
    "    return False, TotalNumberOfJobs, JobIndex"
   ]
  },
  {
   "cell_type": "code",
   "execution_count": 35,
   "metadata": {},
   "outputs": [
    {
     "ename": "SyntaxError",
     "evalue": "unexpected EOF while parsing (<ipython-input-35-90d183d4fe0d>, line 33)",
     "output_type": "error",
     "traceback": [
      "\u001b[1;36m  File \u001b[1;32m\"<ipython-input-35-90d183d4fe0d>\"\u001b[1;36m, line \u001b[1;32m33\u001b[0m\n\u001b[1;33m    elif Duplicate == True:\u001b[0m\n\u001b[1;37m                           ^\u001b[0m\n\u001b[1;31mSyntaxError\u001b[0m\u001b[1;31m:\u001b[0m unexpected EOF while parsing\n"
     ]
    }
   ],
   "source": [
    "def Add2db(URL, Job, JobTitle, Database, Username, Password, PATH):\n",
    "\n",
    "    DateToday = date.today().strftime(\"%d/%m/%Y\")\n",
    "\n",
    "    conn, Cursor = Connect2db(Database, username = Username, password = Password)\n",
    "    Link = Job.find_element_by_tag_name('a').get_attribute('href')\n",
    "\n",
    "    try: \n",
    "        Cursor.execute(\"SELECT Job_Title, Location, Company FROM newjobs\")\n",
    "        Data = Cursor.fetchall()\n",
    "\n",
    "        #For when the database is empty.\n",
    "        if len(Data) == 0:\n",
    "            Duplicate = False\n",
    "        else:\n",
    "            Duplicate, Proximity = Utils.DuplicateTest((Title, Location, Company), Data)\n",
    "\n",
    "    except:\n",
    "        Utils.SaveError('adding to database', 'Company: {} \\n Job_Title: {} \\n Link: {}'.format(Company, Title, Link), 'DBErrorAt', PATH)\n",
    "        return None\n",
    "    \n",
    "    #---> Occurs if the job isn't in the database, i.e. a new job.\n",
    "    if Duplicate == False: \n",
    "        Cursor.execute(\"INSERT INTO NewJobs(Job_Title, Location, Company, Salary, Link, Date_Added, Job_Type, Description) \"\\\n",
    "                        'VALUES(\"{}\", \"{}\", \"{}\", \"{}\", \"{}\", \"{}\", \"{}\", \"{}\")'.format(Title, Location, Company, Pay, Link, DateToday, JobTitle.casefold(), Description))    \n",
    "        conn.commit()\n",
    "\n",
    "        Cursor.close()\n",
    "        conn.close()\n",
    "\n",
    "        return None\n",
    "\n",
    "    elif Duplicate == True:"
   ]
  }
 ],
 "metadata": {
  "kernelspec": {
   "display_name": "Python 3",
   "language": "python",
   "name": "python3"
  },
  "language_info": {
   "codemirror_mode": {
    "name": "ipython",
    "version": 3
   },
   "file_extension": ".py",
   "mimetype": "text/x-python",
   "name": "python",
   "nbconvert_exporter": "python",
   "pygments_lexer": "ipython3",
   "version": "3.8.5"
  }
 },
 "nbformat": 4,
 "nbformat_minor": 4
}
