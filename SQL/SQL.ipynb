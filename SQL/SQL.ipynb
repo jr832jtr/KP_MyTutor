{
 "cells": [
  {
   "cell_type": "markdown",
   "metadata": {},
   "source": [
    "# SQL"
   ]
  },
  {
   "cell_type": "markdown",
   "metadata": {},
   "source": [
    "## Introduction"
   ]
  },
  {
   "cell_type": "markdown",
   "metadata": {},
   "source": [
    "SQL stands for 'Structured Query Language', which perfectly describes what it does. It is a bespoke programming language designed for **query structured datasets**, specifically, relational databases. **Relational** databases are databases which are **related** by common columns - i.e. they have a common 'property' which links the data in some way. For example if you were to have two databases comprising defining characteristics of a building and of people, they could be related by the fact that they both have the property of height."
   ]
  },
  {
   "cell_type": "markdown",
   "metadata": {},
   "source": [
    "You are familiar with python and the package pandas, both of which are easy to understand and use. SQL is even nicer, and if you can work with pandas then you will be able to work with SQL as well."
   ]
  },
  {
   "cell_type": "markdown",
   "metadata": {},
   "source": [
    "## MySQL"
   ]
  },
  {
   "cell_type": "markdown",
   "metadata": {},
   "source": [
    "In this notebook I am using MySQL, which is an integrated database and SQL system. It allows for the **creation** and **manipulation** of databases. SQL alone is just for querying and managing databases, it does not have a role in their implementation and storage. MySQL is a software which allows for the creation of datastorage as relational databases, and uses SQL to manipulate that data.\n",
    "\n",
    "There are many other relational database management systems, all of which use SQL to query them. I am just using MySQL. In anycase, all the code snippets and syntax I use here is SQL."
   ]
  },
  {
   "cell_type": "markdown",
   "metadata": {},
   "source": [
    "## Preliminary: Connecting to a MySQL server"
   ]
  },
  {
   "cell_type": "markdown",
   "metadata": {},
   "source": [
    "To access our database we need to connect to a MySQL server which provides the tools offered by MySQL. From a windows terminal:"
   ]
  },
  {
   "cell_type": "markdown",
   "metadata": {},
   "source": [
    "```C:> mysql -u root -h localhost -p```"
   ]
  },
  {
   "cell_type": "markdown",
   "metadata": {},
   "source": [
    "The 'C:>' is just the starting point for the terminal, everything after is typed. To start MySQL we run the program ```mysql``` followed by arguments specified by ```-letter```. In our case I have specified ```-u root``` which signs me in as the root user (the creater of the system); ```-h localhost```, which specifies the host server location as local (my own machine); and ```-p```, which prompts a password entry after I enter the above."
   ]
  },
  {
   "cell_type": "markdown",
   "metadata": {},
   "source": [
    "After this, I am connected to my MySQL server, and have access to its services."
   ]
  },
  {
   "cell_type": "markdown",
   "metadata": {},
   "source": [
    "## 1. Create a database"
   ]
  },
  {
   "cell_type": "markdown",
   "metadata": {},
   "source": [
    "We shall start by creating a database:"
   ]
  },
  {
   "cell_type": "markdown",
   "metadata": {},
   "source": [
    "```CREATE DATABASE kiara_db;```"
   ]
  },
  {
   "cell_type": "markdown",
   "metadata": {},
   "source": [
    "In SQL is standard to capitalise SQL commands and leave names of variables and other things uncapitalised. This helps make clear what instructions are being given. They are also finished by a semi-colon. Pressing enter after not entering a semi-colon will take you to a new line which is nice for giving clarity to longer SQL commands, as you will see later."
   ]
  },
  {
   "cell_type": "markdown",
   "metadata": {},
   "source": [
    "<img src=\"./Screenshots/Create_Database.png\" width=1000 height=1000 />"
   ]
  },
  {
   "cell_type": "markdown",
   "metadata": {},
   "source": [
    "We now need to tell SQL that we want our commands to be directed towards **this** database, and not another one:"
   ]
  },
  {
   "cell_type": "markdown",
   "metadata": {},
   "source": [
    "<img src=\"./Screenshots/Use_Database.png\" width=1000 height=1000 />"
   ]
  },
  {
   "cell_type": "markdown",
   "metadata": {},
   "source": [
    "## 2. Store and load data"
   ]
  },
  {
   "cell_type": "markdown",
   "metadata": {},
   "source": [
    "We have our database, which is our chunk of storage where we keep data. We now want to be able to store data into our database, for which will need a table. A table is just how datasets are individually stored within a database, without them it would just be one big, unorganised mass of data. The basic syntax for creating a table is as follows:"
   ]
  },
  {
   "cell_type": "markdown",
   "metadata": {},
   "source": [
    "```CREATE TABLE stock_prices (column_1 DATATYPE_1, column_2 DATATYPE_2, ...)```"
   ]
  },
  {
   "cell_type": "markdown",
   "metadata": {},
   "source": [
    "Here we have specified our table name, and then within the brackets we have specified our column names and their prospective datatypes. Note: column and their datatypes are separated by whitespace, but different columns are separated by commas."
   ]
  },
  {
   "cell_type": "markdown",
   "metadata": {},
   "source": [
    "<img src=\"./Screenshots/Create_Table.png\" width=1000 height=1000 />"
   ]
  },
  {
   "cell_type": "markdown",
   "metadata": {},
   "source": [
    "Note: where I have not added a semi-colon, the terminal has put me onto another line, which you can see is much clearer than if it was all one big line."
   ]
  },
  {
   "cell_type": "markdown",
   "metadata": {},
   "source": [
    "There are many variables that can be declared and a list of all of them can be found [here](https://www.w3schools.com/sql/sql_datatypes.asp). The ones I have used are: VARCHAR(X), (variable character) which essentially specifies a string of maximum length X - in our case 50; INT is an integer, and FLOAT is a float."
   ]
  },
  {
   "cell_type": "markdown",
   "metadata": {},
   "source": [
    "We have set up a table and it is ready to be loaded with data. This can be done manually, from a file using SQL, or from a file using python. There is a very useful python package which combines the general programming properties of python with the databasing power of SQL, which we shall come onto later."
   ]
  },
  {
   "cell_type": "markdown",
   "metadata": {},
   "source": [
    "The syntax for manually adding data into a table is:"
   ]
  },
  {
   "cell_type": "markdown",
   "metadata": {},
   "source": [
    "```mysql> INSERT INTO table_name (column_1, column_2, ..., column_n)\n",
    "     -> VALUES (value_1, value_2, ..., value_n);```"
   ]
  },
  {
   "cell_type": "markdown",
   "metadata": {},
   "source": [
    "Where you can specify as many columns as you want, or if you want to add data to every column you can drop the first set of brackets:"
   ]
  },
  {
   "cell_type": "markdown",
   "metadata": {},
   "source": [
    "```mysql> INSERT INTO table_name\n",
    "     -> VALUES (value_1, value_2, ..., value_n);```"
   ]
  },
  {
   "cell_type": "markdown",
   "metadata": {},
   "source": [
    "In our case we want to load data from a file, so we will use the LOAD DATA argument:"
   ]
  },
  {
   "cell_type": "markdown",
   "metadata": {},
   "source": [
    "<img src=\"./Screenshots/Load_Data.png\" width=1000 height=1000 />"
   ]
  },
  {
   "cell_type": "markdown",
   "metadata": {},
   "source": [
    "We can check if the data has been formatted as we want with ```SELECT column_1, column_2, ..., column_n FROM TABLE```. Again if you want to get all columns you replace the column names with an asterisk:"
   ]
  },
  {
   "cell_type": "markdown",
   "metadata": {},
   "source": [
    "<img src=\"./Screenshots/SELECT.png\" width=1000 height=1000 />"
   ]
  },
  {
   "cell_type": "markdown",
   "metadata": {},
   "source": [
    "Seems about right.I have also specified the ```LIMIT``` argument which is similar to ```DataFrame.head()``` in pandas."
   ]
  },
  {
   "cell_type": "markdown",
   "metadata": {},
   "source": [
    "We can see there are some useless data columns so we can drop them as follows:"
   ]
  },
  {
   "cell_type": "markdown",
   "metadata": {},
   "source": [
    "<img src=\"./Screenshots/DROP.png\" width=1000 height=1000 />"
   ]
  },
  {
   "cell_type": "markdown",
   "metadata": {},
   "source": [
    "The power of SQL lies in its ability to manipulate data that is *related*, so lets add in another table:"
   ]
  },
  {
   "cell_type": "markdown",
   "metadata": {},
   "source": [
    "### TASK"
   ]
  },
  {
   "cell_type": "markdown",
   "metadata": {},
   "source": [
    "- Create another table for the company names. The data is delimted by an ';', has four columns: Id, SimFinId, Company Name, and Industry Id, with datatypes: string, integer, string, integer, respectively. \n",
    "- What is the syntax to get the first 10 rows from our table?"
   ]
  },
  {
   "cell_type": "markdown",
   "metadata": {},
   "source": [
    "This more or less how the table should look:"
   ]
  },
  {
   "cell_type": "markdown",
   "metadata": {},
   "source": [
    "<img src=\"./Screenshots/New_Database.png\" width=1000 height=1000 />"
   ]
  },
  {
   "cell_type": "markdown",
   "metadata": {},
   "source": [
    "We can now join them as in `DataFrame.merge()`:"
   ]
  },
  {
   "cell_type": "markdown",
   "metadata": {},
   "source": [
    "<img src=\"./Screenshots/JOIN.png\" width=1000 height=1000 />"
   ]
  },
  {
   "cell_type": "markdown",
   "metadata": {},
   "source": [
    "## Part 3: Nesting tables and queries"
   ]
  },
  {
   "cell_type": "markdown",
   "metadata": {},
   "source": [
    "### Note on general syntax"
   ]
  },
  {
   "cell_type": "markdown",
   "metadata": {},
   "source": [
    "The general rule of SQL syntaxing is `FUNCTION` `ARGUMENT`. So some function followed by white space followed by the arguement. Some functions require definitions (like `CREATE [DATABASE_NAME]`), others have in-built options to choose from like `ORDER BY [COLUMN] {ASC|DESC}` where you choose to order a column by ascending or descending order. The `ASC|DESC` are the in-built options to choose from."
   ]
  },
  {
   "cell_type": "markdown",
   "metadata": {},
   "source": [
    "We have seen above, a glimpse of nesting queries and hence tables. This is really what makes SQL so useful, is the ability to chop and change tables to get what we want, and makes for a very powerful language for manipulating data."
   ]
  },
  {
   "cell_type": "markdown",
   "metadata": {},
   "source": [
    "The essence is that, just like in pandas returning DataFrame operations returning DataFrames, operations on tables return tables. This allows you to chain functions together. Above, I have done by first inner joining stock_prices to company_names and then selecting all the column names, and grouping on this. However, this is quite a basic example."
   ]
  },
  {
   "cell_type": "markdown",
   "metadata": {},
   "source": [
    "The best way to chain together different queries is to do them one by one. So let's first look at the average stock price of companies before March."
   ]
  },
  {
   "cell_type": "markdown",
   "metadata": {},
   "source": [
    "<img src=\"./Screenshots/Stocks_Before.png\" width=1000 height=1000 />"
   ]
  },
  {
   "cell_type": "markdown",
   "metadata": {},
   "source": [
    "There are a few things to break down here, I will go through them line by line. \n",
    "- On the first line I have used an aggregate funciton, `AVG()` which takes the average of a column. This is followed by the `AS` function, which provides an alias to the column in the new table, which you can see in the output. This is helpful when you `JOIN` tables with similar or identical names.\n",
    "- The second and third lines are where the table I am referencing begins. I `JOIN` the stock_prices table to the company_names table and I want to join on the ticker column as above.\n",
    "- I then use the `WHERE` function which is the equivalent to a mask in pandas. Here I pick out the dates with month less than March.\n",
    "- Finally I `GROUP BY` company_name, so the `AVG(Close)` will now do so over the groups, and I output the top 10 rows with `LIMIT`."
   ]
  },
  {
   "cell_type": "markdown",
   "metadata": {},
   "source": [
    "So this isn't too interesting, other than showing us how some companies are doing compared to others (even this isn't a good indicator as it doesn't show volume of stocks). But let's look at the stock_prices after March 2020:"
   ]
  },
  {
   "cell_type": "markdown",
   "metadata": {},
   "source": [
    "<img src=\"./Screenshots/Stocks_After.png\" width=1000 height=1000 />"
   ]
  },
  {
   "cell_type": "markdown",
   "metadata": {},
   "source": [
    "This is analogous to the before case."
   ]
  },
  {
   "cell_type": "markdown",
   "metadata": {},
   "source": [
    "I can now combine the two tables above by joining them, to produce a complete table of average stock prices before and after March:"
   ]
  },
  {
   "cell_type": "markdown",
   "metadata": {},
   "source": [
    "<img src=\"./Screenshots/Before_and_After.png\" width=1000 height=1000 />"
   ]
  },
  {
   "cell_type": "markdown",
   "metadata": {},
   "source": [
    "The two indented sections are identical as the two tables I created above, except now I have given them aliases of Pre_Pan and Post_Pan. This is necessary so that I can treat them as saved variables rather than temporary data, meaning I can refer to them as I would any other table. This is equivalent to:"
   ]
  },
  {
   "cell_type": "markdown",
   "metadata": {},
   "source": [
    "<img src=\"./Screenshots/Aliases.png\" width=1000 height=1000 />"
   ]
  },
  {
   "cell_type": "markdown",
   "metadata": {},
   "source": [
    "However, we can do one better. We can create new tables from these manipulations so we don't have to have these long SQL commands. However the above is a good illustration of what is happening, and how you can manipulate tables by chaining commands."
   ]
  },
  {
   "cell_type": "markdown",
   "metadata": {},
   "source": [
    "<img src=\"./Screenshots/Pre_Pan.png\" width=1000 height=1000 />"
   ]
  },
  {
   "cell_type": "markdown",
   "metadata": {},
   "source": [
    "<img src=\"./Screenshots/Post_Pan.png\" width=1000 height=1000 />"
   ]
  },
  {
   "cell_type": "markdown",
   "metadata": {},
   "source": [
    "Now we can see what tables we have to check what we have done makes sense:"
   ]
  },
  {
   "cell_type": "markdown",
   "metadata": {},
   "source": [
    "<img src=\"./Screenshots/New_Tables.png\" width=1000 height=1000 />"
   ]
  },
  {
   "cell_type": "markdown",
   "metadata": {},
   "source": [
    "Our new tables are stored in the database, great."
   ]
  },
  {
   "cell_type": "markdown",
   "metadata": {},
   "source": [
    "Now that we have saved our tables, we can manipulate them with out having to keep track of long SQL commands. So let's see which companies average stock prices increased after March when compared to before March:"
   ]
  },
  {
   "cell_type": "markdown",
   "metadata": {},
   "source": [
    "<img src=\"./Screenshots/Successful_Comps.png\" width=1000 height=1000 />"
   ]
  },
  {
   "cell_type": "markdown",
   "metadata": {},
   "source": [
    "And those whose stock prices decreased:"
   ]
  },
  {
   "cell_type": "markdown",
   "metadata": {},
   "source": [
    "<img src=\"./Screenshots/Failed_Comps.png\" width=1000 height=1000 />"
   ]
  },
  {
   "cell_type": "markdown",
   "metadata": {},
   "source": [
    "Here I have also shown how to generate a random selection of rows, logic functions, and other types of arithmetic offered by SQL:\n",
    "- `RAND() <= .3` selects rows at random with a probability less than or equal to 0.3/30%.\n",
    "- `AND` (`OR`, `NOT`) statements allow you to chain `WHERE`, and `LIKE` clauses. You only need to add the `WHERE` or `LIKE` clause once and then chain your statements separated by `AND`, `OR` or `NOT`. There is no need to repeat the `WHERE` for example.\n",
    "- I divided Close_Before by Close_After to see how stock prices changed as a fractor of their original value."
   ]
  },
  {
   "cell_type": "markdown",
   "metadata": {},
   "source": [
    "That more or less wraps up the important parts of SQL, there are other functions and things you can do but it is analagous or an extension of what we have covered in this notebook. Here are some useful guides which I used to learn SQL:\n",
    "- https://www.sohamkamani.com/blog/2016/07/07/a-beginners-guide-to-sql/ - Beginners guide\n",
    "- https://www.stat.berkeley.edu/~spector/sql.pdf - Useful lecture slides\n",
    "- https://selectstarsql.com/hiatuses.html - Interesting hands-on guide"
   ]
  },
  {
   "cell_type": "code",
   "execution_count": null,
   "metadata": {},
   "outputs": [],
   "source": []
  }
 ],
 "metadata": {
  "kernelspec": {
   "display_name": "Python 3",
   "language": "python",
   "name": "python3"
  },
  "language_info": {
   "codemirror_mode": {
    "name": "ipython",
    "version": 3
   },
   "file_extension": ".py",
   "mimetype": "text/x-python",
   "name": "python",
   "nbconvert_exporter": "python",
   "pygments_lexer": "ipython3",
   "version": "3.8.5"
  }
 },
 "nbformat": 4,
 "nbformat_minor": 4
}
